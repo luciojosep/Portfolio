{
  "nbformat": 4,
  "nbformat_minor": 0,
  "metadata": {
    "colab": {
      "provenance": [],
      "include_colab_link": true
    },
    "kernelspec": {
      "name": "python3",
      "display_name": "Python 3"
    },
    "language_info": {
      "name": "python"
    }
  },
  "cells": [
    {
      "cell_type": "markdown",
      "metadata": {
        "id": "view-in-github",
        "colab_type": "text"
      },
      "source": [
        "<a href=\"https://colab.research.google.com/github/luciojosep/Portfolio/blob/main/Clase_1.ipynb\" target=\"_parent\"><img src=\"https://colab.research.google.com/assets/colab-badge.svg\" alt=\"Open In Colab\"/></a>"
      ]
    },
    {
      "cell_type": "markdown",
      "source": [
        "# Tipos de datos"
      ],
      "metadata": {
        "id": "0B102v_HWzHe"
      }
    },
    {
      "cell_type": "markdown",
      "source": [
        "## Enteros y numéricas"
      ],
      "metadata": {
        "id": "NjHQmwQLYAl5"
      }
    },
    {
      "cell_type": "code",
      "execution_count": null,
      "metadata": {
        "colab": {
          "base_uri": "https://localhost:8080/"
        },
        "id": "SMOmO0KbWd5k",
        "outputId": "88358134-4e1f-41af-e8d2-b400271b6ea5"
      },
      "outputs": [
        {
          "output_type": "stream",
          "name": "stdout",
          "text": [
            "3 <class 'int'>\n",
            "2.0 <class 'float'>\n"
          ]
        }
      ],
      "source": [
        "# Variable entera\n",
        "x=3\n",
        "# Variable numérica\n",
        "y=2.0\n",
        "print(x,type(x))\n",
        "print(y,type(y))"
      ]
    },
    {
      "cell_type": "code",
      "source": [
        "# Coerción de variable numérica a entera\n",
        "y1=int(y)\n",
        "print(y1,type(y1))\n",
        "# Coerción de valor fraccionario a entero\n",
        "x1=int(2.75)\n",
        "x2=int(2.5)\n",
        "# Notar que siempre \"trunca\" el resultado al entero anterior\n",
        "print(x1,type(x1))\n",
        "print(x2,type(x2))"
      ],
      "metadata": {
        "colab": {
          "base_uri": "https://localhost:8080/"
        },
        "id": "YsDqZB0EZW_3",
        "outputId": "bec7e437-07c4-4130-b0c0-c2120b0909ec"
      },
      "execution_count": null,
      "outputs": [
        {
          "output_type": "stream",
          "name": "stdout",
          "text": [
            "2 <class 'int'>\n",
            "2 <class 'int'>\n",
            "2 <class 'int'>\n"
          ]
        }
      ]
    },
    {
      "cell_type": "markdown",
      "source": [
        "### Operaciones"
      ],
      "metadata": {
        "id": "ZUR_kMSTY1JB"
      }
    },
    {
      "cell_type": "code",
      "source": [
        "# Suma de variables enteras\n",
        "print(x+y1,type(x+y1))\n",
        "# Resta de variables enteras\n",
        "print(x-y1,type(x-y1))\n",
        "# Multiplicación de variables enteras\n",
        "print(x*y1,type(x*y1))\n",
        "# División de variables enteras\n",
        "print(x/y1,type(x/y1))\n",
        "# Potenciación de variables enteras\n",
        "print(x**y1,type(x**y1))"
      ],
      "metadata": {
        "colab": {
          "base_uri": "https://localhost:8080/"
        },
        "id": "akBF3I3BdG4h",
        "outputId": "e5038ba5-d058-4b4d-b25d-0622ce6bdd65"
      },
      "execution_count": null,
      "outputs": [
        {
          "output_type": "stream",
          "name": "stdout",
          "text": [
            "5 <class 'int'>\n",
            "1 <class 'int'>\n",
            "6 <class 'int'>\n",
            "1.5 <class 'float'>\n",
            "9 <class 'int'>\n"
          ]
        }
      ]
    },
    {
      "cell_type": "code",
      "source": [
        "# Suma de una variable entera y una numérica\n",
        "print(x+y,type(x+y))\n",
        "# Resta de una variable entera y una numérica\n",
        "print(x-y,type(x-y))\n",
        "# Multiplicación de una variable entera y una numérica\n",
        "print(x*y,type(x*y))\n",
        "# División de una variable entera y una numérica\n",
        "print(x/y,type(x/y))\n",
        "# Potenciación de una variable entera y una numérica\n",
        "print(x**y,type(x**y))"
      ],
      "metadata": {
        "colab": {
          "base_uri": "https://localhost:8080/"
        },
        "id": "1RhbWHYRY5a3",
        "outputId": "cad34b3a-9735-4f33-c760-6079947b8b66"
      },
      "execution_count": null,
      "outputs": [
        {
          "output_type": "stream",
          "name": "stdout",
          "text": [
            "5.0 <class 'float'>\n",
            "1.0 <class 'float'>\n",
            "6.0 <class 'float'>\n",
            "1.5 <class 'float'>\n",
            "9.0 <class 'float'>\n"
          ]
        }
      ]
    },
    {
      "cell_type": "markdown",
      "source": [
        "## Variables booleanas"
      ],
      "metadata": {
        "id": "kCAeb-VieMzS"
      }
    },
    {
      "cell_type": "code",
      "source": [
        "b=True\n",
        "print(b,type(b))"
      ],
      "metadata": {
        "colab": {
          "base_uri": "https://localhost:8080/"
        },
        "id": "iHaVT6bDecjO",
        "outputId": "afc42859-f281-49fc-f8ab-c105394388d0"
      },
      "execution_count": null,
      "outputs": [
        {
          "output_type": "stream",
          "name": "stdout",
          "text": [
            "True <class 'bool'>\n"
          ]
        }
      ]
    },
    {
      "cell_type": "markdown",
      "source": [
        "### Comparaciones"
      ],
      "metadata": {
        "id": "ryfgAS-Lekfd"
      }
    },
    {
      "cell_type": "code",
      "source": [
        "# Igualdad\n",
        "print(x==y,type(x==y))\n",
        "# Menor o igual\n",
        "print(x<=y,type(x<=y))\n",
        "# Mayor o igual\n",
        "print(x>=y,type(x>=y))\n",
        "# Desigualdad\n",
        "print(x!=y,type(x!=y))"
      ],
      "metadata": {
        "colab": {
          "base_uri": "https://localhost:8080/"
        },
        "id": "bg6Ga0LJekGg",
        "outputId": "94389e00-f958-4144-c69c-62c06e7b08e8"
      },
      "execution_count": null,
      "outputs": [
        {
          "output_type": "stream",
          "name": "stdout",
          "text": [
            "False <class 'bool'>\n",
            "False <class 'bool'>\n",
            "True <class 'bool'>\n",
            "True <class 'bool'>\n"
          ]
        }
      ]
    },
    {
      "cell_type": "markdown",
      "source": [
        "### Coerción a variable entera\n",
        "\n"
      ],
      "metadata": {
        "id": "P6gdlh6efnUN"
      }
    },
    {
      "cell_type": "code",
      "source": [
        "# Las booleanas que son falsas, se convierten en 0 al hacerlas enteras\n",
        "print(x==y,int(x==y),type(int(x==y)))\n",
        "# Las booleanas que son verdaderas, se convierten en 1 al hacerlas enteras\n",
        "print(x!=y,int(x!=y),type(int(x!=y)))\n",
        "# Otra forma de transformar la variable booleana en entera es multiplicando por 1\n",
        "print((x==y)*1,type((x==y)*1))\n",
        "print((x!=y)*1,type((x!=y)*1))\n",
        "# Al sumar booleanas, se transforman inmediatamente en variables enteras para poder realizar la operación\n",
        "print((x==y)+(x!=y),type((x==y)+(x!=y)))"
      ],
      "metadata": {
        "colab": {
          "base_uri": "https://localhost:8080/"
        },
        "id": "7FsStMIZfTLW",
        "outputId": "341f3be8-3b34-4a6f-ea4b-e665f4b0e168"
      },
      "execution_count": null,
      "outputs": [
        {
          "output_type": "stream",
          "name": "stdout",
          "text": [
            "False 0 <class 'int'>\n",
            "True 1 <class 'int'>\n",
            "0 <class 'int'>\n",
            "1 <class 'int'>\n",
            "1 <class 'int'>\n"
          ]
        }
      ]
    },
    {
      "cell_type": "markdown",
      "source": [
        "## Caracteres o strings"
      ],
      "metadata": {
        "id": "Qg4QLFg6gaOI"
      }
    },
    {
      "cell_type": "code",
      "source": [
        "s=\"Hola\"\n",
        "t=\"Mundo\"\n",
        "print(s,type(s))\n",
        "print(t,type(t))"
      ],
      "metadata": {
        "colab": {
          "base_uri": "https://localhost:8080/"
        },
        "id": "uFt-tc9IhK41",
        "outputId": "f7d35b7a-d25a-479f-f5cf-244ee50b05e0"
      },
      "execution_count": null,
      "outputs": [
        {
          "output_type": "stream",
          "name": "stdout",
          "text": [
            "Hola <class 'str'>\n",
            "Mundo <class 'str'>\n"
          ]
        }
      ]
    },
    {
      "cell_type": "markdown",
      "source": [
        "### Operaciones"
      ],
      "metadata": {
        "id": "Hj2zXdmPjh_G"
      }
    },
    {
      "cell_type": "code",
      "source": [
        "# Suma\n",
        "print(s+t,type(s+t))\n",
        "# Multiplicación por un escalar\n",
        "print(s*4,type(s*4))"
      ],
      "metadata": {
        "colab": {
          "base_uri": "https://localhost:8080/"
        },
        "id": "bv5mmiC5i7VI",
        "outputId": "f2bd9f25-88b6-46f6-9145-d6dd9b1b1eb2"
      },
      "execution_count": null,
      "outputs": [
        {
          "output_type": "stream",
          "name": "stdout",
          "text": [
            "HolaMundo <class 'str'>\n",
            "HolaHolaHolaHola <class 'str'>\n"
          ]
        }
      ]
    },
    {
      "cell_type": "markdown",
      "source": [
        "### Coerción"
      ],
      "metadata": {
        "id": "kVx-wAwckDUs"
      }
    },
    {
      "cell_type": "code",
      "source": [
        "xs=str(x)\n",
        "print(xs,type(xs))"
      ],
      "metadata": {
        "colab": {
          "base_uri": "https://localhost:8080/"
        },
        "id": "nMpiNw4ikOfV",
        "outputId": "2bea0a84-138c-427c-9f6b-49e0a84f25ce"
      },
      "execution_count": null,
      "outputs": [
        {
          "output_type": "stream",
          "name": "stdout",
          "text": [
            "3 <class 'str'>\n"
          ]
        }
      ]
    },
    {
      "cell_type": "code",
      "source": [
        "# Otra forma de imprimir valores, especificando la variable\n",
        "print(\"x=\"+str(x))"
      ],
      "metadata": {
        "colab": {
          "base_uri": "https://localhost:8080/"
        },
        "id": "bLu2xD-Aj5e_",
        "outputId": "19dd5021-e8e1-4cfb-e01a-6297f7f8d0aa"
      },
      "execution_count": null,
      "outputs": [
        {
          "output_type": "stream",
          "name": "stdout",
          "text": [
            "x=3\n"
          ]
        }
      ]
    },
    {
      "cell_type": "markdown",
      "source": [
        "## Listas"
      ],
      "metadata": {
        "id": "e64mSyG7lZid"
      }
    },
    {
      "cell_type": "code",
      "source": [
        "l1=[x,y,s]\n",
        "print(l1,type(l1))"
      ],
      "metadata": {
        "colab": {
          "base_uri": "https://localhost:8080/"
        },
        "id": "VNYTdMP3l4iy",
        "outputId": "f3d5a909-2559-45c1-c719-7650e648ef35"
      },
      "execution_count": null,
      "outputs": [
        {
          "output_type": "stream",
          "name": "stdout",
          "text": [
            "[3, 2.0, 'Hola'] <class 'list'>\n"
          ]
        }
      ]
    },
    {
      "cell_type": "markdown",
      "source": [
        "### Indexación"
      ],
      "metadata": {
        "id": "4_NNsNkGmEWb"
      }
    },
    {
      "cell_type": "code",
      "source": [
        "# Primer coordenada\n",
        "print(l1[0],type(l1[0]))\n",
        "# Segunda coordenada\n",
        "print(l1[1],type(l1[1]))\n",
        "# Tercer coordenada\n",
        "print(l1[2],type(l1[2]))\n",
        "# Notar que pueden coexistir distintos tipos de datos"
      ],
      "metadata": {
        "colab": {
          "base_uri": "https://localhost:8080/"
        },
        "id": "Oh8SAHb-mHSv",
        "outputId": "ef2dd95c-c7fe-4ed0-e26e-6f8e041f33f3"
      },
      "execution_count": null,
      "outputs": [
        {
          "output_type": "stream",
          "name": "stdout",
          "text": [
            "3 <class 'int'>\n",
            "2.0 <class 'float'>\n",
            "Hola <class 'str'>\n"
          ]
        }
      ]
    },
    {
      "cell_type": "code",
      "source": [
        "# Se puede recorrer la lista en sentido contrario con índices negativos\n",
        "print(l1[-1],type(l1[-1]))\n",
        "print(l1[-2],type(l1[-2]))\n",
        "print(l1[-3],type(l1[-3]))"
      ],
      "metadata": {
        "colab": {
          "base_uri": "https://localhost:8080/"
        },
        "id": "oTRnFKVetF2G",
        "outputId": "83db8d95-8312-46c8-9103-b620531369a1"
      },
      "execution_count": null,
      "outputs": [
        {
          "output_type": "stream",
          "name": "stdout",
          "text": [
            "Hola <class 'str'>\n",
            "2.0 <class 'float'>\n",
            "3 <class 'int'>\n"
          ]
        }
      ]
    },
    {
      "cell_type": "code",
      "source": [
        "# A su vez, la tercer coordenada tiene sus propios índices, ya que se considera a un string de caracteres como un vector\n",
        "print(l1[2][0],type(l1[2][0]))\n",
        "print(l1[2][1],type(l1[2][1]))\n",
        "print(l1[2][2],type(l1[2][2]))\n",
        "print(l1[2][3],type(l1[2][3]))"
      ],
      "metadata": {
        "colab": {
          "base_uri": "https://localhost:8080/"
        },
        "id": "vjlPZnXemjK-",
        "outputId": "9314ba3d-9e03-41d8-a63d-61b50935abf7"
      },
      "execution_count": null,
      "outputs": [
        {
          "output_type": "stream",
          "name": "stdout",
          "text": [
            "H <class 'str'>\n",
            "o <class 'str'>\n",
            "l <class 'str'>\n",
            "a <class 'str'>\n"
          ]
        }
      ]
    },
    {
      "cell_type": "code",
      "source": [
        "# Otra forma de seleccionar valores es con lo que se llama \"slicing\" donde se utilizan los dos puntos, donde nunca se incluye el segundo valor\n",
        "\n",
        "# Selecciona de la segunda hasta la cuarta coordenada de s\n",
        "print(\"s=\"+s,\"s[1:4]=\"+s[1:4])\n",
        "# Selecciona de la primera hasta la tercera coordenada de s\n",
        "print(\"s=\"+s,\"s[0:2]=\"+s[0:3])\n",
        "# Si se omite el primer valor, comienza desde el principio\n",
        "print(\"s=\"+s,\"s[:2]=\"+s[:3])\n",
        "# Si se omite el segundo valor, interpreta que debe ir hasta el final\n",
        "print(\"s=\"+s,\"s[1:]=\"+s[1:])"
      ],
      "metadata": {
        "colab": {
          "base_uri": "https://localhost:8080/"
        },
        "id": "eV72JAJAt9QW",
        "outputId": "b8eacb8e-7818-4216-8652-77f7757401c4"
      },
      "execution_count": null,
      "outputs": [
        {
          "output_type": "stream",
          "name": "stdout",
          "text": [
            "s=Hola s[1:4]=ola\n",
            "s=Hola s[0:2]=Hol\n",
            "s=Hola s[:2]=Hol\n",
            "s=Hola s[1:]=ola\n"
          ]
        }
      ]
    },
    {
      "cell_type": "markdown",
      "source": [
        "## Operaciones"
      ],
      "metadata": {
        "id": "c3cvyvLG1l_u"
      }
    },
    {
      "cell_type": "code",
      "source": [
        "print(l1+l1,type(l1+l1))\n",
        "print(l1*4,type(l1*4))"
      ],
      "metadata": {
        "colab": {
          "base_uri": "https://localhost:8080/"
        },
        "id": "pzfz1xLi1pYb",
        "outputId": "c6b5fa3e-a962-4027-9ba1-9f128ed608eb"
      },
      "execution_count": null,
      "outputs": [
        {
          "output_type": "stream",
          "name": "stdout",
          "text": [
            "[3, 2.0, 'Hola', 3, 2.0, 'Hola'] <class 'list'>\n",
            "[3, 2.0, 'Hola', 3, 2.0, 'Hola', 3, 2.0, 'Hola', 3, 2.0, 'Hola'] <class 'list'>\n"
          ]
        }
      ]
    },
    {
      "cell_type": "markdown",
      "source": [
        "### Copias\n"
      ],
      "metadata": {
        "id": "pj1hB7B-3uis"
      }
    },
    {
      "cell_type": "code",
      "source": [
        "l2=l1\n",
        "print(\"l1=\",l1,\"l2=\",l2)\n",
        "l2[0]=4\n",
        "# Cambia también l1 porque se copian en la misma dirección de memoria\n",
        "print(\"l1=\",l1,\"l2=\",l2)\n",
        "# Para evitarlo, se puede aplicar lo siguiente\n",
        "l1=l2[:]\n",
        "print(\"l1=\",l1,\"l2=\",l2)\n",
        "# Vuelvo a cambiar el primer elemento\n",
        "l1[0]=3\n",
        "# Ahora vuelven a ser distintos ambos\n",
        "print(\"l1=\",l1,\"l2=\",l2)\n"
      ],
      "metadata": {
        "colab": {
          "base_uri": "https://localhost:8080/"
        },
        "id": "YMQEcYfe2RsS",
        "outputId": "1bce1ad8-c237-4929-ebed-ff61915e44fd"
      },
      "execution_count": null,
      "outputs": [
        {
          "output_type": "stream",
          "name": "stdout",
          "text": [
            "l1= [3, 2.0, 'Hola'] l2= [3, 2.0, 'Hola']\n",
            "l1= [4, 2.0, 'Hola'] l2= [4, 2.0, 'Hola']\n",
            "l1= [4, 2.0, 'Hola'] l2= [4, 2.0, 'Hola']\n",
            "l1= [3, 2.0, 'Hola'] l2= [4, 2.0, 'Hola']\n"
          ]
        }
      ]
    },
    {
      "cell_type": "markdown",
      "source": [
        "# Paquetes\n",
        "\n",
        "## Numpy\n"
      ],
      "metadata": {
        "id": "GtxHBABNzLQL"
      }
    },
    {
      "cell_type": "code",
      "source": [
        "#Importo el paquete\n",
        "import numpy as np"
      ],
      "metadata": {
        "id": "j-dcImaG1MD4"
      },
      "execution_count": null,
      "outputs": []
    },
    {
      "cell_type": "code",
      "source": [
        "x1=np.array(l1)\n",
        "# Notar que son todos caracteres ya que el numpy array necesita unificar todos los tipos de datos\n",
        "print(x1,type(l1))"
      ],
      "metadata": {
        "colab": {
          "base_uri": "https://localhost:8080/"
        },
        "id": "4fonKtje1XGi",
        "outputId": "d077f0d9-17da-4ec2-ce06-216bd7ecf622"
      },
      "execution_count": null,
      "outputs": [
        {
          "output_type": "stream",
          "name": "stdout",
          "text": [
            "['3' '2.0' 'Hola'] <class 'list'>\n"
          ]
        }
      ]
    },
    {
      "cell_type": "markdown",
      "source": [
        "### Comandos útiles"
      ],
      "metadata": {
        "id": "twyZPLa934m-"
      }
    },
    {
      "cell_type": "code",
      "source": [
        "# Rango de valores enteros (no incluye el último)\n",
        "np1=np.arange(1,8)\n",
        "print(np1,type(np1))\n",
        "# Rango de valores enteros con saltos (no incluye el último)\n",
        "np2=np.arange(1,8,2)\n",
        "print(np2,type(np2))\n",
        "# Rango de valores continuos\n",
        "np3=np.linspace(1,8,4)\n",
        "print(np3,type(np3))\n",
        "# Vectores de ceros\n",
        "np4=np.zeros(4)\n",
        "print(np4,type(np4))\n",
        "# Vectores de unos\n",
        "np5=np.ones(4)\n",
        "print(np5,type(np5))"
      ],
      "metadata": {
        "colab": {
          "base_uri": "https://localhost:8080/"
        },
        "id": "DcmviQj63rHS",
        "outputId": "823fdbc6-d7f8-4152-a0b0-f1b608f20054"
      },
      "execution_count": null,
      "outputs": [
        {
          "output_type": "stream",
          "name": "stdout",
          "text": [
            "[1 2 3 4 5 6 7] <class 'numpy.ndarray'>\n",
            "[1 3 5 7] <class 'numpy.ndarray'>\n",
            "[1.         3.33333333 5.66666667 8.        ] <class 'numpy.ndarray'>\n",
            "[0. 0. 0. 0.] <class 'numpy.ndarray'>\n",
            "[1. 1. 1. 1.] <class 'numpy.ndarray'>\n"
          ]
        }
      ]
    },
    {
      "cell_type": "markdown",
      "source": [
        "### Operaciones"
      ],
      "metadata": {
        "id": "VRADsoSBC3Uj"
      }
    },
    {
      "cell_type": "code",
      "source": [
        "# Suma\n",
        "print(np2+np3)\n",
        "# Resta\n",
        "print(np2-np3)\n",
        "# Producto\n",
        "print(np2*np3)\n",
        "# División\n",
        "print(np2/np3)\n",
        "# Potenciación\n",
        "print(np2**np3)"
      ],
      "metadata": {
        "colab": {
          "base_uri": "https://localhost:8080/"
        },
        "id": "FTiCShyVC5lX",
        "outputId": "5170b2ee-74dc-4fbe-b443-f989ebdda311"
      },
      "execution_count": null,
      "outputs": [
        {
          "output_type": "stream",
          "name": "stdout",
          "text": [
            "[ 2.          6.33333333 10.66666667 15.        ]\n",
            "[ 0.         -0.33333333 -0.66666667 -1.        ]\n",
            "[ 1.         10.         28.33333333 56.        ]\n",
            "[1.         0.9        0.88235294 0.875     ]\n",
            "[1.00000000e+00 3.89407384e+01 9.13755543e+03 5.76480100e+06]\n"
          ]
        }
      ]
    },
    {
      "cell_type": "markdown",
      "source": [
        "### Vectores aleatorios"
      ],
      "metadata": {
        "id": "36rNsm0MCHAZ"
      }
    },
    {
      "cell_type": "code",
      "source": [
        "# Valores uniformes entre 0 y 1\n",
        "np6=np.random.rand(100)\n",
        "print(np6)\n",
        "# Valores normales estándard\n",
        "np7=np.random.rand(100)\n",
        "print(np7)"
      ],
      "metadata": {
        "id": "HAZiRUWkCOtR",
        "colab": {
          "base_uri": "https://localhost:8080/"
        },
        "outputId": "5eb9a4ea-fd4e-4998-dca0-88eb9e05e53b"
      },
      "execution_count": null,
      "outputs": [
        {
          "output_type": "stream",
          "name": "stdout",
          "text": [
            "[0.73758949 0.18194862 0.6742445  0.87344223 0.16159084 0.07032136\n",
            " 0.74018201 0.25766908 0.75871743 0.41328609 0.76448099 0.23255164\n",
            " 0.75208844 0.78201753 0.53293744 0.17232927 0.67832037 0.87333218\n",
            " 0.45018924 0.96936417 0.69691713 0.8005449  0.85289201 0.05089754\n",
            " 0.54341402 0.44272017 0.29902053 0.27190517 0.82830493 0.61725964\n",
            " 0.55867778 0.00463446 0.28378278 0.41605953 0.47517266 0.54564516\n",
            " 0.2773908  0.9439411  0.94312864 0.39767133 0.61627972 0.47234617\n",
            " 0.89105547 0.06158322 0.06839107 0.56789805 0.91265988 0.10728035\n",
            " 0.80244042 0.57626164 0.65662961 0.99646504 0.27231743 0.97100694\n",
            " 0.84888119 0.8089522  0.49920522 0.22929803 0.23147473 0.46173738\n",
            " 0.47098613 0.82373799 0.5365068  0.86154196 0.56784896 0.76658561\n",
            " 0.41100551 0.13190074 0.24694969 0.75776019 0.7484062  0.66469388\n",
            " 0.3659341  0.75966058 0.35150938 0.39852308 0.80430325 0.03016171\n",
            " 0.38599791 0.18808294 0.4287198  0.27471019 0.71724495 0.38784254\n",
            " 0.96304843 0.564633   0.07745081 0.64856308 0.83458278 0.50033593\n",
            " 0.47779886 0.73568377 0.51177256 0.36945102 0.22756188 0.10128769\n",
            " 0.87353391 0.77510599 0.25216425 0.51855081]\n",
            "[5.73416137e-01 1.12495625e-01 7.53504646e-01 2.08289389e-01\n",
            " 3.08272111e-01 8.25645939e-01 2.68668042e-01 1.34612365e-02\n",
            " 4.58829737e-01 6.46257297e-01 7.77726090e-03 6.41753489e-02\n",
            " 5.91388077e-01 1.21749492e-01 9.58875018e-01 1.49594127e-01\n",
            " 4.58444028e-01 2.72243838e-01 6.76551527e-01 6.10722435e-01\n",
            " 9.73776794e-01 3.18030485e-01 7.01580834e-01 8.17001826e-01\n",
            " 1.29461420e-01 3.64531783e-01 6.88266708e-01 9.34458362e-02\n",
            " 6.58512140e-02 1.44505978e-01 6.64763011e-01 4.14742158e-01\n",
            " 4.85045159e-01 3.46113108e-02 6.06877036e-01 7.75575884e-01\n",
            " 2.95217399e-01 3.09631299e-01 5.64534703e-01 4.58844613e-01\n",
            " 5.12771405e-02 8.73476582e-01 9.94561942e-01 4.50220595e-01\n",
            " 8.23892321e-01 9.22394584e-01 8.43792207e-01 7.74089877e-01\n",
            " 6.24455070e-01 9.50218764e-02 5.56695161e-01 5.28979936e-01\n",
            " 2.16356728e-03 5.92305754e-01 3.26202569e-01 4.98885487e-01\n",
            " 7.11632447e-01 6.44174987e-01 3.56831740e-01 2.35188493e-01\n",
            " 7.57966934e-02 5.63515554e-01 2.62583845e-01 3.02837134e-01\n",
            " 7.06550842e-01 4.47008128e-01 4.89069181e-01 3.53196217e-01\n",
            " 1.41036106e-01 3.50815781e-01 6.82585436e-01 6.92386520e-01\n",
            " 3.68199682e-02 3.74571239e-01 4.23684782e-02 1.01771719e-01\n",
            " 5.98330207e-01 3.04612323e-01 5.17302792e-01 7.33854717e-01\n",
            " 8.13537240e-01 2.29025248e-01 7.73061099e-01 9.47799864e-03\n",
            " 3.07052236e-02 5.17782548e-04 2.06616061e-01 4.01281146e-01\n",
            " 8.13096132e-01 1.44367913e-01 3.52638266e-02 8.51420113e-01\n",
            " 8.72534051e-01 7.78784248e-01 7.52527690e-01 8.41725564e-01\n",
            " 3.00027050e-01 4.43837879e-01 5.42373523e-02 9.11412261e-01]\n"
          ]
        }
      ]
    },
    {
      "cell_type": "code",
      "source": [
        "# Funciones estadísticas\n",
        "print(\"Uniforme - Media:\",np.mean(np6),\"Desvío:\",np.std(np6),\"Mínimo:\",np.min(np6),\"Máximo:\",np.max(np6))\n",
        "print(\"Normal - Media:\",np.mean(np7),\"Desvío:\",np.std(np7),\"Mínimo:\",np.min(np7),\"Máximo:\",np.max(np7))"
      ],
      "metadata": {
        "id": "kcnTuLrfCYX0",
        "colab": {
          "base_uri": "https://localhost:8080/"
        },
        "outputId": "6a63986c-4a7a-4536-f93b-2c95e75c6261"
      },
      "execution_count": null,
      "outputs": [
        {
          "output_type": "stream",
          "name": "stdout",
          "text": [
            "Uniforme - Media: 0.5289088583358291 Desvío: 0.2698619609402789 Mínimo: 0.0046344600737222574 Máximo: 0.9964650360315729\n",
            "Normal - Media: 0.44933367859013523 Desvío: 0.2897466856137557 Mínimo: 0.0005177825479315556 Máximo: 0.9945619423750877\n"
          ]
        }
      ]
    },
    {
      "cell_type": "markdown",
      "source": [
        "### Matrices\n"
      ],
      "metadata": {
        "id": "4zg42bd16E-y"
      }
    },
    {
      "cell_type": "code",
      "source": [
        "# Con varios vectores de la misma longitud, se puede hacer una matriz\n",
        "m1=np.array([np2,np3,np4,np5])\n",
        "print(m1,type(m1))\n",
        "# Con varias matrices se pueden generar matrices de matrices (se suelen denominar tensores)\n",
        "m2=np.array([m1,m1])\n",
        "print(m2,type(m2))"
      ],
      "metadata": {
        "colab": {
          "base_uri": "https://localhost:8080/"
        },
        "id": "GEdboNz04Ka2",
        "outputId": "7705646e-d1c8-4a77-80ff-2c83363b0d30"
      },
      "execution_count": null,
      "outputs": [
        {
          "output_type": "stream",
          "name": "stdout",
          "text": [
            "[[1.         3.         5.         7.        ]\n",
            " [1.         3.33333333 5.66666667 8.        ]\n",
            " [0.         0.         0.         0.        ]\n",
            " [1.         1.         1.         1.        ]] <class 'numpy.ndarray'>\n",
            "[[[1.         3.         5.         7.        ]\n",
            "  [1.         3.33333333 5.66666667 8.        ]\n",
            "  [0.         0.         0.         0.        ]\n",
            "  [1.         1.         1.         1.        ]]\n",
            "\n",
            " [[1.         3.         5.         7.        ]\n",
            "  [1.         3.33333333 5.66666667 8.        ]\n",
            "  [0.         0.         0.         0.        ]\n",
            "  [1.         1.         1.         1.        ]]] <class 'numpy.ndarray'>\n"
          ]
        }
      ]
    },
    {
      "cell_type": "code",
      "source": [
        "# Indexación\n",
        "# Segunda fila tercer columna de m1\n",
        "print(m1[1,2])\n",
        "# Segunda fila de m1\n",
        "print(m1[1,:])\n",
        "# Tercer columna de m1\n",
        "print(m1[:,2])\n",
        "# Primer \"matriz\" de m2\n",
        "print(m2[0,:,:])\n",
        "# Primeras \"filas\" de m2\n",
        "print(m2[:,0,:])\n",
        "# Primeras \"columnas\" de m2\n",
        "print(m2[:,:,0])"
      ],
      "metadata": {
        "colab": {
          "base_uri": "https://localhost:8080/"
        },
        "id": "tEbB-YWm7Egg",
        "outputId": "b14e3e09-41a1-434a-9bae-8646fe580e4c"
      },
      "execution_count": null,
      "outputs": [
        {
          "output_type": "stream",
          "name": "stdout",
          "text": [
            "5.666666666666667\n",
            "[1.         3.33333333 5.66666667 8.        ]\n",
            "[5.         5.66666667 0.         1.        ]\n",
            "[[1.         3.         5.         7.        ]\n",
            " [1.         3.33333333 5.66666667 8.        ]\n",
            " [0.         0.         0.         0.        ]\n",
            " [1.         1.         1.         1.        ]]\n",
            "[[1. 3. 5. 7.]\n",
            " [1. 3. 5. 7.]]\n",
            "[[1. 1. 0. 1.]\n",
            " [1. 1. 0. 1.]]\n"
          ]
        }
      ]
    },
    {
      "cell_type": "markdown",
      "source": [
        "## Pandas"
      ],
      "metadata": {
        "id": "lbM6z2TG_LuV"
      }
    },
    {
      "cell_type": "code",
      "source": [
        "import pandas as pd"
      ],
      "metadata": {
        "id": "FtTwxuicAwoR"
      },
      "execution_count": null,
      "outputs": []
    },
    {
      "cell_type": "code",
      "source": [
        "# Definiendo una base con una columna\n",
        "df=pd.DataFrame(np2,columns= [\"V1\"])\n",
        "print(df,type(df))\n",
        "# Agregando una columna nueva\n",
        "df[\"V2\"]=[\"A\",\"B\"]*2\n",
        "print(df,type(df))"
      ],
      "metadata": {
        "colab": {
          "base_uri": "https://localhost:8080/"
        },
        "id": "6lkpyFNiA2jD",
        "outputId": "6dac16ef-e0e1-4fca-ef68-6039ac1c60dc"
      },
      "execution_count": null,
      "outputs": [
        {
          "output_type": "stream",
          "name": "stdout",
          "text": [
            "   V1\n",
            "0   1\n",
            "1   3\n",
            "2   5\n",
            "3   7 <class 'pandas.core.frame.DataFrame'>\n",
            "   V1 V2\n",
            "0   1  A\n",
            "1   3  B\n",
            "2   5  A\n",
            "3   7  B <class 'pandas.core.frame.DataFrame'>\n"
          ]
        }
      ]
    },
    {
      "cell_type": "markdown",
      "source": [
        "### Atributos y métodos\n",
        "\n",
        "Aprovecharemos los DataFrame para hacer la diferencia entre un atributo y un método para un tipo abstracto de dato. Ambos se utilizan mediante un punto luego del objeto.\n",
        "\n",
        "* **Atributo:** Cuando un tipo de datos tiene mucha información pertinente, no siempre es necesario ni práctico guardar toda esa información en una misma estructura de datos. Los atributos separan todos los datos pertinentes para poder acceder a cada uno de ellos puntualmente. Sólo se accede a ellos, y no se modifican a menos que se les asigne otro valor.\n",
        "\n",
        "*Ejemplos:*"
      ],
      "metadata": {
        "id": "zYCC9DUjGgc6"
      }
    },
    {
      "cell_type": "code",
      "source": [
        "# De la base de datos puedo querer saber la cantidad de filas y columnas de la base principal, no tiene sentido visualizar esa información\n",
        "print(\"Atributo Shape: Cantidad de filas y columnas\",df.shape,type(df.shape))\n",
        "# También se puede acceder a los nombres que se les da a las filas\n",
        "print(\"Nombre filas:\",df.index,type(df.index))\n",
        "# Para acceder sólo a los nombres que se les otorgó a las columnas\n",
        "print(\"Nombres columnas:\",df.columns,type(df.columns))\n",
        "# A veces también los atributos tienen atributos\n",
        "print(\"Nombres columnas en formato lista:\",df.columns.values,type(df.columns.values))"
      ],
      "metadata": {
        "colab": {
          "base_uri": "https://localhost:8080/"
        },
        "id": "One7CLDdITxp",
        "outputId": "56b36bc8-8d3e-4b10-fcb8-7be30cace224"
      },
      "execution_count": null,
      "outputs": [
        {
          "output_type": "stream",
          "name": "stdout",
          "text": [
            "Atributo Shape: Cantidad de filas y columnas (4, 2) <class 'tuple'>\n",
            "Nombre filas: RangeIndex(start=0, stop=4, step=1) <class 'pandas.core.indexes.range.RangeIndex'>\n",
            "Nombres columnas: Index(['V1', 'V2'], dtype='object') <class 'pandas.core.indexes.base.Index'>\n",
            "Nombres columnas en formato lista: ['V1' 'V2'] <class 'numpy.ndarray'>\n"
          ]
        }
      ]
    },
    {
      "cell_type": "markdown",
      "source": [
        "* **Método:** Un método es una función específica para ese tipo de datos. En este caso, una función que toma un DataFrame como argumento y devuelve otra cosa. Al ser una **función**, puede necesitar otros argumentos entre **paréntesis** además del DataFrame (que se toma de forma implícita). A continuación vemos los métodos para DataFrame que más utilizaremos.\n",
        "\n",
        "*Ejemplos:*"
      ],
      "metadata": {
        "id": "dtKXCWAtJy7b"
      }
    },
    {
      "cell_type": "code",
      "source": [
        "# Este comando toma las primeras filas de la base de datos\n",
        "print(\"head:\")\n",
        "print(df.head())\n",
        "# Cambiando el argumento, se puede restringir más la cantidad de filas mostradas\n",
        "print(\"head (n=3):\")\n",
        "print(df.head(3))\n",
        "# Este método permite ver qué tipo de datos se usa para cada columna\n",
        "print(\"info:\")\n",
        "print(df.info())\n",
        "# Este método muestra los valores más importantes para describir las variables cuantitativas (V1)\n",
        "print(\"describe:\")\n",
        "print(df[\"V1\"].describe())\n",
        "# Este método cuenta cuántos valores corresponden a cada nivel de una variable cualitativa (V2)\n",
        "print(\"value_counts:\")\n",
        "print(df[\"V2\"].value_counts())"
      ],
      "metadata": {
        "colab": {
          "base_uri": "https://localhost:8080/"
        },
        "id": "y06rA54KMAtJ",
        "outputId": "dbd50ecb-7497-42a0-f265-a670b0f01259"
      },
      "execution_count": null,
      "outputs": [
        {
          "output_type": "stream",
          "name": "stdout",
          "text": [
            "head:\n",
            "   V1 V2\n",
            "0   1  A\n",
            "1   3  B\n",
            "2   5  A\n",
            "3   7  B\n",
            "head (n=3):\n",
            "   V1 V2\n",
            "0   1  A\n",
            "1   3  B\n",
            "2   5  A\n",
            "info:\n",
            "<class 'pandas.core.frame.DataFrame'>\n",
            "RangeIndex: 4 entries, 0 to 3\n",
            "Data columns (total 2 columns):\n",
            " #   Column  Non-Null Count  Dtype \n",
            "---  ------  --------------  ----- \n",
            " 0   V1      4 non-null      int64 \n",
            " 1   V2      4 non-null      object\n",
            "dtypes: int64(1), object(1)\n",
            "memory usage: 192.0+ bytes\n",
            "None\n",
            "describe:\n",
            "count    4.000000\n",
            "mean     4.000000\n",
            "std      2.581989\n",
            "min      1.000000\n",
            "25%      2.500000\n",
            "50%      4.000000\n",
            "75%      5.500000\n",
            "max      7.000000\n",
            "Name: V1, dtype: float64\n",
            "value_counts:\n",
            "A    2\n",
            "B    2\n",
            "Name: V2, dtype: int64\n"
          ]
        }
      ]
    },
    {
      "cell_type": "markdown",
      "source": [
        "### Indexación\n",
        "\n",
        "Para encontrar valores específicos de una base de datos, se utilizan los siguientes métodos:\n",
        "\n",
        "* `\".loc\"`: Permite encontrar filas y/o columnas por sus nombres o por valores booleanos.\n",
        "\n",
        "* `\".iloc\"`: Permite encontrar filas y/o columnas por su ubicación."
      ],
      "metadata": {
        "id": "BUjCzb4GODaq"
      }
    },
    {
      "cell_type": "code",
      "source": [
        "# Indexación por columnas (Columna V1)\n",
        "print(df[\"V1\"])\n",
        "# Indexación por filas (Fila 1 en adelante)\n",
        "print(df.loc[1:])\n",
        "# Datos con filas cuyos datos de V1 son mayores que 4\n",
        "print(df.loc[df[\"V1\"]>4])\n",
        "# Indexación por filas y columnas (Fila 1 en adelante y columna \"V2\")\n",
        "print(df.loc[1:,[\"V2\"]])\n",
        "# Indexación entera\n",
        "# Fila 1\n",
        "print(df.iloc[0])\n",
        "# Columna 2\n",
        "print(df.iloc[:,1])\n",
        "# Fila 1 - Columna 2\n",
        "print(df.iloc[0,1])"
      ],
      "metadata": {
        "colab": {
          "base_uri": "https://localhost:8080/"
        },
        "id": "Da8uRet6PHhR",
        "outputId": "2bbba61d-e549-4439-fe09-9a452f4b4a6f"
      },
      "execution_count": null,
      "outputs": [
        {
          "output_type": "stream",
          "name": "stdout",
          "text": [
            "0    1\n",
            "1    3\n",
            "2    5\n",
            "3    7\n",
            "Name: V1, dtype: int64\n",
            "   V1 V2\n",
            "1   3  B\n",
            "2   5  A\n",
            "3   7  B\n",
            "   V1 V2\n",
            "2   5  A\n",
            "3   7  B\n",
            "  V2\n",
            "1  B\n",
            "2  A\n",
            "3  B\n",
            "V1    1\n",
            "V2    A\n",
            "Name: 0, dtype: object\n",
            "0    A\n",
            "1    B\n",
            "2    A\n",
            "3    B\n",
            "Name: V2, dtype: object\n",
            "A\n"
          ]
        }
      ]
    },
    {
      "cell_type": "markdown",
      "source": [
        "# Web Scraping\n",
        "\n",
        "## UCI\n",
        "\n",
        "[UCI](https://archive.ics.uci.edu/datasets) es un repositorio de datos para aplicar algoritmos de Machine Learning.\n",
        "\n",
        "A continuación vamos a descargar directamente una base de datos sobre automóviles desde la [página](https://archive.ics.uci.edu/dataset/9/auto+mpg) correspondiente.\n",
        "\n",
        "Si se abre en otra pestaña el link para descargar la base de datos, se obtiene el siguiente url:"
      ],
      "metadata": {
        "id": "TYAjGl0qbnyD"
      }
    },
    {
      "cell_type": "code",
      "source": [
        "url_forest = 'https://archive.ics.uci.edu/static/public/162/forest+fires.zip'"
      ],
      "metadata": {
        "id": "KO6bUbAkuzzd"
      },
      "execution_count": null,
      "outputs": []
    },
    {
      "cell_type": "code",
      "source": [
        "url=\"https://archive.ics.uci.edu/static/public/9/auto+mpg.zip\""
      ],
      "metadata": {
        "id": "zNzCxJiGjaeJ"
      },
      "execution_count": null,
      "outputs": []
    },
    {
      "cell_type": "markdown",
      "source": [
        "Para bajar la base de datos directamente, se puede usar un paquete que se llama `wget`, que no siempre está disponible y que por eso conviene instalarlo previamente."
      ],
      "metadata": {
        "id": "Vo3qTqU0jcLF"
      }
    },
    {
      "cell_type": "code",
      "source": [
        "!pip install wget\n",
        "import wget"
      ],
      "metadata": {
        "colab": {
          "base_uri": "https://localhost:8080/"
        },
        "id": "g5Wb20qqjv5u",
        "outputId": "0e58c5df-4c41-48d2-8158-3f0c1cf70bf5"
      },
      "execution_count": null,
      "outputs": [
        {
          "output_type": "stream",
          "name": "stdout",
          "text": [
            "Collecting wget\n",
            "  Downloading wget-3.2.zip (10 kB)\n",
            "  Preparing metadata (setup.py) ... \u001b[?25l\u001b[?25hdone\n",
            "Building wheels for collected packages: wget\n",
            "  Building wheel for wget (setup.py) ... \u001b[?25l\u001b[?25hdone\n",
            "  Created wheel for wget: filename=wget-3.2-py3-none-any.whl size=9655 sha256=17c302a271b61bcc3e8a67a9cf919ef6080eda98a31706e46bfba29d256e909e\n",
            "  Stored in directory: /root/.cache/pip/wheels/8b/f1/7f/5c94f0a7a505ca1c81cd1d9208ae2064675d97582078e6c769\n",
            "Successfully built wget\n",
            "Installing collected packages: wget\n",
            "Successfully installed wget-3.2\n"
          ]
        }
      ]
    },
    {
      "cell_type": "markdown",
      "source": [
        "Con este paquete, se puede bajar el archivo .zip con los datos desde el url."
      ],
      "metadata": {
        "id": "SdWEK6j2j6pR"
      }
    },
    {
      "cell_type": "code",
      "source": [
        "wget.download(url_forest, \"archivo.zip\")"
      ],
      "metadata": {
        "colab": {
          "base_uri": "https://localhost:8080/",
          "height": 35
        },
        "id": "j89DXX_LkI5V",
        "outputId": "2d990a1d-aba5-454b-9d28-e51716b710a2"
      },
      "execution_count": null,
      "outputs": [
        {
          "output_type": "execute_result",
          "data": {
            "text/plain": [
              "'archivo.zip'"
            ],
            "application/vnd.google.colaboratory.intrinsic+json": {
              "type": "string"
            }
          },
          "metadata": {},
          "execution_count": 3
        }
      ]
    },
    {
      "cell_type": "markdown",
      "source": [
        "Luego hay que extraer la base de datos del zip, por eso, se utilizan los siguientes comandos:"
      ],
      "metadata": {
        "id": "_f32FdXFkKOG"
      }
    },
    {
      "cell_type": "code",
      "source": [
        "import zipfile\n",
        "import os\n",
        "\n",
        "os.listdir()\n",
        "\n",
        "for file in os.listdir():\n",
        "    if file.endswith('.zip'):\n",
        "      zip_ref = zipfile.ZipFile(file, 'r')\n",
        "      zip_ref.extractall()\n",
        "      zip_ref.close()"
      ],
      "metadata": {
        "id": "RbUy7NLgkfVo"
      },
      "execution_count": null,
      "outputs": []
    },
    {
      "cell_type": "markdown",
      "source": [
        "Accedemos al contenido de archivos y vemos que el archivo se denomina `auto-mpg.data-original`. Para leer esta base podemos usar el comando `read_csv` del paquete `pandas`:"
      ],
      "metadata": {
        "id": "iLMjrxa3lGdf"
      }
    },
    {
      "cell_type": "code",
      "source": [
        "df = pd.read_csv('/content/forestfires.csv')\n",
        "#df=pd.read_csv(\"/content/auto-mpg.data-original\")"
      ],
      "metadata": {
        "id": "QCkqNylllM2d"
      },
      "execution_count": null,
      "outputs": []
    },
    {
      "cell_type": "markdown",
      "source": [
        "Vemos que los datos no quedan bien cargados con el método `.head()`:"
      ],
      "metadata": {
        "id": "45ovX-l-lTLH"
      }
    },
    {
      "cell_type": "code",
      "source": [
        "df.head()"
      ],
      "metadata": {
        "colab": {
          "base_uri": "https://localhost:8080/",
          "height": 250
        },
        "id": "9m716183lriH",
        "outputId": "25b2c7b7-22e2-4d38-dcf4-40ab0973af0c"
      },
      "execution_count": null,
      "outputs": [
        {
          "output_type": "execute_result",
          "data": {
            "text/plain": [
              "  18.0   8.   307.0      130.0      3504.      12.0   70.  1.\\t\"chevrolet chevelle malibu\"\n",
              "0  15.0   8.   350.0      165.0      3693.      1...                                      \n",
              "1  18.0   8.   318.0      150.0      3436.      1...                                      \n",
              "2  16.0   8.   304.0      150.0      3433.      1...                                      \n",
              "3  17.0   8.   302.0      140.0      3449.      1...                                      \n",
              "4  15.0   8.   429.0      198.0      4341.      1...                                      "
            ],
            "text/html": [
              "\n",
              "\n",
              "  <div id=\"df-8e6ed412-b689-4de1-91ff-f4995504a2de\">\n",
              "    <div class=\"colab-df-container\">\n",
              "      <div>\n",
              "<style scoped>\n",
              "    .dataframe tbody tr th:only-of-type {\n",
              "        vertical-align: middle;\n",
              "    }\n",
              "\n",
              "    .dataframe tbody tr th {\n",
              "        vertical-align: top;\n",
              "    }\n",
              "\n",
              "    .dataframe thead th {\n",
              "        text-align: right;\n",
              "    }\n",
              "</style>\n",
              "<table border=\"1\" class=\"dataframe\">\n",
              "  <thead>\n",
              "    <tr style=\"text-align: right;\">\n",
              "      <th></th>\n",
              "      <th>18.0   8.   307.0      130.0      3504.      12.0   70.  1.\\t\"chevrolet chevelle malibu\"</th>\n",
              "    </tr>\n",
              "  </thead>\n",
              "  <tbody>\n",
              "    <tr>\n",
              "      <th>0</th>\n",
              "      <td>15.0   8.   350.0      165.0      3693.      1...</td>\n",
              "    </tr>\n",
              "    <tr>\n",
              "      <th>1</th>\n",
              "      <td>18.0   8.   318.0      150.0      3436.      1...</td>\n",
              "    </tr>\n",
              "    <tr>\n",
              "      <th>2</th>\n",
              "      <td>16.0   8.   304.0      150.0      3433.      1...</td>\n",
              "    </tr>\n",
              "    <tr>\n",
              "      <th>3</th>\n",
              "      <td>17.0   8.   302.0      140.0      3449.      1...</td>\n",
              "    </tr>\n",
              "    <tr>\n",
              "      <th>4</th>\n",
              "      <td>15.0   8.   429.0      198.0      4341.      1...</td>\n",
              "    </tr>\n",
              "  </tbody>\n",
              "</table>\n",
              "</div>\n",
              "      <button class=\"colab-df-convert\" onclick=\"convertToInteractive('df-8e6ed412-b689-4de1-91ff-f4995504a2de')\"\n",
              "              title=\"Convert this dataframe to an interactive table.\"\n",
              "              style=\"display:none;\">\n",
              "\n",
              "  <svg xmlns=\"http://www.w3.org/2000/svg\" height=\"24px\"viewBox=\"0 0 24 24\"\n",
              "       width=\"24px\">\n",
              "    <path d=\"M0 0h24v24H0V0z\" fill=\"none\"/>\n",
              "    <path d=\"M18.56 5.44l.94 2.06.94-2.06 2.06-.94-2.06-.94-.94-2.06-.94 2.06-2.06.94zm-11 1L8.5 8.5l.94-2.06 2.06-.94-2.06-.94L8.5 2.5l-.94 2.06-2.06.94zm10 10l.94 2.06.94-2.06 2.06-.94-2.06-.94-.94-2.06-.94 2.06-2.06.94z\"/><path d=\"M17.41 7.96l-1.37-1.37c-.4-.4-.92-.59-1.43-.59-.52 0-1.04.2-1.43.59L10.3 9.45l-7.72 7.72c-.78.78-.78 2.05 0 2.83L4 21.41c.39.39.9.59 1.41.59.51 0 1.02-.2 1.41-.59l7.78-7.78 2.81-2.81c.8-.78.8-2.07 0-2.86zM5.41 20L4 18.59l7.72-7.72 1.47 1.35L5.41 20z\"/>\n",
              "  </svg>\n",
              "      </button>\n",
              "\n",
              "\n",
              "\n",
              "    <div id=\"df-aa598546-8571-4b49-9bda-f613c36bcf2d\">\n",
              "      <button class=\"colab-df-quickchart\" onclick=\"quickchart('df-aa598546-8571-4b49-9bda-f613c36bcf2d')\"\n",
              "              title=\"Suggest charts.\"\n",
              "              style=\"display:none;\">\n",
              "\n",
              "<svg xmlns=\"http://www.w3.org/2000/svg\" height=\"24px\"viewBox=\"0 0 24 24\"\n",
              "     width=\"24px\">\n",
              "    <g>\n",
              "        <path d=\"M19 3H5c-1.1 0-2 .9-2 2v14c0 1.1.9 2 2 2h14c1.1 0 2-.9 2-2V5c0-1.1-.9-2-2-2zM9 17H7v-7h2v7zm4 0h-2V7h2v10zm4 0h-2v-4h2v4z\"/>\n",
              "    </g>\n",
              "</svg>\n",
              "      </button>\n",
              "    </div>\n",
              "\n",
              "<style>\n",
              "  .colab-df-quickchart {\n",
              "    background-color: #E8F0FE;\n",
              "    border: none;\n",
              "    border-radius: 50%;\n",
              "    cursor: pointer;\n",
              "    display: none;\n",
              "    fill: #1967D2;\n",
              "    height: 32px;\n",
              "    padding: 0 0 0 0;\n",
              "    width: 32px;\n",
              "  }\n",
              "\n",
              "  .colab-df-quickchart:hover {\n",
              "    background-color: #E2EBFA;\n",
              "    box-shadow: 0px 1px 2px rgba(60, 64, 67, 0.3), 0px 1px 3px 1px rgba(60, 64, 67, 0.15);\n",
              "    fill: #174EA6;\n",
              "  }\n",
              "\n",
              "  [theme=dark] .colab-df-quickchart {\n",
              "    background-color: #3B4455;\n",
              "    fill: #D2E3FC;\n",
              "  }\n",
              "\n",
              "  [theme=dark] .colab-df-quickchart:hover {\n",
              "    background-color: #434B5C;\n",
              "    box-shadow: 0px 1px 3px 1px rgba(0, 0, 0, 0.15);\n",
              "    filter: drop-shadow(0px 1px 2px rgba(0, 0, 0, 0.3));\n",
              "    fill: #FFFFFF;\n",
              "  }\n",
              "</style>\n",
              "\n",
              "    <script>\n",
              "      async function quickchart(key) {\n",
              "        const containerElement = document.querySelector('#' + key);\n",
              "        const charts = await google.colab.kernel.invokeFunction(\n",
              "            'suggestCharts', [key], {});\n",
              "      }\n",
              "    </script>\n",
              "\n",
              "      <script>\n",
              "\n",
              "function displayQuickchartButton(domScope) {\n",
              "  let quickchartButtonEl =\n",
              "    domScope.querySelector('#df-aa598546-8571-4b49-9bda-f613c36bcf2d button.colab-df-quickchart');\n",
              "  quickchartButtonEl.style.display =\n",
              "    google.colab.kernel.accessAllowed ? 'block' : 'none';\n",
              "}\n",
              "\n",
              "        displayQuickchartButton(document);\n",
              "      </script>\n",
              "      <style>\n",
              "    .colab-df-container {\n",
              "      display:flex;\n",
              "      flex-wrap:wrap;\n",
              "      gap: 12px;\n",
              "    }\n",
              "\n",
              "    .colab-df-convert {\n",
              "      background-color: #E8F0FE;\n",
              "      border: none;\n",
              "      border-radius: 50%;\n",
              "      cursor: pointer;\n",
              "      display: none;\n",
              "      fill: #1967D2;\n",
              "      height: 32px;\n",
              "      padding: 0 0 0 0;\n",
              "      width: 32px;\n",
              "    }\n",
              "\n",
              "    .colab-df-convert:hover {\n",
              "      background-color: #E2EBFA;\n",
              "      box-shadow: 0px 1px 2px rgba(60, 64, 67, 0.3), 0px 1px 3px 1px rgba(60, 64, 67, 0.15);\n",
              "      fill: #174EA6;\n",
              "    }\n",
              "\n",
              "    [theme=dark] .colab-df-convert {\n",
              "      background-color: #3B4455;\n",
              "      fill: #D2E3FC;\n",
              "    }\n",
              "\n",
              "    [theme=dark] .colab-df-convert:hover {\n",
              "      background-color: #434B5C;\n",
              "      box-shadow: 0px 1px 3px 1px rgba(0, 0, 0, 0.15);\n",
              "      filter: drop-shadow(0px 1px 2px rgba(0, 0, 0, 0.3));\n",
              "      fill: #FFFFFF;\n",
              "    }\n",
              "  </style>\n",
              "\n",
              "      <script>\n",
              "        const buttonEl =\n",
              "          document.querySelector('#df-8e6ed412-b689-4de1-91ff-f4995504a2de button.colab-df-convert');\n",
              "        buttonEl.style.display =\n",
              "          google.colab.kernel.accessAllowed ? 'block' : 'none';\n",
              "\n",
              "        async function convertToInteractive(key) {\n",
              "          const element = document.querySelector('#df-8e6ed412-b689-4de1-91ff-f4995504a2de');\n",
              "          const dataTable =\n",
              "            await google.colab.kernel.invokeFunction('convertToInteractive',\n",
              "                                                     [key], {});\n",
              "          if (!dataTable) return;\n",
              "\n",
              "          const docLinkHtml = 'Like what you see? Visit the ' +\n",
              "            '<a target=\"_blank\" href=https://colab.research.google.com/notebooks/data_table.ipynb>data table notebook</a>'\n",
              "            + ' to learn more about interactive tables.';\n",
              "          element.innerHTML = '';\n",
              "          dataTable['output_type'] = 'display_data';\n",
              "          await google.colab.output.renderOutput(dataTable, element);\n",
              "          const docLink = document.createElement('div');\n",
              "          docLink.innerHTML = docLinkHtml;\n",
              "          element.appendChild(docLink);\n",
              "        }\n",
              "      </script>\n",
              "    </div>\n",
              "  </div>\n"
            ]
          },
          "metadata": {},
          "execution_count": 37
        }
      ]
    },
    {
      "cell_type": "markdown",
      "source": [
        "Vemos que las columnas parecen ser valores de la base de datos que no deberían considerarse como nombres. Por lo tanto, se puede agregar que los datos no tienen cabecera, con el argumento `header=None`:"
      ],
      "metadata": {
        "id": "JXhFQxR7lwPv"
      }
    },
    {
      "cell_type": "code",
      "source": [
        "df=pd.read_csv(\"/content/auto-mpg.data-original\",header=None)\n",
        "df.head()"
      ],
      "metadata": {
        "colab": {
          "base_uri": "https://localhost:8080/",
          "height": 206
        },
        "id": "MjhMb2ymmTPp",
        "outputId": "6cde1b8c-a379-45d9-c0a6-019776378361"
      },
      "execution_count": null,
      "outputs": [
        {
          "output_type": "execute_result",
          "data": {
            "text/plain": [
              "                                                   0\n",
              "0  18.0   8.   307.0      130.0      3504.      1...\n",
              "1  15.0   8.   350.0      165.0      3693.      1...\n",
              "2  18.0   8.   318.0      150.0      3436.      1...\n",
              "3  16.0   8.   304.0      150.0      3433.      1...\n",
              "4  17.0   8.   302.0      140.0      3449.      1..."
            ],
            "text/html": [
              "\n",
              "\n",
              "  <div id=\"df-72c0a148-a913-4915-9e42-58db5f40758d\">\n",
              "    <div class=\"colab-df-container\">\n",
              "      <div>\n",
              "<style scoped>\n",
              "    .dataframe tbody tr th:only-of-type {\n",
              "        vertical-align: middle;\n",
              "    }\n",
              "\n",
              "    .dataframe tbody tr th {\n",
              "        vertical-align: top;\n",
              "    }\n",
              "\n",
              "    .dataframe thead th {\n",
              "        text-align: right;\n",
              "    }\n",
              "</style>\n",
              "<table border=\"1\" class=\"dataframe\">\n",
              "  <thead>\n",
              "    <tr style=\"text-align: right;\">\n",
              "      <th></th>\n",
              "      <th>0</th>\n",
              "    </tr>\n",
              "  </thead>\n",
              "  <tbody>\n",
              "    <tr>\n",
              "      <th>0</th>\n",
              "      <td>18.0   8.   307.0      130.0      3504.      1...</td>\n",
              "    </tr>\n",
              "    <tr>\n",
              "      <th>1</th>\n",
              "      <td>15.0   8.   350.0      165.0      3693.      1...</td>\n",
              "    </tr>\n",
              "    <tr>\n",
              "      <th>2</th>\n",
              "      <td>18.0   8.   318.0      150.0      3436.      1...</td>\n",
              "    </tr>\n",
              "    <tr>\n",
              "      <th>3</th>\n",
              "      <td>16.0   8.   304.0      150.0      3433.      1...</td>\n",
              "    </tr>\n",
              "    <tr>\n",
              "      <th>4</th>\n",
              "      <td>17.0   8.   302.0      140.0      3449.      1...</td>\n",
              "    </tr>\n",
              "  </tbody>\n",
              "</table>\n",
              "</div>\n",
              "      <button class=\"colab-df-convert\" onclick=\"convertToInteractive('df-72c0a148-a913-4915-9e42-58db5f40758d')\"\n",
              "              title=\"Convert this dataframe to an interactive table.\"\n",
              "              style=\"display:none;\">\n",
              "\n",
              "  <svg xmlns=\"http://www.w3.org/2000/svg\" height=\"24px\"viewBox=\"0 0 24 24\"\n",
              "       width=\"24px\">\n",
              "    <path d=\"M0 0h24v24H0V0z\" fill=\"none\"/>\n",
              "    <path d=\"M18.56 5.44l.94 2.06.94-2.06 2.06-.94-2.06-.94-.94-2.06-.94 2.06-2.06.94zm-11 1L8.5 8.5l.94-2.06 2.06-.94-2.06-.94L8.5 2.5l-.94 2.06-2.06.94zm10 10l.94 2.06.94-2.06 2.06-.94-2.06-.94-.94-2.06-.94 2.06-2.06.94z\"/><path d=\"M17.41 7.96l-1.37-1.37c-.4-.4-.92-.59-1.43-.59-.52 0-1.04.2-1.43.59L10.3 9.45l-7.72 7.72c-.78.78-.78 2.05 0 2.83L4 21.41c.39.39.9.59 1.41.59.51 0 1.02-.2 1.41-.59l7.78-7.78 2.81-2.81c.8-.78.8-2.07 0-2.86zM5.41 20L4 18.59l7.72-7.72 1.47 1.35L5.41 20z\"/>\n",
              "  </svg>\n",
              "      </button>\n",
              "\n",
              "\n",
              "\n",
              "    <div id=\"df-df040b95-fc59-425a-9285-1297d7cf1c5b\">\n",
              "      <button class=\"colab-df-quickchart\" onclick=\"quickchart('df-df040b95-fc59-425a-9285-1297d7cf1c5b')\"\n",
              "              title=\"Suggest charts.\"\n",
              "              style=\"display:none;\">\n",
              "\n",
              "<svg xmlns=\"http://www.w3.org/2000/svg\" height=\"24px\"viewBox=\"0 0 24 24\"\n",
              "     width=\"24px\">\n",
              "    <g>\n",
              "        <path d=\"M19 3H5c-1.1 0-2 .9-2 2v14c0 1.1.9 2 2 2h14c1.1 0 2-.9 2-2V5c0-1.1-.9-2-2-2zM9 17H7v-7h2v7zm4 0h-2V7h2v10zm4 0h-2v-4h2v4z\"/>\n",
              "    </g>\n",
              "</svg>\n",
              "      </button>\n",
              "    </div>\n",
              "\n",
              "<style>\n",
              "  .colab-df-quickchart {\n",
              "    background-color: #E8F0FE;\n",
              "    border: none;\n",
              "    border-radius: 50%;\n",
              "    cursor: pointer;\n",
              "    display: none;\n",
              "    fill: #1967D2;\n",
              "    height: 32px;\n",
              "    padding: 0 0 0 0;\n",
              "    width: 32px;\n",
              "  }\n",
              "\n",
              "  .colab-df-quickchart:hover {\n",
              "    background-color: #E2EBFA;\n",
              "    box-shadow: 0px 1px 2px rgba(60, 64, 67, 0.3), 0px 1px 3px 1px rgba(60, 64, 67, 0.15);\n",
              "    fill: #174EA6;\n",
              "  }\n",
              "\n",
              "  [theme=dark] .colab-df-quickchart {\n",
              "    background-color: #3B4455;\n",
              "    fill: #D2E3FC;\n",
              "  }\n",
              "\n",
              "  [theme=dark] .colab-df-quickchart:hover {\n",
              "    background-color: #434B5C;\n",
              "    box-shadow: 0px 1px 3px 1px rgba(0, 0, 0, 0.15);\n",
              "    filter: drop-shadow(0px 1px 2px rgba(0, 0, 0, 0.3));\n",
              "    fill: #FFFFFF;\n",
              "  }\n",
              "</style>\n",
              "\n",
              "    <script>\n",
              "      async function quickchart(key) {\n",
              "        const containerElement = document.querySelector('#' + key);\n",
              "        const charts = await google.colab.kernel.invokeFunction(\n",
              "            'suggestCharts', [key], {});\n",
              "      }\n",
              "    </script>\n",
              "\n",
              "      <script>\n",
              "\n",
              "function displayQuickchartButton(domScope) {\n",
              "  let quickchartButtonEl =\n",
              "    domScope.querySelector('#df-df040b95-fc59-425a-9285-1297d7cf1c5b button.colab-df-quickchart');\n",
              "  quickchartButtonEl.style.display =\n",
              "    google.colab.kernel.accessAllowed ? 'block' : 'none';\n",
              "}\n",
              "\n",
              "        displayQuickchartButton(document);\n",
              "      </script>\n",
              "      <style>\n",
              "    .colab-df-container {\n",
              "      display:flex;\n",
              "      flex-wrap:wrap;\n",
              "      gap: 12px;\n",
              "    }\n",
              "\n",
              "    .colab-df-convert {\n",
              "      background-color: #E8F0FE;\n",
              "      border: none;\n",
              "      border-radius: 50%;\n",
              "      cursor: pointer;\n",
              "      display: none;\n",
              "      fill: #1967D2;\n",
              "      height: 32px;\n",
              "      padding: 0 0 0 0;\n",
              "      width: 32px;\n",
              "    }\n",
              "\n",
              "    .colab-df-convert:hover {\n",
              "      background-color: #E2EBFA;\n",
              "      box-shadow: 0px 1px 2px rgba(60, 64, 67, 0.3), 0px 1px 3px 1px rgba(60, 64, 67, 0.15);\n",
              "      fill: #174EA6;\n",
              "    }\n",
              "\n",
              "    [theme=dark] .colab-df-convert {\n",
              "      background-color: #3B4455;\n",
              "      fill: #D2E3FC;\n",
              "    }\n",
              "\n",
              "    [theme=dark] .colab-df-convert:hover {\n",
              "      background-color: #434B5C;\n",
              "      box-shadow: 0px 1px 3px 1px rgba(0, 0, 0, 0.15);\n",
              "      filter: drop-shadow(0px 1px 2px rgba(0, 0, 0, 0.3));\n",
              "      fill: #FFFFFF;\n",
              "    }\n",
              "  </style>\n",
              "\n",
              "      <script>\n",
              "        const buttonEl =\n",
              "          document.querySelector('#df-72c0a148-a913-4915-9e42-58db5f40758d button.colab-df-convert');\n",
              "        buttonEl.style.display =\n",
              "          google.colab.kernel.accessAllowed ? 'block' : 'none';\n",
              "\n",
              "        async function convertToInteractive(key) {\n",
              "          const element = document.querySelector('#df-72c0a148-a913-4915-9e42-58db5f40758d');\n",
              "          const dataTable =\n",
              "            await google.colab.kernel.invokeFunction('convertToInteractive',\n",
              "                                                     [key], {});\n",
              "          if (!dataTable) return;\n",
              "\n",
              "          const docLinkHtml = 'Like what you see? Visit the ' +\n",
              "            '<a target=\"_blank\" href=https://colab.research.google.com/notebooks/data_table.ipynb>data table notebook</a>'\n",
              "            + ' to learn more about interactive tables.';\n",
              "          element.innerHTML = '';\n",
              "          dataTable['output_type'] = 'display_data';\n",
              "          await google.colab.output.renderOutput(dataTable, element);\n",
              "          const docLink = document.createElement('div');\n",
              "          docLink.innerHTML = docLinkHtml;\n",
              "          element.appendChild(docLink);\n",
              "        }\n",
              "      </script>\n",
              "    </div>\n",
              "  </div>\n"
            ]
          },
          "metadata": {},
          "execution_count": 38
        }
      ]
    },
    {
      "cell_type": "markdown",
      "source": [
        "Falta separar bien las columnas. Esto se vuelve complicado porque en el archivo los datos están separados por una cantidad variable de espacios. Por lo tanto, eso se arregla agregando el argumento `sep=\"\\s+\"`. Además, buscando los nombres de las variables en el link estos se pueden agregar como nombres de las columnas:"
      ],
      "metadata": {
        "id": "IzfIDccgmNi7"
      }
    },
    {
      "cell_type": "code",
      "source": [
        "vars=[\"mpg\",\"cylinders\",\"displacement\",\"horsepower\",\n",
        "  \"weight\",\"acceleration\",\"model year\",\"origin\",\"car name\"]\n",
        "df=pd.read_csv(\"/content/auto-mpg.data-original\",sep=\"\\s+\",header=None)\n",
        "df.columns=vars\n",
        "df.head()"
      ],
      "metadata": {
        "colab": {
          "base_uri": "https://localhost:8080/",
          "height": 409
        },
        "id": "OSQIsTDFmqfw",
        "outputId": "032b2de7-82ba-4572-ea15-1a6ad354102f"
      },
      "execution_count": null,
      "outputs": [
        {
          "output_type": "execute_result",
          "data": {
            "text/plain": [
              "    mpg  cylinders  displacement  horsepower  weight  acceleration  \\\n",
              "0  18.0        8.0         307.0       130.0  3504.0          12.0   \n",
              "1  15.0        8.0         350.0       165.0  3693.0          11.5   \n",
              "2  18.0        8.0         318.0       150.0  3436.0          11.0   \n",
              "3  16.0        8.0         304.0       150.0  3433.0          12.0   \n",
              "4  17.0        8.0         302.0       140.0  3449.0          10.5   \n",
              "\n",
              "   model year  origin                   car name  \n",
              "0        70.0     1.0  chevrolet chevelle malibu  \n",
              "1        70.0     1.0          buick skylark 320  \n",
              "2        70.0     1.0         plymouth satellite  \n",
              "3        70.0     1.0              amc rebel sst  \n",
              "4        70.0     1.0                ford torino  "
            ],
            "text/html": [
              "\n",
              "\n",
              "  <div id=\"df-976f6b40-d8b8-4ef6-9af3-ee37b72248a6\">\n",
              "    <div class=\"colab-df-container\">\n",
              "      <div>\n",
              "<style scoped>\n",
              "    .dataframe tbody tr th:only-of-type {\n",
              "        vertical-align: middle;\n",
              "    }\n",
              "\n",
              "    .dataframe tbody tr th {\n",
              "        vertical-align: top;\n",
              "    }\n",
              "\n",
              "    .dataframe thead th {\n",
              "        text-align: right;\n",
              "    }\n",
              "</style>\n",
              "<table border=\"1\" class=\"dataframe\">\n",
              "  <thead>\n",
              "    <tr style=\"text-align: right;\">\n",
              "      <th></th>\n",
              "      <th>mpg</th>\n",
              "      <th>cylinders</th>\n",
              "      <th>displacement</th>\n",
              "      <th>horsepower</th>\n",
              "      <th>weight</th>\n",
              "      <th>acceleration</th>\n",
              "      <th>model year</th>\n",
              "      <th>origin</th>\n",
              "      <th>car name</th>\n",
              "    </tr>\n",
              "  </thead>\n",
              "  <tbody>\n",
              "    <tr>\n",
              "      <th>0</th>\n",
              "      <td>18.0</td>\n",
              "      <td>8.0</td>\n",
              "      <td>307.0</td>\n",
              "      <td>130.0</td>\n",
              "      <td>3504.0</td>\n",
              "      <td>12.0</td>\n",
              "      <td>70.0</td>\n",
              "      <td>1.0</td>\n",
              "      <td>chevrolet chevelle malibu</td>\n",
              "    </tr>\n",
              "    <tr>\n",
              "      <th>1</th>\n",
              "      <td>15.0</td>\n",
              "      <td>8.0</td>\n",
              "      <td>350.0</td>\n",
              "      <td>165.0</td>\n",
              "      <td>3693.0</td>\n",
              "      <td>11.5</td>\n",
              "      <td>70.0</td>\n",
              "      <td>1.0</td>\n",
              "      <td>buick skylark 320</td>\n",
              "    </tr>\n",
              "    <tr>\n",
              "      <th>2</th>\n",
              "      <td>18.0</td>\n",
              "      <td>8.0</td>\n",
              "      <td>318.0</td>\n",
              "      <td>150.0</td>\n",
              "      <td>3436.0</td>\n",
              "      <td>11.0</td>\n",
              "      <td>70.0</td>\n",
              "      <td>1.0</td>\n",
              "      <td>plymouth satellite</td>\n",
              "    </tr>\n",
              "    <tr>\n",
              "      <th>3</th>\n",
              "      <td>16.0</td>\n",
              "      <td>8.0</td>\n",
              "      <td>304.0</td>\n",
              "      <td>150.0</td>\n",
              "      <td>3433.0</td>\n",
              "      <td>12.0</td>\n",
              "      <td>70.0</td>\n",
              "      <td>1.0</td>\n",
              "      <td>amc rebel sst</td>\n",
              "    </tr>\n",
              "    <tr>\n",
              "      <th>4</th>\n",
              "      <td>17.0</td>\n",
              "      <td>8.0</td>\n",
              "      <td>302.0</td>\n",
              "      <td>140.0</td>\n",
              "      <td>3449.0</td>\n",
              "      <td>10.5</td>\n",
              "      <td>70.0</td>\n",
              "      <td>1.0</td>\n",
              "      <td>ford torino</td>\n",
              "    </tr>\n",
              "  </tbody>\n",
              "</table>\n",
              "</div>\n",
              "      <button class=\"colab-df-convert\" onclick=\"convertToInteractive('df-976f6b40-d8b8-4ef6-9af3-ee37b72248a6')\"\n",
              "              title=\"Convert this dataframe to an interactive table.\"\n",
              "              style=\"display:none;\">\n",
              "\n",
              "  <svg xmlns=\"http://www.w3.org/2000/svg\" height=\"24px\"viewBox=\"0 0 24 24\"\n",
              "       width=\"24px\">\n",
              "    <path d=\"M0 0h24v24H0V0z\" fill=\"none\"/>\n",
              "    <path d=\"M18.56 5.44l.94 2.06.94-2.06 2.06-.94-2.06-.94-.94-2.06-.94 2.06-2.06.94zm-11 1L8.5 8.5l.94-2.06 2.06-.94-2.06-.94L8.5 2.5l-.94 2.06-2.06.94zm10 10l.94 2.06.94-2.06 2.06-.94-2.06-.94-.94-2.06-.94 2.06-2.06.94z\"/><path d=\"M17.41 7.96l-1.37-1.37c-.4-.4-.92-.59-1.43-.59-.52 0-1.04.2-1.43.59L10.3 9.45l-7.72 7.72c-.78.78-.78 2.05 0 2.83L4 21.41c.39.39.9.59 1.41.59.51 0 1.02-.2 1.41-.59l7.78-7.78 2.81-2.81c.8-.78.8-2.07 0-2.86zM5.41 20L4 18.59l7.72-7.72 1.47 1.35L5.41 20z\"/>\n",
              "  </svg>\n",
              "      </button>\n",
              "\n",
              "\n",
              "\n",
              "    <div id=\"df-c4d78f9b-d967-49e2-a48d-6f1c8faa2719\">\n",
              "      <button class=\"colab-df-quickchart\" onclick=\"quickchart('df-c4d78f9b-d967-49e2-a48d-6f1c8faa2719')\"\n",
              "              title=\"Suggest charts.\"\n",
              "              style=\"display:none;\">\n",
              "\n",
              "<svg xmlns=\"http://www.w3.org/2000/svg\" height=\"24px\"viewBox=\"0 0 24 24\"\n",
              "     width=\"24px\">\n",
              "    <g>\n",
              "        <path d=\"M19 3H5c-1.1 0-2 .9-2 2v14c0 1.1.9 2 2 2h14c1.1 0 2-.9 2-2V5c0-1.1-.9-2-2-2zM9 17H7v-7h2v7zm4 0h-2V7h2v10zm4 0h-2v-4h2v4z\"/>\n",
              "    </g>\n",
              "</svg>\n",
              "      </button>\n",
              "    </div>\n",
              "\n",
              "<style>\n",
              "  .colab-df-quickchart {\n",
              "    background-color: #E8F0FE;\n",
              "    border: none;\n",
              "    border-radius: 50%;\n",
              "    cursor: pointer;\n",
              "    display: none;\n",
              "    fill: #1967D2;\n",
              "    height: 32px;\n",
              "    padding: 0 0 0 0;\n",
              "    width: 32px;\n",
              "  }\n",
              "\n",
              "  .colab-df-quickchart:hover {\n",
              "    background-color: #E2EBFA;\n",
              "    box-shadow: 0px 1px 2px rgba(60, 64, 67, 0.3), 0px 1px 3px 1px rgba(60, 64, 67, 0.15);\n",
              "    fill: #174EA6;\n",
              "  }\n",
              "\n",
              "  [theme=dark] .colab-df-quickchart {\n",
              "    background-color: #3B4455;\n",
              "    fill: #D2E3FC;\n",
              "  }\n",
              "\n",
              "  [theme=dark] .colab-df-quickchart:hover {\n",
              "    background-color: #434B5C;\n",
              "    box-shadow: 0px 1px 3px 1px rgba(0, 0, 0, 0.15);\n",
              "    filter: drop-shadow(0px 1px 2px rgba(0, 0, 0, 0.3));\n",
              "    fill: #FFFFFF;\n",
              "  }\n",
              "</style>\n",
              "\n",
              "    <script>\n",
              "      async function quickchart(key) {\n",
              "        const containerElement = document.querySelector('#' + key);\n",
              "        const charts = await google.colab.kernel.invokeFunction(\n",
              "            'suggestCharts', [key], {});\n",
              "      }\n",
              "    </script>\n",
              "\n",
              "      <script>\n",
              "\n",
              "function displayQuickchartButton(domScope) {\n",
              "  let quickchartButtonEl =\n",
              "    domScope.querySelector('#df-c4d78f9b-d967-49e2-a48d-6f1c8faa2719 button.colab-df-quickchart');\n",
              "  quickchartButtonEl.style.display =\n",
              "    google.colab.kernel.accessAllowed ? 'block' : 'none';\n",
              "}\n",
              "\n",
              "        displayQuickchartButton(document);\n",
              "      </script>\n",
              "      <style>\n",
              "    .colab-df-container {\n",
              "      display:flex;\n",
              "      flex-wrap:wrap;\n",
              "      gap: 12px;\n",
              "    }\n",
              "\n",
              "    .colab-df-convert {\n",
              "      background-color: #E8F0FE;\n",
              "      border: none;\n",
              "      border-radius: 50%;\n",
              "      cursor: pointer;\n",
              "      display: none;\n",
              "      fill: #1967D2;\n",
              "      height: 32px;\n",
              "      padding: 0 0 0 0;\n",
              "      width: 32px;\n",
              "    }\n",
              "\n",
              "    .colab-df-convert:hover {\n",
              "      background-color: #E2EBFA;\n",
              "      box-shadow: 0px 1px 2px rgba(60, 64, 67, 0.3), 0px 1px 3px 1px rgba(60, 64, 67, 0.15);\n",
              "      fill: #174EA6;\n",
              "    }\n",
              "\n",
              "    [theme=dark] .colab-df-convert {\n",
              "      background-color: #3B4455;\n",
              "      fill: #D2E3FC;\n",
              "    }\n",
              "\n",
              "    [theme=dark] .colab-df-convert:hover {\n",
              "      background-color: #434B5C;\n",
              "      box-shadow: 0px 1px 3px 1px rgba(0, 0, 0, 0.15);\n",
              "      filter: drop-shadow(0px 1px 2px rgba(0, 0, 0, 0.3));\n",
              "      fill: #FFFFFF;\n",
              "    }\n",
              "  </style>\n",
              "\n",
              "      <script>\n",
              "        const buttonEl =\n",
              "          document.querySelector('#df-976f6b40-d8b8-4ef6-9af3-ee37b72248a6 button.colab-df-convert');\n",
              "        buttonEl.style.display =\n",
              "          google.colab.kernel.accessAllowed ? 'block' : 'none';\n",
              "\n",
              "        async function convertToInteractive(key) {\n",
              "          const element = document.querySelector('#df-976f6b40-d8b8-4ef6-9af3-ee37b72248a6');\n",
              "          const dataTable =\n",
              "            await google.colab.kernel.invokeFunction('convertToInteractive',\n",
              "                                                     [key], {});\n",
              "          if (!dataTable) return;\n",
              "\n",
              "          const docLinkHtml = 'Like what you see? Visit the ' +\n",
              "            '<a target=\"_blank\" href=https://colab.research.google.com/notebooks/data_table.ipynb>data table notebook</a>'\n",
              "            + ' to learn more about interactive tables.';\n",
              "          element.innerHTML = '';\n",
              "          dataTable['output_type'] = 'display_data';\n",
              "          await google.colab.output.renderOutput(dataTable, element);\n",
              "          const docLink = document.createElement('div');\n",
              "          docLink.innerHTML = docLinkHtml;\n",
              "          element.appendChild(docLink);\n",
              "        }\n",
              "      </script>\n",
              "    </div>\n",
              "  </div>\n"
            ]
          },
          "metadata": {},
          "execution_count": 46
        }
      ]
    },
    {
      "cell_type": "markdown",
      "source": [
        "Con la base bien procesada, podemos inspeccionarla con lo visto anteriormente"
      ],
      "metadata": {
        "id": "BLwkg_96obvp"
      }
    },
    {
      "cell_type": "code",
      "source": [
        "#Análisis variables\n",
        "df.info()"
      ],
      "metadata": {
        "colab": {
          "base_uri": "https://localhost:8080/"
        },
        "id": "EqT_9ifEoirz",
        "outputId": "eb102409-6a68-4c19-fcd1-cf6a8797152c"
      },
      "execution_count": null,
      "outputs": [
        {
          "output_type": "stream",
          "name": "stdout",
          "text": [
            "<class 'pandas.core.frame.DataFrame'>\n",
            "RangeIndex: 406 entries, 0 to 405\n",
            "Data columns (total 9 columns):\n",
            " #   Column        Non-Null Count  Dtype  \n",
            "---  ------        --------------  -----  \n",
            " 0   mpg           398 non-null    float64\n",
            " 1   cylinders     406 non-null    float64\n",
            " 2   displacement  406 non-null    float64\n",
            " 3   horsepower    400 non-null    float64\n",
            " 4   weight        406 non-null    float64\n",
            " 5   acceleration  406 non-null    float64\n",
            " 6   model year    406 non-null    float64\n",
            " 7   origin        406 non-null    float64\n",
            " 8   car name      406 non-null    object \n",
            "dtypes: float64(8), object(1)\n",
            "memory usage: 28.7+ KB\n"
          ]
        }
      ]
    },
    {
      "cell_type": "code",
      "source": [
        "# Análisis variables cualitativas\n",
        "df[\"cylinders\"].value_counts()"
      ],
      "metadata": {
        "colab": {
          "base_uri": "https://localhost:8080/"
        },
        "id": "jyo9-eO9omfo",
        "outputId": "eb919d4a-322f-4bc7-cc27-24b10c0a360d"
      },
      "execution_count": null,
      "outputs": [
        {
          "output_type": "execute_result",
          "data": {
            "text/plain": [
              "4.0    207\n",
              "8.0    108\n",
              "6.0     84\n",
              "3.0      4\n",
              "5.0      3\n",
              "Name: cylinders, dtype: int64"
            ]
          },
          "metadata": {},
          "execution_count": 48
        }
      ]
    },
    {
      "cell_type": "code",
      "source": [
        "# Análisis variables cuantitativas\n",
        "df[\"displacement\"].describe()"
      ],
      "metadata": {
        "colab": {
          "base_uri": "https://localhost:8080/"
        },
        "id": "pZsPetxCosif",
        "outputId": "51acf743-8a8a-4f77-f39c-55442b23089f"
      },
      "execution_count": null,
      "outputs": [
        {
          "output_type": "execute_result",
          "data": {
            "text/plain": [
              "count    406.000000\n",
              "mean     194.779557\n",
              "std      104.922458\n",
              "min       68.000000\n",
              "25%      105.000000\n",
              "50%      151.000000\n",
              "75%      302.000000\n",
              "max      455.000000\n",
              "Name: displacement, dtype: float64"
            ]
          },
          "metadata": {},
          "execution_count": 49
        }
      ]
    },
    {
      "cell_type": "markdown",
      "source": [
        "## Kaggle\n",
        "\n",
        "Otro lugar de donde se pueden sacar datos, se llama [Kaggle](https://www.kaggle.com/). Para extraer los datos primero se requiere un token correspondiente a una API (Application Protocol Interface), que permite al collaborate acceder a Kaggle.\n",
        "\n",
        "Para lograr este vínculo, es necesario estar registrado en kaggle. Accediendo al perfil:\n",
        "![Kaggle1.png](data:image/png;base64,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)\n",
        "\n",
        "se puede ir a los ajustes:\n",
        "\n",
        "![Kaggle2.png](data:image/png;base64,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)\n",
        "\n",
        "y generar el token para el usuario:\n",
        "\n",
        "![Kaggle3.png](data:image/png;base64,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)"
      ],
      "metadata": {
        "id": "xtEumszkpDM7"
      }
    },
    {
      "cell_type": "markdown",
      "source": [
        "Este token que se baja a nuestro disco, se puede cargar \"suelto\" en nuestro google drive. Como el archivo tiene extensión `.json`, y está cargado al drive, se necesitan los siguientes paquetes:"
      ],
      "metadata": {
        "id": "M1Y5rklXrjOJ"
      }
    },
    {
      "cell_type": "code",
      "source": [
        "import json\n",
        "from google.colab import drive"
      ],
      "metadata": {
        "id": "VW39jeMmsAH1"
      },
      "execution_count": null,
      "outputs": []
    },
    {
      "cell_type": "markdown",
      "source": [
        "Para acceder al token, se utilizan los siguientes códigos:"
      ],
      "metadata": {
        "id": "zy6SpwcTsHD2"
      }
    },
    {
      "cell_type": "code",
      "source": [
        "!mkdir ~/.kaggle\n",
        "!touch ~/.kaggle/kaggle.json\n",
        "\n",
        "drive.mount('/content/drive', force_remount=True)\n",
        "with open(\"/content/drive/My Drive/kaggle.json\", 'r') as f:\n",
        "    api_token= json.load(f)\n",
        "\n",
        "with open('/root/.kaggle/kaggle.json', 'w') as file:\n",
        "    json.dump(api_token, file)\n",
        "\n",
        "!chmod 600 ~/.kaggle/kaggle.json"
      ],
      "metadata": {
        "id": "3D-c2S25pc2J"
      },
      "execution_count": null,
      "outputs": []
    },
    {
      "cell_type": "markdown",
      "source": [
        "Una vez que accedemos al token, podemos bajar directamente la base de por ejemplo, el [reporte mundial de la felicidad](https://www.kaggle.com/datasets/unsdsn/world-happiness):"
      ],
      "metadata": {
        "id": "LGBlphLUsReH"
      }
    },
    {
      "cell_type": "code",
      "source": [
        "!kaggle datasets download -d unsdsn/world-happiness"
      ],
      "metadata": {
        "id": "x3_qykFPssNn"
      },
      "execution_count": null,
      "outputs": []
    },
    {
      "cell_type": "markdown",
      "source": [
        "Ahora que se baja el zip, extraemos de la base del mismo modo:"
      ],
      "metadata": {
        "id": "tFzPBkOAs4gW"
      }
    },
    {
      "cell_type": "code",
      "source": [
        "import zipfile\n",
        "import os\n",
        "\n",
        "os.listdir()\n",
        "\n",
        "for file in os.listdir():\n",
        "    if file.endswith('.zip'):\n",
        "      zip_ref = zipfile.ZipFile(file, 'r')\n",
        "      zip_ref.extractall()\n",
        "      zip_ref.close()"
      ],
      "metadata": {
        "id": "aw8SXrhAtDsC"
      },
      "execution_count": null,
      "outputs": []
    },
    {
      "cell_type": "markdown",
      "source": [
        "Una vez extraída la base, leemos la base de datos al igual que antes:"
      ],
      "metadata": {
        "id": "HPDUFllytIXg"
      }
    },
    {
      "cell_type": "code",
      "source": [
        "# Cargamos la base\n",
        "df = pd.read_csv('/content/2019.csv')\n",
        "df.head()"
      ],
      "metadata": {
        "id": "2fOga2sgtRfN"
      },
      "execution_count": null,
      "outputs": []
    },
    {
      "cell_type": "markdown",
      "source": [
        "# Ejercicios\n",
        "\n",
        "Descargar e inspeccionar con las herramientas vistas las bases disponibles en los siguientes links. Para ello completar los siguientes espacios en blanco notados con guiones bajos:\n",
        "\n",
        "\n"
      ],
      "metadata": {
        "id": "vonhvKp1tS_9"
      }
    },
    {
      "cell_type": "markdown",
      "source": [
        "* UCI: [Wholesale Data](https://archive.ics.uci.edu/dataset/292/wholesale+customers)"
      ],
      "metadata": {
        "id": "neDZ6oQGXKhz"
      }
    },
    {
      "cell_type": "code",
      "source": [
        "!pip install wget\n",
        "import wget"
      ],
      "metadata": {
        "id": "wMEx9McWXKE7",
        "colab": {
          "base_uri": "https://localhost:8080/"
        },
        "outputId": "035f0a0f-9e2c-4189-820c-19ada3f1d955"
      },
      "execution_count": null,
      "outputs": [
        {
          "output_type": "stream",
          "name": "stdout",
          "text": [
            "Requirement already satisfied: wget in /usr/local/lib/python3.10/dist-packages (3.2)\n"
          ]
        }
      ]
    },
    {
      "cell_type": "code",
      "source": [
        "# Buscar el enlace que permite descargar el archivo \".zip\"\n",
        "url='https://archive.ics.uci.edu/static/public/292/wholesale+customers.zip'"
      ],
      "metadata": {
        "id": "2M8DtVGQXd87"
      },
      "execution_count": null,
      "outputs": []
    },
    {
      "cell_type": "code",
      "source": [
        "wget.download(url, \"archivo.zip\")"
      ],
      "metadata": {
        "id": "oBaZywubX4nm",
        "colab": {
          "base_uri": "https://localhost:8080/",
          "height": 35
        },
        "outputId": "18ee9f67-5dc4-4dd7-ad93-31a2f1b7cab8"
      },
      "execution_count": null,
      "outputs": [
        {
          "output_type": "execute_result",
          "data": {
            "text/plain": [
              "'archivo (1).zip'"
            ],
            "application/vnd.google.colaboratory.intrinsic+json": {
              "type": "string"
            }
          },
          "metadata": {},
          "execution_count": 13
        }
      ]
    },
    {
      "cell_type": "code",
      "source": [
        "import zipfile\n",
        "import os\n",
        "\n",
        "os.listdir()\n",
        "\n",
        "for file in os.listdir():\n",
        "    if file.endswith('.zip'):\n",
        "      zip_ref = zipfile.ZipFile(file, 'r')\n",
        "      zip_ref.extractall()\n",
        "      zip_ref.close()"
      ],
      "metadata": {
        "id": "ZPRA5WH3YF9f"
      },
      "execution_count": null,
      "outputs": []
    },
    {
      "cell_type": "code",
      "source": [
        "# Examinar los archivos cargados seleccionando el ícono representando una carpeta que aparece a la izquierda\n",
        "# Una vez identificada la base, acceder a las opciones con los tres puntos que aparecen a su derecha\n",
        "# seleccionar \"copiar ruta de archivo\" o \"copy path\". Pegar con \"Ctrl+v\" esa ruta en la variable \"path\"\n",
        "path='/content/Wholesale customers data.csv'\n",
        "df=pd.read_csv(path)"
      ],
      "metadata": {
        "id": "SnerCQBmYGrR"
      },
      "execution_count": null,
      "outputs": []
    },
    {
      "cell_type": "markdown",
      "source": [
        "\n",
        "* Kaggle: [Salary Data](https://www.kaggle.com/datasets/mohithsairamreddy/salary-data)"
      ],
      "metadata": {
        "id": "6OFwDRmnXMPy"
      }
    },
    {
      "cell_type": "code",
      "source": [
        "import json\n",
        "from google.colab import drive\n",
        "\n",
        "!mkdir ~/.kaggle\n",
        "!touch ~/.kaggle/kaggle.json\n",
        "\n",
        "drive.mount('/content/drive', force_remount=True)\n",
        "with open(\"/content/drive/My Drive/kaggle.json\", 'r') as f:\n",
        "    api_token= json.load(f)\n",
        "\n",
        "with open('/root/.kaggle/kaggle.json', 'w') as file:\n",
        "    json.dump(api_token, file)\n",
        "\n",
        "!chmod 600 ~/.kaggle/kaggle.json"
      ],
      "metadata": {
        "id": "Q9FVsstdXMzv"
      },
      "execution_count": null,
      "outputs": []
    },
    {
      "cell_type": "code",
      "source": [
        "# En el link aportado, copiar y pegar todo lo que le sigue a \"/datasets/\"\n",
        "!kaggle datasets download -d ___________"
      ],
      "metadata": {
        "id": "EP8dRM89Znh1"
      },
      "execution_count": null,
      "outputs": []
    },
    {
      "cell_type": "code",
      "source": [
        "import zipfile\n",
        "import os\n",
        "\n",
        "os.listdir()\n",
        "\n",
        "for file in os.listdir():\n",
        "    if file.endswith('.zip'):\n",
        "      zip_ref = zipfile.ZipFile(file, 'r')\n",
        "      zip_ref.extractall()\n",
        "      zip_ref.close()"
      ],
      "metadata": {
        "id": "LqURe47iZ6jp"
      },
      "execution_count": null,
      "outputs": []
    },
    {
      "cell_type": "code",
      "source": [
        "# Examinar los archivos cargados seleccionando el ícono representando una carpeta que aparece a la izquierda\n",
        "# Una vez identificada la base, acceder a las opciones con los tres puntos que aparecen a su derecha\n",
        "# seleccionar \"copiar ruta de archivo\" o \"copy path\". Pegar con \"Ctrl+v\" esa ruta en la variable \"path\"\n",
        "path=____________\n",
        "df=pd.read_csv(path)"
      ],
      "metadata": {
        "id": "ypA4e-0sZ8lr"
      },
      "execution_count": null,
      "outputs": []
    }
  ]
}