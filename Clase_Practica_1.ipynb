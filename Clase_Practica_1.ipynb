{
  "nbformat": 4,
  "nbformat_minor": 0,
  "metadata": {
    "colab": {
      "provenance": [],
      "collapsed_sections": [
        "fEjWxZsQnPQt",
        "8e7YzW9nmYdt",
        "bb8U7V0UoNWl",
        "Mbp76_S5qk69",
        "3YBWz1F9tEE8",
        "o0Z9jPOctPan",
        "uwL3mc9ut6gf"
      ],
      "authorship_tag": "ABX9TyMXuP8J9HgIHDma3Cp2Ajee",
      "include_colab_link": true
    },
    "kernelspec": {
      "name": "python3",
      "display_name": "Python 3"
    },
    "language_info": {
      "name": "python"
    }
  },
  "cells": [
    {
      "cell_type": "markdown",
      "metadata": {
        "id": "view-in-github",
        "colab_type": "text"
      },
      "source": [
        "<a href=\"https://colab.research.google.com/github/luciojosep/Portfolio/blob/main/Clase_Practica_1.ipynb\" target=\"_parent\"><img src=\"https://colab.research.google.com/assets/colab-badge.svg\" alt=\"Open In Colab\"/></a>"
      ]
    },
    {
      "cell_type": "markdown",
      "source": [
        "# **Ciencia de datos**\n",
        "# **Clase Práctica 1**\n",
        "# *Lic. Lucio José Pantazis*\n",
        "\n"
      ],
      "metadata": {
        "id": "EkyOqC13ifIp"
      }
    },
    {
      "cell_type": "markdown",
      "source": [
        "## Google Collaboratory\n",
        "\n",
        "Es una plataforma que se utiliza a partir de una cuenta de Google para poder programar en Python desde la nube.\n",
        "\n",
        "Los archivos guardados se llaman \"notebooks\" y tienen formato \".ipynb\" (IPYthon NoteBook). Se genera un nuevo archivo a partir del Google Drive, usando la opción de de \"Google Collaboratory\".\n",
        "\n",
        "Permite agregar bloques de texto y código de Python de forma intercalada. Por lo que es muy útil para hacer informes que requieran cálculos en Python. El código se incluye en lo que se llaman \"celdas\"."
      ],
      "metadata": {
        "id": "37z0zJ6jlcw3"
      }
    },
    {
      "cell_type": "code",
      "execution_count": null,
      "metadata": {
        "id": "USbpOxmEJ-0b"
      },
      "outputs": [],
      "source": [
        "# Esto es una celda, en este fragmento puedo realizar cálculos y definir variables\n",
        "# Ejemplo\n",
        "x=4\n",
        "y=3\n",
        "x+y"
      ]
    },
    {
      "cell_type": "code",
      "source": [
        "x-y"
      ],
      "metadata": {
        "id": "r-yvq034oANS"
      },
      "execution_count": null,
      "outputs": []
    },
    {
      "cell_type": "markdown",
      "source": [
        "## Pandas\n",
        "\n",
        "Python tiene \"librerías\" con funciones y tipos de datos específicos para determinados fines. En el caso de trabajar con bases de datos, la librería estándard se llama `pandas` y, por convención, se importa del siguiente modo:"
      ],
      "metadata": {
        "id": "bBrvAs5snQsG"
      }
    },
    {
      "cell_type": "code",
      "source": [
        "import pandas as pd"
      ],
      "metadata": {
        "id": "IGzNjgnioJ4s"
      },
      "execution_count": null,
      "outputs": []
    },
    {
      "cell_type": "markdown",
      "source": [
        "Esta librería tiene un tipo de variable específico para trabajar con bases de datos que se llama `DataFrame`. La mayor ventaja de este tipo de datos es que permite almacenar distintos tipos de datos en la misma estructura. Es decir, puede albergar variables tanto cuantitativas como cualitativas.\n",
        "\n",
        "Hay estructuras de datos que requiere que todos los elementos de la estructura tengan el mismo tipo de datos, eso permite ahorrar el uso de memoria pero perder versatilidad.\n",
        "\n",
        "Por ejemplo, vamos a armar una base de datos con una variable cuantitativa y una cualitativa:"
      ],
      "metadata": {
        "id": "b4uv8d0AoNdZ"
      }
    },
    {
      "cell_type": "code",
      "source": [
        "df=pd.DataFrame({\"X\":[1,2,3]*100,\"y\":[\"A\",\"B\"]*150})\n",
        "print(df)"
      ],
      "metadata": {
        "id": "xQMpK8lbrWLU",
        "colab": {
          "base_uri": "https://localhost:8080/"
        },
        "outputId": "32bf7617-ba68-428c-b32e-121acdef90d0"
      },
      "execution_count": null,
      "outputs": [
        {
          "output_type": "stream",
          "name": "stdout",
          "text": [
            "     X  y\n",
            "0    1  A\n",
            "1    2  B\n",
            "2    3  A\n",
            "3    1  B\n",
            "4    2  A\n",
            "..  .. ..\n",
            "295  2  B\n",
            "296  3  A\n",
            "297  1  B\n",
            "298  2  A\n",
            "299  3  B\n",
            "\n",
            "[300 rows x 2 columns]\n"
          ]
        }
      ]
    },
    {
      "cell_type": "markdown",
      "source": [
        "Para no mostrar todos los datos y sólo ver la estructura, se puede utilizar la función \"head\" que permite ver las primeras filas de la base:"
      ],
      "metadata": {
        "id": "_gAMtnNtrwfp"
      }
    },
    {
      "cell_type": "code",
      "source": [
        "df.head()"
      ],
      "metadata": {
        "id": "Gwqt06mVr8ky",
        "colab": {
          "base_uri": "https://localhost:8080/",
          "height": 206
        },
        "outputId": "d5f542ca-ccaf-42cc-b1bb-8e8323d671b3"
      },
      "execution_count": null,
      "outputs": [
        {
          "output_type": "execute_result",
          "data": {
            "text/plain": [
              "   X  y\n",
              "0  1  A\n",
              "1  2  B\n",
              "2  3  A\n",
              "3  1  B\n",
              "4  2  A"
            ],
            "text/html": [
              "\n",
              "  <div id=\"df-c27f5cd5-cfbe-41d7-8187-b7c29bbc8e3c\" class=\"colab-df-container\">\n",
              "    <div>\n",
              "<style scoped>\n",
              "    .dataframe tbody tr th:only-of-type {\n",
              "        vertical-align: middle;\n",
              "    }\n",
              "\n",
              "    .dataframe tbody tr th {\n",
              "        vertical-align: top;\n",
              "    }\n",
              "\n",
              "    .dataframe thead th {\n",
              "        text-align: right;\n",
              "    }\n",
              "</style>\n",
              "<table border=\"1\" class=\"dataframe\">\n",
              "  <thead>\n",
              "    <tr style=\"text-align: right;\">\n",
              "      <th></th>\n",
              "      <th>X</th>\n",
              "      <th>y</th>\n",
              "    </tr>\n",
              "  </thead>\n",
              "  <tbody>\n",
              "    <tr>\n",
              "      <th>0</th>\n",
              "      <td>1</td>\n",
              "      <td>A</td>\n",
              "    </tr>\n",
              "    <tr>\n",
              "      <th>1</th>\n",
              "      <td>2</td>\n",
              "      <td>B</td>\n",
              "    </tr>\n",
              "    <tr>\n",
              "      <th>2</th>\n",
              "      <td>3</td>\n",
              "      <td>A</td>\n",
              "    </tr>\n",
              "    <tr>\n",
              "      <th>3</th>\n",
              "      <td>1</td>\n",
              "      <td>B</td>\n",
              "    </tr>\n",
              "    <tr>\n",
              "      <th>4</th>\n",
              "      <td>2</td>\n",
              "      <td>A</td>\n",
              "    </tr>\n",
              "  </tbody>\n",
              "</table>\n",
              "</div>\n",
              "    <div class=\"colab-df-buttons\">\n",
              "\n",
              "  <div class=\"colab-df-container\">\n",
              "    <button class=\"colab-df-convert\" onclick=\"convertToInteractive('df-c27f5cd5-cfbe-41d7-8187-b7c29bbc8e3c')\"\n",
              "            title=\"Convert this dataframe to an interactive table.\"\n",
              "            style=\"display:none;\">\n",
              "\n",
              "  <svg xmlns=\"http://www.w3.org/2000/svg\" height=\"24px\" viewBox=\"0 -960 960 960\">\n",
              "    <path d=\"M120-120v-720h720v720H120Zm60-500h600v-160H180v160Zm220 220h160v-160H400v160Zm0 220h160v-160H400v160ZM180-400h160v-160H180v160Zm440 0h160v-160H620v160ZM180-180h160v-160H180v160Zm440 0h160v-160H620v160Z\"/>\n",
              "  </svg>\n",
              "    </button>\n",
              "\n",
              "  <style>\n",
              "    .colab-df-container {\n",
              "      display:flex;\n",
              "      gap: 12px;\n",
              "    }\n",
              "\n",
              "    .colab-df-convert {\n",
              "      background-color: #E8F0FE;\n",
              "      border: none;\n",
              "      border-radius: 50%;\n",
              "      cursor: pointer;\n",
              "      display: none;\n",
              "      fill: #1967D2;\n",
              "      height: 32px;\n",
              "      padding: 0 0 0 0;\n",
              "      width: 32px;\n",
              "    }\n",
              "\n",
              "    .colab-df-convert:hover {\n",
              "      background-color: #E2EBFA;\n",
              "      box-shadow: 0px 1px 2px rgba(60, 64, 67, 0.3), 0px 1px 3px 1px rgba(60, 64, 67, 0.15);\n",
              "      fill: #174EA6;\n",
              "    }\n",
              "\n",
              "    .colab-df-buttons div {\n",
              "      margin-bottom: 4px;\n",
              "    }\n",
              "\n",
              "    [theme=dark] .colab-df-convert {\n",
              "      background-color: #3B4455;\n",
              "      fill: #D2E3FC;\n",
              "    }\n",
              "\n",
              "    [theme=dark] .colab-df-convert:hover {\n",
              "      background-color: #434B5C;\n",
              "      box-shadow: 0px 1px 3px 1px rgba(0, 0, 0, 0.15);\n",
              "      filter: drop-shadow(0px 1px 2px rgba(0, 0, 0, 0.3));\n",
              "      fill: #FFFFFF;\n",
              "    }\n",
              "  </style>\n",
              "\n",
              "    <script>\n",
              "      const buttonEl =\n",
              "        document.querySelector('#df-c27f5cd5-cfbe-41d7-8187-b7c29bbc8e3c button.colab-df-convert');\n",
              "      buttonEl.style.display =\n",
              "        google.colab.kernel.accessAllowed ? 'block' : 'none';\n",
              "\n",
              "      async function convertToInteractive(key) {\n",
              "        const element = document.querySelector('#df-c27f5cd5-cfbe-41d7-8187-b7c29bbc8e3c');\n",
              "        const dataTable =\n",
              "          await google.colab.kernel.invokeFunction('convertToInteractive',\n",
              "                                                    [key], {});\n",
              "        if (!dataTable) return;\n",
              "\n",
              "        const docLinkHtml = 'Like what you see? Visit the ' +\n",
              "          '<a target=\"_blank\" href=https://colab.research.google.com/notebooks/data_table.ipynb>data table notebook</a>'\n",
              "          + ' to learn more about interactive tables.';\n",
              "        element.innerHTML = '';\n",
              "        dataTable['output_type'] = 'display_data';\n",
              "        await google.colab.output.renderOutput(dataTable, element);\n",
              "        const docLink = document.createElement('div');\n",
              "        docLink.innerHTML = docLinkHtml;\n",
              "        element.appendChild(docLink);\n",
              "      }\n",
              "    </script>\n",
              "  </div>\n",
              "\n",
              "\n",
              "<div id=\"df-e4666991-6ba9-47f2-bf90-30768baee4c8\">\n",
              "  <button class=\"colab-df-quickchart\" onclick=\"quickchart('df-e4666991-6ba9-47f2-bf90-30768baee4c8')\"\n",
              "            title=\"Suggest charts.\"\n",
              "            style=\"display:none;\">\n",
              "\n",
              "<svg xmlns=\"http://www.w3.org/2000/svg\" height=\"24px\"viewBox=\"0 0 24 24\"\n",
              "     width=\"24px\">\n",
              "    <g>\n",
              "        <path d=\"M19 3H5c-1.1 0-2 .9-2 2v14c0 1.1.9 2 2 2h14c1.1 0 2-.9 2-2V5c0-1.1-.9-2-2-2zM9 17H7v-7h2v7zm4 0h-2V7h2v10zm4 0h-2v-4h2v4z\"/>\n",
              "    </g>\n",
              "</svg>\n",
              "  </button>\n",
              "\n",
              "<style>\n",
              "  .colab-df-quickchart {\n",
              "    background-color: #E8F0FE;\n",
              "    border: none;\n",
              "    border-radius: 50%;\n",
              "    cursor: pointer;\n",
              "    display: none;\n",
              "    fill: #1967D2;\n",
              "    height: 32px;\n",
              "    padding: 0 0 0 0;\n",
              "    width: 32px;\n",
              "  }\n",
              "\n",
              "  .colab-df-quickchart:hover {\n",
              "    background-color: #E2EBFA;\n",
              "    box-shadow: 0px 1px 2px rgba(60, 64, 67, 0.3), 0px 1px 3px 1px rgba(60, 64, 67, 0.15);\n",
              "    fill: #174EA6;\n",
              "  }\n",
              "\n",
              "  [theme=dark] .colab-df-quickchart {\n",
              "    background-color: #3B4455;\n",
              "    fill: #D2E3FC;\n",
              "  }\n",
              "\n",
              "  [theme=dark] .colab-df-quickchart:hover {\n",
              "    background-color: #434B5C;\n",
              "    box-shadow: 0px 1px 3px 1px rgba(0, 0, 0, 0.15);\n",
              "    filter: drop-shadow(0px 1px 2px rgba(0, 0, 0, 0.3));\n",
              "    fill: #FFFFFF;\n",
              "  }\n",
              "</style>\n",
              "\n",
              "  <script>\n",
              "    async function quickchart(key) {\n",
              "      const charts = await google.colab.kernel.invokeFunction(\n",
              "          'suggestCharts', [key], {});\n",
              "    }\n",
              "    (() => {\n",
              "      let quickchartButtonEl =\n",
              "        document.querySelector('#df-e4666991-6ba9-47f2-bf90-30768baee4c8 button');\n",
              "      quickchartButtonEl.style.display =\n",
              "        google.colab.kernel.accessAllowed ? 'block' : 'none';\n",
              "    })();\n",
              "  </script>\n",
              "</div>\n",
              "    </div>\n",
              "  </div>\n"
            ]
          },
          "metadata": {},
          "execution_count": 6
        }
      ]
    },
    {
      "cell_type": "markdown",
      "source": [
        "Además, podemos ver que efectivamente una variable es cuantitativa y otra es cualitativa con la función \"info\":"
      ],
      "metadata": {
        "id": "ofEPW1J6r_ff"
      }
    },
    {
      "cell_type": "code",
      "source": [
        "df.info()"
      ],
      "metadata": {
        "id": "WKH5qBzSsYbY",
        "colab": {
          "base_uri": "https://localhost:8080/"
        },
        "outputId": "83153dcf-92d8-4df1-eec7-ddc247623662"
      },
      "execution_count": null,
      "outputs": [
        {
          "output_type": "stream",
          "name": "stdout",
          "text": [
            "<class 'pandas.core.frame.DataFrame'>\n",
            "RangeIndex: 300 entries, 0 to 299\n",
            "Data columns (total 2 columns):\n",
            " #   Column  Non-Null Count  Dtype \n",
            "---  ------  --------------  ----- \n",
            " 0   X       300 non-null    int64 \n",
            " 1   y       300 non-null    object\n",
            "dtypes: int64(1), object(1)\n",
            "memory usage: 4.8+ KB\n"
          ]
        }
      ]
    },
    {
      "cell_type": "markdown",
      "source": [
        "## Web Scraping\n",
        "\n",
        "Web Scraping consta de técnicas para bajar directamente bases de datos desde la web. Para distintas páginas se pueden aplicar distintas técnicas.\n",
        "\n",
        "\n",
        "\n",
        "### UCI\n",
        "\n",
        "[UCI](https://archive.ics.uci.edu/datasets) es un repositorio de datos para aplicar algoritmos de Machine Learning.\n",
        "\n",
        "A continuación vamos a descargar directamente una base de datos sobre salarios desde la [página](https://archive.ics.uci.edu/dataset/2/adult) correspondiente.\n",
        "\n",
        "Si se accede a la página, se puede bajar un link de descarga:"
      ],
      "metadata": {
        "id": "OoFKqMIsskW5"
      }
    },
    {
      "cell_type": "code",
      "source": [
        "url=\"https://archive.ics.uci.edu/static/public/2/adult.zip\""
      ],
      "metadata": {
        "id": "aVZt64KOvGXW"
      },
      "execution_count": null,
      "outputs": []
    },
    {
      "cell_type": "markdown",
      "source": [
        "#### Carga de datos\n",
        "\n",
        "Para bajar la base de datos directamente, se puede usar un paquete que se llama `wget`, que no siempre está disponible y que por eso conviene instalarlo previamente."
      ],
      "metadata": {
        "id": "JlCD4i-2vKsr"
      }
    },
    {
      "cell_type": "code",
      "source": [
        "!pip install wget\n",
        "import wget"
      ],
      "metadata": {
        "id": "S3WO7iD5vKPb",
        "colab": {
          "base_uri": "https://localhost:8080/"
        },
        "outputId": "c18439a5-b39d-4a1c-8ae8-9ae911d1994d"
      },
      "execution_count": null,
      "outputs": [
        {
          "output_type": "stream",
          "name": "stdout",
          "text": [
            "Collecting wget\n",
            "  Downloading wget-3.2.zip (10 kB)\n",
            "  Preparing metadata (setup.py) ... \u001b[?25l\u001b[?25hdone\n",
            "Building wheels for collected packages: wget\n",
            "  Building wheel for wget (setup.py) ... \u001b[?25l\u001b[?25hdone\n",
            "  Created wheel for wget: filename=wget-3.2-py3-none-any.whl size=9655 sha256=e71e66fbe1aa68e1cb507b1120fead87ad70b3d837ab81aa51b099531b31af8d\n",
            "  Stored in directory: /root/.cache/pip/wheels/8b/f1/7f/5c94f0a7a505ca1c81cd1d9208ae2064675d97582078e6c769\n",
            "Successfully built wget\n",
            "Installing collected packages: wget\n",
            "Successfully installed wget-3.2\n"
          ]
        }
      ]
    },
    {
      "cell_type": "markdown",
      "source": [
        "Con este paquete, se puede bajar el archivo .zip con los datos desde el url."
      ],
      "metadata": {
        "id": "ePKycJR-vQQ9"
      }
    },
    {
      "cell_type": "code",
      "source": [
        "wget.download(url, \"archivo.zip\")"
      ],
      "metadata": {
        "id": "9YdOIMfwvP_Q",
        "colab": {
          "base_uri": "https://localhost:8080/",
          "height": 35
        },
        "outputId": "a4a8bca6-26b4-4676-ba90-52d21deebec8"
      },
      "execution_count": null,
      "outputs": [
        {
          "output_type": "execute_result",
          "data": {
            "text/plain": [
              "'archivo.zip'"
            ],
            "application/vnd.google.colaboratory.intrinsic+json": {
              "type": "string"
            }
          },
          "metadata": {},
          "execution_count": 10
        }
      ]
    },
    {
      "cell_type": "markdown",
      "source": [
        "Este archivo .zip descargado aparece en la carpeta de contenido a la izquierda.\n",
        "\n",
        "Luego hay que extraer la base de datos del zip, por eso, se utilizan los siguientes comandos:"
      ],
      "metadata": {
        "id": "oO2ETY7WvYCL"
      }
    },
    {
      "cell_type": "code",
      "source": [
        "import zipfile\n",
        "import os\n",
        "\n",
        "os.listdir()\n",
        "\n",
        "for file in os.listdir():\n",
        "    if file.endswith('.zip'):\n",
        "      zip_ref = zipfile.ZipFile(file, 'r')\n",
        "      zip_ref.extractall()\n",
        "      zip_ref.close()"
      ],
      "metadata": {
        "id": "GcrEYyYtvXeb"
      },
      "execution_count": null,
      "outputs": []
    },
    {
      "cell_type": "markdown",
      "source": [
        "Accedemos al contenido de archivos y vemos que el archivo se denomina `adult.data`. Para leer esta base podemos usar el comando `read_csv` del paquete `pandas`:"
      ],
      "metadata": {
        "id": "lyp-DEGIwKdm"
      }
    },
    {
      "cell_type": "code",
      "source": [
        "df=pd.read_csv(\"/content/adult.data\")"
      ],
      "metadata": {
        "id": "kuq5WBYlwR9V"
      },
      "execution_count": null,
      "outputs": []
    },
    {
      "cell_type": "markdown",
      "source": [
        "#### Inspección de la base\n",
        "\n",
        "Vemos que los datos no quedan bien cargados con el método `.head()`:"
      ],
      "metadata": {
        "id": "riflPVn4wU-2"
      }
    },
    {
      "cell_type": "code",
      "source": [
        "df.head()"
      ],
      "metadata": {
        "id": "2n4kWNjcwh3c",
        "colab": {
          "base_uri": "https://localhost:8080/",
          "height": 328
        },
        "outputId": "15ccdb40-b0c2-4acf-9ad7-05c37c6d3ce8"
      },
      "execution_count": null,
      "outputs": [
        {
          "output_type": "execute_result",
          "data": {
            "text/plain": [
              "   39          State-gov   77516   Bachelors   13        Never-married  \\\n",
              "0  50   Self-emp-not-inc   83311   Bachelors   13   Married-civ-spouse   \n",
              "1  38            Private  215646     HS-grad    9             Divorced   \n",
              "2  53            Private  234721        11th    7   Married-civ-spouse   \n",
              "3  28            Private  338409   Bachelors   13   Married-civ-spouse   \n",
              "4  37            Private  284582     Masters   14   Married-civ-spouse   \n",
              "\n",
              "         Adm-clerical   Not-in-family   White     Male   2174   0   40  \\\n",
              "0     Exec-managerial         Husband   White     Male      0   0   13   \n",
              "1   Handlers-cleaners   Not-in-family   White     Male      0   0   40   \n",
              "2   Handlers-cleaners         Husband   Black     Male      0   0   40   \n",
              "3      Prof-specialty            Wife   Black   Female      0   0   40   \n",
              "4     Exec-managerial            Wife   White   Female      0   0   40   \n",
              "\n",
              "    United-States   <=50K  \n",
              "0   United-States   <=50K  \n",
              "1   United-States   <=50K  \n",
              "2   United-States   <=50K  \n",
              "3            Cuba   <=50K  \n",
              "4   United-States   <=50K  "
            ],
            "text/html": [
              "\n",
              "  <div id=\"df-e0779558-d4c6-4d03-80a9-1760148c2cbb\" class=\"colab-df-container\">\n",
              "    <div>\n",
              "<style scoped>\n",
              "    .dataframe tbody tr th:only-of-type {\n",
              "        vertical-align: middle;\n",
              "    }\n",
              "\n",
              "    .dataframe tbody tr th {\n",
              "        vertical-align: top;\n",
              "    }\n",
              "\n",
              "    .dataframe thead th {\n",
              "        text-align: right;\n",
              "    }\n",
              "</style>\n",
              "<table border=\"1\" class=\"dataframe\">\n",
              "  <thead>\n",
              "    <tr style=\"text-align: right;\">\n",
              "      <th></th>\n",
              "      <th>39</th>\n",
              "      <th>State-gov</th>\n",
              "      <th>77516</th>\n",
              "      <th>Bachelors</th>\n",
              "      <th>13</th>\n",
              "      <th>Never-married</th>\n",
              "      <th>Adm-clerical</th>\n",
              "      <th>Not-in-family</th>\n",
              "      <th>White</th>\n",
              "      <th>Male</th>\n",
              "      <th>2174</th>\n",
              "      <th>0</th>\n",
              "      <th>40</th>\n",
              "      <th>United-States</th>\n",
              "      <th>&lt;=50K</th>\n",
              "    </tr>\n",
              "  </thead>\n",
              "  <tbody>\n",
              "    <tr>\n",
              "      <th>0</th>\n",
              "      <td>50</td>\n",
              "      <td>Self-emp-not-inc</td>\n",
              "      <td>83311</td>\n",
              "      <td>Bachelors</td>\n",
              "      <td>13</td>\n",
              "      <td>Married-civ-spouse</td>\n",
              "      <td>Exec-managerial</td>\n",
              "      <td>Husband</td>\n",
              "      <td>White</td>\n",
              "      <td>Male</td>\n",
              "      <td>0</td>\n",
              "      <td>0</td>\n",
              "      <td>13</td>\n",
              "      <td>United-States</td>\n",
              "      <td>&lt;=50K</td>\n",
              "    </tr>\n",
              "    <tr>\n",
              "      <th>1</th>\n",
              "      <td>38</td>\n",
              "      <td>Private</td>\n",
              "      <td>215646</td>\n",
              "      <td>HS-grad</td>\n",
              "      <td>9</td>\n",
              "      <td>Divorced</td>\n",
              "      <td>Handlers-cleaners</td>\n",
              "      <td>Not-in-family</td>\n",
              "      <td>White</td>\n",
              "      <td>Male</td>\n",
              "      <td>0</td>\n",
              "      <td>0</td>\n",
              "      <td>40</td>\n",
              "      <td>United-States</td>\n",
              "      <td>&lt;=50K</td>\n",
              "    </tr>\n",
              "    <tr>\n",
              "      <th>2</th>\n",
              "      <td>53</td>\n",
              "      <td>Private</td>\n",
              "      <td>234721</td>\n",
              "      <td>11th</td>\n",
              "      <td>7</td>\n",
              "      <td>Married-civ-spouse</td>\n",
              "      <td>Handlers-cleaners</td>\n",
              "      <td>Husband</td>\n",
              "      <td>Black</td>\n",
              "      <td>Male</td>\n",
              "      <td>0</td>\n",
              "      <td>0</td>\n",
              "      <td>40</td>\n",
              "      <td>United-States</td>\n",
              "      <td>&lt;=50K</td>\n",
              "    </tr>\n",
              "    <tr>\n",
              "      <th>3</th>\n",
              "      <td>28</td>\n",
              "      <td>Private</td>\n",
              "      <td>338409</td>\n",
              "      <td>Bachelors</td>\n",
              "      <td>13</td>\n",
              "      <td>Married-civ-spouse</td>\n",
              "      <td>Prof-specialty</td>\n",
              "      <td>Wife</td>\n",
              "      <td>Black</td>\n",
              "      <td>Female</td>\n",
              "      <td>0</td>\n",
              "      <td>0</td>\n",
              "      <td>40</td>\n",
              "      <td>Cuba</td>\n",
              "      <td>&lt;=50K</td>\n",
              "    </tr>\n",
              "    <tr>\n",
              "      <th>4</th>\n",
              "      <td>37</td>\n",
              "      <td>Private</td>\n",
              "      <td>284582</td>\n",
              "      <td>Masters</td>\n",
              "      <td>14</td>\n",
              "      <td>Married-civ-spouse</td>\n",
              "      <td>Exec-managerial</td>\n",
              "      <td>Wife</td>\n",
              "      <td>White</td>\n",
              "      <td>Female</td>\n",
              "      <td>0</td>\n",
              "      <td>0</td>\n",
              "      <td>40</td>\n",
              "      <td>United-States</td>\n",
              "      <td>&lt;=50K</td>\n",
              "    </tr>\n",
              "  </tbody>\n",
              "</table>\n",
              "</div>\n",
              "    <div class=\"colab-df-buttons\">\n",
              "\n",
              "  <div class=\"colab-df-container\">\n",
              "    <button class=\"colab-df-convert\" onclick=\"convertToInteractive('df-e0779558-d4c6-4d03-80a9-1760148c2cbb')\"\n",
              "            title=\"Convert this dataframe to an interactive table.\"\n",
              "            style=\"display:none;\">\n",
              "\n",
              "  <svg xmlns=\"http://www.w3.org/2000/svg\" height=\"24px\" viewBox=\"0 -960 960 960\">\n",
              "    <path d=\"M120-120v-720h720v720H120Zm60-500h600v-160H180v160Zm220 220h160v-160H400v160Zm0 220h160v-160H400v160ZM180-400h160v-160H180v160Zm440 0h160v-160H620v160ZM180-180h160v-160H180v160Zm440 0h160v-160H620v160Z\"/>\n",
              "  </svg>\n",
              "    </button>\n",
              "\n",
              "  <style>\n",
              "    .colab-df-container {\n",
              "      display:flex;\n",
              "      gap: 12px;\n",
              "    }\n",
              "\n",
              "    .colab-df-convert {\n",
              "      background-color: #E8F0FE;\n",
              "      border: none;\n",
              "      border-radius: 50%;\n",
              "      cursor: pointer;\n",
              "      display: none;\n",
              "      fill: #1967D2;\n",
              "      height: 32px;\n",
              "      padding: 0 0 0 0;\n",
              "      width: 32px;\n",
              "    }\n",
              "\n",
              "    .colab-df-convert:hover {\n",
              "      background-color: #E2EBFA;\n",
              "      box-shadow: 0px 1px 2px rgba(60, 64, 67, 0.3), 0px 1px 3px 1px rgba(60, 64, 67, 0.15);\n",
              "      fill: #174EA6;\n",
              "    }\n",
              "\n",
              "    .colab-df-buttons div {\n",
              "      margin-bottom: 4px;\n",
              "    }\n",
              "\n",
              "    [theme=dark] .colab-df-convert {\n",
              "      background-color: #3B4455;\n",
              "      fill: #D2E3FC;\n",
              "    }\n",
              "\n",
              "    [theme=dark] .colab-df-convert:hover {\n",
              "      background-color: #434B5C;\n",
              "      box-shadow: 0px 1px 3px 1px rgba(0, 0, 0, 0.15);\n",
              "      filter: drop-shadow(0px 1px 2px rgba(0, 0, 0, 0.3));\n",
              "      fill: #FFFFFF;\n",
              "    }\n",
              "  </style>\n",
              "\n",
              "    <script>\n",
              "      const buttonEl =\n",
              "        document.querySelector('#df-e0779558-d4c6-4d03-80a9-1760148c2cbb button.colab-df-convert');\n",
              "      buttonEl.style.display =\n",
              "        google.colab.kernel.accessAllowed ? 'block' : 'none';\n",
              "\n",
              "      async function convertToInteractive(key) {\n",
              "        const element = document.querySelector('#df-e0779558-d4c6-4d03-80a9-1760148c2cbb');\n",
              "        const dataTable =\n",
              "          await google.colab.kernel.invokeFunction('convertToInteractive',\n",
              "                                                    [key], {});\n",
              "        if (!dataTable) return;\n",
              "\n",
              "        const docLinkHtml = 'Like what you see? Visit the ' +\n",
              "          '<a target=\"_blank\" href=https://colab.research.google.com/notebooks/data_table.ipynb>data table notebook</a>'\n",
              "          + ' to learn more about interactive tables.';\n",
              "        element.innerHTML = '';\n",
              "        dataTable['output_type'] = 'display_data';\n",
              "        await google.colab.output.renderOutput(dataTable, element);\n",
              "        const docLink = document.createElement('div');\n",
              "        docLink.innerHTML = docLinkHtml;\n",
              "        element.appendChild(docLink);\n",
              "      }\n",
              "    </script>\n",
              "  </div>\n",
              "\n",
              "\n",
              "<div id=\"df-2763c7cb-be21-4656-a243-9c6a683ccf95\">\n",
              "  <button class=\"colab-df-quickchart\" onclick=\"quickchart('df-2763c7cb-be21-4656-a243-9c6a683ccf95')\"\n",
              "            title=\"Suggest charts.\"\n",
              "            style=\"display:none;\">\n",
              "\n",
              "<svg xmlns=\"http://www.w3.org/2000/svg\" height=\"24px\"viewBox=\"0 0 24 24\"\n",
              "     width=\"24px\">\n",
              "    <g>\n",
              "        <path d=\"M19 3H5c-1.1 0-2 .9-2 2v14c0 1.1.9 2 2 2h14c1.1 0 2-.9 2-2V5c0-1.1-.9-2-2-2zM9 17H7v-7h2v7zm4 0h-2V7h2v10zm4 0h-2v-4h2v4z\"/>\n",
              "    </g>\n",
              "</svg>\n",
              "  </button>\n",
              "\n",
              "<style>\n",
              "  .colab-df-quickchart {\n",
              "    background-color: #E8F0FE;\n",
              "    border: none;\n",
              "    border-radius: 50%;\n",
              "    cursor: pointer;\n",
              "    display: none;\n",
              "    fill: #1967D2;\n",
              "    height: 32px;\n",
              "    padding: 0 0 0 0;\n",
              "    width: 32px;\n",
              "  }\n",
              "\n",
              "  .colab-df-quickchart:hover {\n",
              "    background-color: #E2EBFA;\n",
              "    box-shadow: 0px 1px 2px rgba(60, 64, 67, 0.3), 0px 1px 3px 1px rgba(60, 64, 67, 0.15);\n",
              "    fill: #174EA6;\n",
              "  }\n",
              "\n",
              "  [theme=dark] .colab-df-quickchart {\n",
              "    background-color: #3B4455;\n",
              "    fill: #D2E3FC;\n",
              "  }\n",
              "\n",
              "  [theme=dark] .colab-df-quickchart:hover {\n",
              "    background-color: #434B5C;\n",
              "    box-shadow: 0px 1px 3px 1px rgba(0, 0, 0, 0.15);\n",
              "    filter: drop-shadow(0px 1px 2px rgba(0, 0, 0, 0.3));\n",
              "    fill: #FFFFFF;\n",
              "  }\n",
              "</style>\n",
              "\n",
              "  <script>\n",
              "    async function quickchart(key) {\n",
              "      const charts = await google.colab.kernel.invokeFunction(\n",
              "          'suggestCharts', [key], {});\n",
              "    }\n",
              "    (() => {\n",
              "      let quickchartButtonEl =\n",
              "        document.querySelector('#df-2763c7cb-be21-4656-a243-9c6a683ccf95 button');\n",
              "      quickchartButtonEl.style.display =\n",
              "        google.colab.kernel.accessAllowed ? 'block' : 'none';\n",
              "    })();\n",
              "  </script>\n",
              "</div>\n",
              "    </div>\n",
              "  </div>\n"
            ]
          },
          "metadata": {},
          "execution_count": 14
        }
      ]
    },
    {
      "cell_type": "markdown",
      "source": [
        "Vemos que las columnas parecen ser valores de la base de datos que no deberían considerarse como nombres. Por lo tanto, se puede agregar que los datos no tienen cabecera, con el argumento `header=None`:"
      ],
      "metadata": {
        "id": "P7KeVmwiwjxO"
      }
    },
    {
      "cell_type": "code",
      "source": [
        "df=pd.read_csv(\"/content/adult.data\",header=None)\n",
        "df.head()"
      ],
      "metadata": {
        "id": "GRrO70aAwjgB",
        "colab": {
          "base_uri": "https://localhost:8080/",
          "height": 293
        },
        "outputId": "f250ef25-8ec1-4654-99f9-5251436e7022"
      },
      "execution_count": null,
      "outputs": [
        {
          "output_type": "execute_result",
          "data": {
            "text/plain": [
              "   0                  1       2           3   4                    5   \\\n",
              "0  39          State-gov   77516   Bachelors  13        Never-married   \n",
              "1  50   Self-emp-not-inc   83311   Bachelors  13   Married-civ-spouse   \n",
              "2  38            Private  215646     HS-grad   9             Divorced   \n",
              "3  53            Private  234721        11th   7   Married-civ-spouse   \n",
              "4  28            Private  338409   Bachelors  13   Married-civ-spouse   \n",
              "\n",
              "                   6               7       8        9     10  11  12  \\\n",
              "0        Adm-clerical   Not-in-family   White     Male  2174   0  40   \n",
              "1     Exec-managerial         Husband   White     Male     0   0  13   \n",
              "2   Handlers-cleaners   Not-in-family   White     Male     0   0  40   \n",
              "3   Handlers-cleaners         Husband   Black     Male     0   0  40   \n",
              "4      Prof-specialty            Wife   Black   Female     0   0  40   \n",
              "\n",
              "               13      14  \n",
              "0   United-States   <=50K  \n",
              "1   United-States   <=50K  \n",
              "2   United-States   <=50K  \n",
              "3   United-States   <=50K  \n",
              "4            Cuba   <=50K  "
            ],
            "text/html": [
              "\n",
              "  <div id=\"df-02728c9d-6999-4411-9727-d42022c41292\" class=\"colab-df-container\">\n",
              "    <div>\n",
              "<style scoped>\n",
              "    .dataframe tbody tr th:only-of-type {\n",
              "        vertical-align: middle;\n",
              "    }\n",
              "\n",
              "    .dataframe tbody tr th {\n",
              "        vertical-align: top;\n",
              "    }\n",
              "\n",
              "    .dataframe thead th {\n",
              "        text-align: right;\n",
              "    }\n",
              "</style>\n",
              "<table border=\"1\" class=\"dataframe\">\n",
              "  <thead>\n",
              "    <tr style=\"text-align: right;\">\n",
              "      <th></th>\n",
              "      <th>0</th>\n",
              "      <th>1</th>\n",
              "      <th>2</th>\n",
              "      <th>3</th>\n",
              "      <th>4</th>\n",
              "      <th>5</th>\n",
              "      <th>6</th>\n",
              "      <th>7</th>\n",
              "      <th>8</th>\n",
              "      <th>9</th>\n",
              "      <th>10</th>\n",
              "      <th>11</th>\n",
              "      <th>12</th>\n",
              "      <th>13</th>\n",
              "      <th>14</th>\n",
              "    </tr>\n",
              "  </thead>\n",
              "  <tbody>\n",
              "    <tr>\n",
              "      <th>0</th>\n",
              "      <td>39</td>\n",
              "      <td>State-gov</td>\n",
              "      <td>77516</td>\n",
              "      <td>Bachelors</td>\n",
              "      <td>13</td>\n",
              "      <td>Never-married</td>\n",
              "      <td>Adm-clerical</td>\n",
              "      <td>Not-in-family</td>\n",
              "      <td>White</td>\n",
              "      <td>Male</td>\n",
              "      <td>2174</td>\n",
              "      <td>0</td>\n",
              "      <td>40</td>\n",
              "      <td>United-States</td>\n",
              "      <td>&lt;=50K</td>\n",
              "    </tr>\n",
              "    <tr>\n",
              "      <th>1</th>\n",
              "      <td>50</td>\n",
              "      <td>Self-emp-not-inc</td>\n",
              "      <td>83311</td>\n",
              "      <td>Bachelors</td>\n",
              "      <td>13</td>\n",
              "      <td>Married-civ-spouse</td>\n",
              "      <td>Exec-managerial</td>\n",
              "      <td>Husband</td>\n",
              "      <td>White</td>\n",
              "      <td>Male</td>\n",
              "      <td>0</td>\n",
              "      <td>0</td>\n",
              "      <td>13</td>\n",
              "      <td>United-States</td>\n",
              "      <td>&lt;=50K</td>\n",
              "    </tr>\n",
              "    <tr>\n",
              "      <th>2</th>\n",
              "      <td>38</td>\n",
              "      <td>Private</td>\n",
              "      <td>215646</td>\n",
              "      <td>HS-grad</td>\n",
              "      <td>9</td>\n",
              "      <td>Divorced</td>\n",
              "      <td>Handlers-cleaners</td>\n",
              "      <td>Not-in-family</td>\n",
              "      <td>White</td>\n",
              "      <td>Male</td>\n",
              "      <td>0</td>\n",
              "      <td>0</td>\n",
              "      <td>40</td>\n",
              "      <td>United-States</td>\n",
              "      <td>&lt;=50K</td>\n",
              "    </tr>\n",
              "    <tr>\n",
              "      <th>3</th>\n",
              "      <td>53</td>\n",
              "      <td>Private</td>\n",
              "      <td>234721</td>\n",
              "      <td>11th</td>\n",
              "      <td>7</td>\n",
              "      <td>Married-civ-spouse</td>\n",
              "      <td>Handlers-cleaners</td>\n",
              "      <td>Husband</td>\n",
              "      <td>Black</td>\n",
              "      <td>Male</td>\n",
              "      <td>0</td>\n",
              "      <td>0</td>\n",
              "      <td>40</td>\n",
              "      <td>United-States</td>\n",
              "      <td>&lt;=50K</td>\n",
              "    </tr>\n",
              "    <tr>\n",
              "      <th>4</th>\n",
              "      <td>28</td>\n",
              "      <td>Private</td>\n",
              "      <td>338409</td>\n",
              "      <td>Bachelors</td>\n",
              "      <td>13</td>\n",
              "      <td>Married-civ-spouse</td>\n",
              "      <td>Prof-specialty</td>\n",
              "      <td>Wife</td>\n",
              "      <td>Black</td>\n",
              "      <td>Female</td>\n",
              "      <td>0</td>\n",
              "      <td>0</td>\n",
              "      <td>40</td>\n",
              "      <td>Cuba</td>\n",
              "      <td>&lt;=50K</td>\n",
              "    </tr>\n",
              "  </tbody>\n",
              "</table>\n",
              "</div>\n",
              "    <div class=\"colab-df-buttons\">\n",
              "\n",
              "  <div class=\"colab-df-container\">\n",
              "    <button class=\"colab-df-convert\" onclick=\"convertToInteractive('df-02728c9d-6999-4411-9727-d42022c41292')\"\n",
              "            title=\"Convert this dataframe to an interactive table.\"\n",
              "            style=\"display:none;\">\n",
              "\n",
              "  <svg xmlns=\"http://www.w3.org/2000/svg\" height=\"24px\" viewBox=\"0 -960 960 960\">\n",
              "    <path d=\"M120-120v-720h720v720H120Zm60-500h600v-160H180v160Zm220 220h160v-160H400v160Zm0 220h160v-160H400v160ZM180-400h160v-160H180v160Zm440 0h160v-160H620v160ZM180-180h160v-160H180v160Zm440 0h160v-160H620v160Z\"/>\n",
              "  </svg>\n",
              "    </button>\n",
              "\n",
              "  <style>\n",
              "    .colab-df-container {\n",
              "      display:flex;\n",
              "      gap: 12px;\n",
              "    }\n",
              "\n",
              "    .colab-df-convert {\n",
              "      background-color: #E8F0FE;\n",
              "      border: none;\n",
              "      border-radius: 50%;\n",
              "      cursor: pointer;\n",
              "      display: none;\n",
              "      fill: #1967D2;\n",
              "      height: 32px;\n",
              "      padding: 0 0 0 0;\n",
              "      width: 32px;\n",
              "    }\n",
              "\n",
              "    .colab-df-convert:hover {\n",
              "      background-color: #E2EBFA;\n",
              "      box-shadow: 0px 1px 2px rgba(60, 64, 67, 0.3), 0px 1px 3px 1px rgba(60, 64, 67, 0.15);\n",
              "      fill: #174EA6;\n",
              "    }\n",
              "\n",
              "    .colab-df-buttons div {\n",
              "      margin-bottom: 4px;\n",
              "    }\n",
              "\n",
              "    [theme=dark] .colab-df-convert {\n",
              "      background-color: #3B4455;\n",
              "      fill: #D2E3FC;\n",
              "    }\n",
              "\n",
              "    [theme=dark] .colab-df-convert:hover {\n",
              "      background-color: #434B5C;\n",
              "      box-shadow: 0px 1px 3px 1px rgba(0, 0, 0, 0.15);\n",
              "      filter: drop-shadow(0px 1px 2px rgba(0, 0, 0, 0.3));\n",
              "      fill: #FFFFFF;\n",
              "    }\n",
              "  </style>\n",
              "\n",
              "    <script>\n",
              "      const buttonEl =\n",
              "        document.querySelector('#df-02728c9d-6999-4411-9727-d42022c41292 button.colab-df-convert');\n",
              "      buttonEl.style.display =\n",
              "        google.colab.kernel.accessAllowed ? 'block' : 'none';\n",
              "\n",
              "      async function convertToInteractive(key) {\n",
              "        const element = document.querySelector('#df-02728c9d-6999-4411-9727-d42022c41292');\n",
              "        const dataTable =\n",
              "          await google.colab.kernel.invokeFunction('convertToInteractive',\n",
              "                                                    [key], {});\n",
              "        if (!dataTable) return;\n",
              "\n",
              "        const docLinkHtml = 'Like what you see? Visit the ' +\n",
              "          '<a target=\"_blank\" href=https://colab.research.google.com/notebooks/data_table.ipynb>data table notebook</a>'\n",
              "          + ' to learn more about interactive tables.';\n",
              "        element.innerHTML = '';\n",
              "        dataTable['output_type'] = 'display_data';\n",
              "        await google.colab.output.renderOutput(dataTable, element);\n",
              "        const docLink = document.createElement('div');\n",
              "        docLink.innerHTML = docLinkHtml;\n",
              "        element.appendChild(docLink);\n",
              "      }\n",
              "    </script>\n",
              "  </div>\n",
              "\n",
              "\n",
              "<div id=\"df-b25eef97-287a-407e-9a75-6eb751716c4d\">\n",
              "  <button class=\"colab-df-quickchart\" onclick=\"quickchart('df-b25eef97-287a-407e-9a75-6eb751716c4d')\"\n",
              "            title=\"Suggest charts.\"\n",
              "            style=\"display:none;\">\n",
              "\n",
              "<svg xmlns=\"http://www.w3.org/2000/svg\" height=\"24px\"viewBox=\"0 0 24 24\"\n",
              "     width=\"24px\">\n",
              "    <g>\n",
              "        <path d=\"M19 3H5c-1.1 0-2 .9-2 2v14c0 1.1.9 2 2 2h14c1.1 0 2-.9 2-2V5c0-1.1-.9-2-2-2zM9 17H7v-7h2v7zm4 0h-2V7h2v10zm4 0h-2v-4h2v4z\"/>\n",
              "    </g>\n",
              "</svg>\n",
              "  </button>\n",
              "\n",
              "<style>\n",
              "  .colab-df-quickchart {\n",
              "    background-color: #E8F0FE;\n",
              "    border: none;\n",
              "    border-radius: 50%;\n",
              "    cursor: pointer;\n",
              "    display: none;\n",
              "    fill: #1967D2;\n",
              "    height: 32px;\n",
              "    padding: 0 0 0 0;\n",
              "    width: 32px;\n",
              "  }\n",
              "\n",
              "  .colab-df-quickchart:hover {\n",
              "    background-color: #E2EBFA;\n",
              "    box-shadow: 0px 1px 2px rgba(60, 64, 67, 0.3), 0px 1px 3px 1px rgba(60, 64, 67, 0.15);\n",
              "    fill: #174EA6;\n",
              "  }\n",
              "\n",
              "  [theme=dark] .colab-df-quickchart {\n",
              "    background-color: #3B4455;\n",
              "    fill: #D2E3FC;\n",
              "  }\n",
              "\n",
              "  [theme=dark] .colab-df-quickchart:hover {\n",
              "    background-color: #434B5C;\n",
              "    box-shadow: 0px 1px 3px 1px rgba(0, 0, 0, 0.15);\n",
              "    filter: drop-shadow(0px 1px 2px rgba(0, 0, 0, 0.3));\n",
              "    fill: #FFFFFF;\n",
              "  }\n",
              "</style>\n",
              "\n",
              "  <script>\n",
              "    async function quickchart(key) {\n",
              "      const charts = await google.colab.kernel.invokeFunction(\n",
              "          'suggestCharts', [key], {});\n",
              "    }\n",
              "    (() => {\n",
              "      let quickchartButtonEl =\n",
              "        document.querySelector('#df-b25eef97-287a-407e-9a75-6eb751716c4d button');\n",
              "      quickchartButtonEl.style.display =\n",
              "        google.colab.kernel.accessAllowed ? 'block' : 'none';\n",
              "    })();\n",
              "  </script>\n",
              "</div>\n",
              "    </div>\n",
              "  </div>\n"
            ]
          },
          "metadata": {},
          "execution_count": 29
        }
      ]
    },
    {
      "cell_type": "markdown",
      "source": [
        "Falta nombrar las variables, buscando los nombres de las variables en el link estos se pueden agregar como nombres de las columnas:"
      ],
      "metadata": {
        "id": "NLV6Z5aiwn03"
      }
    },
    {
      "cell_type": "code",
      "source": [
        "vars=[\"age\",\"workclass\",\"fnlwgt\",\"education\",\"education-num\",\n",
        "      \"marital-status\",\"occupation\",\"relationship\",\"race\",\"sex\",\n",
        "      \"capital-gain\",\"capital-loss\",\"hours-per-week\",\"native-country\",\"class\"]\n",
        "df.columns=vars\n",
        "df.head()"
      ],
      "metadata": {
        "id": "EfuQaGsiwnkr",
        "colab": {
          "base_uri": "https://localhost:8080/",
          "height": 348
        },
        "outputId": "f5e1d74f-c129-4dc3-d953-420052b9bbf1"
      },
      "execution_count": null,
      "outputs": [
        {
          "output_type": "execute_result",
          "data": {
            "text/plain": [
              "   age          workclass  fnlwgt   education  education-num  \\\n",
              "0   39          State-gov   77516   Bachelors             13   \n",
              "1   50   Self-emp-not-inc   83311   Bachelors             13   \n",
              "2   38            Private  215646     HS-grad              9   \n",
              "3   53            Private  234721        11th              7   \n",
              "4   28            Private  338409   Bachelors             13   \n",
              "\n",
              "        marital-status          occupation    relationship    race      sex  \\\n",
              "0        Never-married        Adm-clerical   Not-in-family   White     Male   \n",
              "1   Married-civ-spouse     Exec-managerial         Husband   White     Male   \n",
              "2             Divorced   Handlers-cleaners   Not-in-family   White     Male   \n",
              "3   Married-civ-spouse   Handlers-cleaners         Husband   Black     Male   \n",
              "4   Married-civ-spouse      Prof-specialty            Wife   Black   Female   \n",
              "\n",
              "   capital-gain  capital-loss  hours-per-week  native-country   class  \n",
              "0          2174             0              40   United-States   <=50K  \n",
              "1             0             0              13   United-States   <=50K  \n",
              "2             0             0              40   United-States   <=50K  \n",
              "3             0             0              40   United-States   <=50K  \n",
              "4             0             0              40            Cuba   <=50K  "
            ],
            "text/html": [
              "\n",
              "  <div id=\"df-148e335d-6dd5-4b2f-ba0c-d118c7766c1d\" class=\"colab-df-container\">\n",
              "    <div>\n",
              "<style scoped>\n",
              "    .dataframe tbody tr th:only-of-type {\n",
              "        vertical-align: middle;\n",
              "    }\n",
              "\n",
              "    .dataframe tbody tr th {\n",
              "        vertical-align: top;\n",
              "    }\n",
              "\n",
              "    .dataframe thead th {\n",
              "        text-align: right;\n",
              "    }\n",
              "</style>\n",
              "<table border=\"1\" class=\"dataframe\">\n",
              "  <thead>\n",
              "    <tr style=\"text-align: right;\">\n",
              "      <th></th>\n",
              "      <th>age</th>\n",
              "      <th>workclass</th>\n",
              "      <th>fnlwgt</th>\n",
              "      <th>education</th>\n",
              "      <th>education-num</th>\n",
              "      <th>marital-status</th>\n",
              "      <th>occupation</th>\n",
              "      <th>relationship</th>\n",
              "      <th>race</th>\n",
              "      <th>sex</th>\n",
              "      <th>capital-gain</th>\n",
              "      <th>capital-loss</th>\n",
              "      <th>hours-per-week</th>\n",
              "      <th>native-country</th>\n",
              "      <th>class</th>\n",
              "    </tr>\n",
              "  </thead>\n",
              "  <tbody>\n",
              "    <tr>\n",
              "      <th>0</th>\n",
              "      <td>39</td>\n",
              "      <td>State-gov</td>\n",
              "      <td>77516</td>\n",
              "      <td>Bachelors</td>\n",
              "      <td>13</td>\n",
              "      <td>Never-married</td>\n",
              "      <td>Adm-clerical</td>\n",
              "      <td>Not-in-family</td>\n",
              "      <td>White</td>\n",
              "      <td>Male</td>\n",
              "      <td>2174</td>\n",
              "      <td>0</td>\n",
              "      <td>40</td>\n",
              "      <td>United-States</td>\n",
              "      <td>&lt;=50K</td>\n",
              "    </tr>\n",
              "    <tr>\n",
              "      <th>1</th>\n",
              "      <td>50</td>\n",
              "      <td>Self-emp-not-inc</td>\n",
              "      <td>83311</td>\n",
              "      <td>Bachelors</td>\n",
              "      <td>13</td>\n",
              "      <td>Married-civ-spouse</td>\n",
              "      <td>Exec-managerial</td>\n",
              "      <td>Husband</td>\n",
              "      <td>White</td>\n",
              "      <td>Male</td>\n",
              "      <td>0</td>\n",
              "      <td>0</td>\n",
              "      <td>13</td>\n",
              "      <td>United-States</td>\n",
              "      <td>&lt;=50K</td>\n",
              "    </tr>\n",
              "    <tr>\n",
              "      <th>2</th>\n",
              "      <td>38</td>\n",
              "      <td>Private</td>\n",
              "      <td>215646</td>\n",
              "      <td>HS-grad</td>\n",
              "      <td>9</td>\n",
              "      <td>Divorced</td>\n",
              "      <td>Handlers-cleaners</td>\n",
              "      <td>Not-in-family</td>\n",
              "      <td>White</td>\n",
              "      <td>Male</td>\n",
              "      <td>0</td>\n",
              "      <td>0</td>\n",
              "      <td>40</td>\n",
              "      <td>United-States</td>\n",
              "      <td>&lt;=50K</td>\n",
              "    </tr>\n",
              "    <tr>\n",
              "      <th>3</th>\n",
              "      <td>53</td>\n",
              "      <td>Private</td>\n",
              "      <td>234721</td>\n",
              "      <td>11th</td>\n",
              "      <td>7</td>\n",
              "      <td>Married-civ-spouse</td>\n",
              "      <td>Handlers-cleaners</td>\n",
              "      <td>Husband</td>\n",
              "      <td>Black</td>\n",
              "      <td>Male</td>\n",
              "      <td>0</td>\n",
              "      <td>0</td>\n",
              "      <td>40</td>\n",
              "      <td>United-States</td>\n",
              "      <td>&lt;=50K</td>\n",
              "    </tr>\n",
              "    <tr>\n",
              "      <th>4</th>\n",
              "      <td>28</td>\n",
              "      <td>Private</td>\n",
              "      <td>338409</td>\n",
              "      <td>Bachelors</td>\n",
              "      <td>13</td>\n",
              "      <td>Married-civ-spouse</td>\n",
              "      <td>Prof-specialty</td>\n",
              "      <td>Wife</td>\n",
              "      <td>Black</td>\n",
              "      <td>Female</td>\n",
              "      <td>0</td>\n",
              "      <td>0</td>\n",
              "      <td>40</td>\n",
              "      <td>Cuba</td>\n",
              "      <td>&lt;=50K</td>\n",
              "    </tr>\n",
              "  </tbody>\n",
              "</table>\n",
              "</div>\n",
              "    <div class=\"colab-df-buttons\">\n",
              "\n",
              "  <div class=\"colab-df-container\">\n",
              "    <button class=\"colab-df-convert\" onclick=\"convertToInteractive('df-148e335d-6dd5-4b2f-ba0c-d118c7766c1d')\"\n",
              "            title=\"Convert this dataframe to an interactive table.\"\n",
              "            style=\"display:none;\">\n",
              "\n",
              "  <svg xmlns=\"http://www.w3.org/2000/svg\" height=\"24px\" viewBox=\"0 -960 960 960\">\n",
              "    <path d=\"M120-120v-720h720v720H120Zm60-500h600v-160H180v160Zm220 220h160v-160H400v160Zm0 220h160v-160H400v160ZM180-400h160v-160H180v160Zm440 0h160v-160H620v160ZM180-180h160v-160H180v160Zm440 0h160v-160H620v160Z\"/>\n",
              "  </svg>\n",
              "    </button>\n",
              "\n",
              "  <style>\n",
              "    .colab-df-container {\n",
              "      display:flex;\n",
              "      gap: 12px;\n",
              "    }\n",
              "\n",
              "    .colab-df-convert {\n",
              "      background-color: #E8F0FE;\n",
              "      border: none;\n",
              "      border-radius: 50%;\n",
              "      cursor: pointer;\n",
              "      display: none;\n",
              "      fill: #1967D2;\n",
              "      height: 32px;\n",
              "      padding: 0 0 0 0;\n",
              "      width: 32px;\n",
              "    }\n",
              "\n",
              "    .colab-df-convert:hover {\n",
              "      background-color: #E2EBFA;\n",
              "      box-shadow: 0px 1px 2px rgba(60, 64, 67, 0.3), 0px 1px 3px 1px rgba(60, 64, 67, 0.15);\n",
              "      fill: #174EA6;\n",
              "    }\n",
              "\n",
              "    .colab-df-buttons div {\n",
              "      margin-bottom: 4px;\n",
              "    }\n",
              "\n",
              "    [theme=dark] .colab-df-convert {\n",
              "      background-color: #3B4455;\n",
              "      fill: #D2E3FC;\n",
              "    }\n",
              "\n",
              "    [theme=dark] .colab-df-convert:hover {\n",
              "      background-color: #434B5C;\n",
              "      box-shadow: 0px 1px 3px 1px rgba(0, 0, 0, 0.15);\n",
              "      filter: drop-shadow(0px 1px 2px rgba(0, 0, 0, 0.3));\n",
              "      fill: #FFFFFF;\n",
              "    }\n",
              "  </style>\n",
              "\n",
              "    <script>\n",
              "      const buttonEl =\n",
              "        document.querySelector('#df-148e335d-6dd5-4b2f-ba0c-d118c7766c1d button.colab-df-convert');\n",
              "      buttonEl.style.display =\n",
              "        google.colab.kernel.accessAllowed ? 'block' : 'none';\n",
              "\n",
              "      async function convertToInteractive(key) {\n",
              "        const element = document.querySelector('#df-148e335d-6dd5-4b2f-ba0c-d118c7766c1d');\n",
              "        const dataTable =\n",
              "          await google.colab.kernel.invokeFunction('convertToInteractive',\n",
              "                                                    [key], {});\n",
              "        if (!dataTable) return;\n",
              "\n",
              "        const docLinkHtml = 'Like what you see? Visit the ' +\n",
              "          '<a target=\"_blank\" href=https://colab.research.google.com/notebooks/data_table.ipynb>data table notebook</a>'\n",
              "          + ' to learn more about interactive tables.';\n",
              "        element.innerHTML = '';\n",
              "        dataTable['output_type'] = 'display_data';\n",
              "        await google.colab.output.renderOutput(dataTable, element);\n",
              "        const docLink = document.createElement('div');\n",
              "        docLink.innerHTML = docLinkHtml;\n",
              "        element.appendChild(docLink);\n",
              "      }\n",
              "    </script>\n",
              "  </div>\n",
              "\n",
              "\n",
              "<div id=\"df-4031cb6f-d8a4-46fa-b5d2-1a261b85ea61\">\n",
              "  <button class=\"colab-df-quickchart\" onclick=\"quickchart('df-4031cb6f-d8a4-46fa-b5d2-1a261b85ea61')\"\n",
              "            title=\"Suggest charts.\"\n",
              "            style=\"display:none;\">\n",
              "\n",
              "<svg xmlns=\"http://www.w3.org/2000/svg\" height=\"24px\"viewBox=\"0 0 24 24\"\n",
              "     width=\"24px\">\n",
              "    <g>\n",
              "        <path d=\"M19 3H5c-1.1 0-2 .9-2 2v14c0 1.1.9 2 2 2h14c1.1 0 2-.9 2-2V5c0-1.1-.9-2-2-2zM9 17H7v-7h2v7zm4 0h-2V7h2v10zm4 0h-2v-4h2v4z\"/>\n",
              "    </g>\n",
              "</svg>\n",
              "  </button>\n",
              "\n",
              "<style>\n",
              "  .colab-df-quickchart {\n",
              "    background-color: #E8F0FE;\n",
              "    border: none;\n",
              "    border-radius: 50%;\n",
              "    cursor: pointer;\n",
              "    display: none;\n",
              "    fill: #1967D2;\n",
              "    height: 32px;\n",
              "    padding: 0 0 0 0;\n",
              "    width: 32px;\n",
              "  }\n",
              "\n",
              "  .colab-df-quickchart:hover {\n",
              "    background-color: #E2EBFA;\n",
              "    box-shadow: 0px 1px 2px rgba(60, 64, 67, 0.3), 0px 1px 3px 1px rgba(60, 64, 67, 0.15);\n",
              "    fill: #174EA6;\n",
              "  }\n",
              "\n",
              "  [theme=dark] .colab-df-quickchart {\n",
              "    background-color: #3B4455;\n",
              "    fill: #D2E3FC;\n",
              "  }\n",
              "\n",
              "  [theme=dark] .colab-df-quickchart:hover {\n",
              "    background-color: #434B5C;\n",
              "    box-shadow: 0px 1px 3px 1px rgba(0, 0, 0, 0.15);\n",
              "    filter: drop-shadow(0px 1px 2px rgba(0, 0, 0, 0.3));\n",
              "    fill: #FFFFFF;\n",
              "  }\n",
              "</style>\n",
              "\n",
              "  <script>\n",
              "    async function quickchart(key) {\n",
              "      const charts = await google.colab.kernel.invokeFunction(\n",
              "          'suggestCharts', [key], {});\n",
              "    }\n",
              "    (() => {\n",
              "      let quickchartButtonEl =\n",
              "        document.querySelector('#df-4031cb6f-d8a4-46fa-b5d2-1a261b85ea61 button');\n",
              "      quickchartButtonEl.style.display =\n",
              "        google.colab.kernel.accessAllowed ? 'block' : 'none';\n",
              "    })();\n",
              "  </script>\n",
              "</div>\n",
              "    </div>\n",
              "  </div>\n"
            ]
          },
          "metadata": {},
          "execution_count": 30
        }
      ]
    },
    {
      "cell_type": "markdown",
      "source": [
        "Con la base bien procesada, podemos inspeccionar sus variables con lo visto anteriormente"
      ],
      "metadata": {
        "id": "qaP5nGdlwtYF"
      }
    },
    {
      "cell_type": "code",
      "source": [
        "df.info()"
      ],
      "metadata": {
        "id": "REv871Xnw9VS",
        "colab": {
          "base_uri": "https://localhost:8080/"
        },
        "outputId": "cb5eb896-04a3-441c-f299-3e49a7bd4a32"
      },
      "execution_count": null,
      "outputs": [
        {
          "output_type": "stream",
          "name": "stdout",
          "text": [
            "<class 'pandas.core.frame.DataFrame'>\n",
            "RangeIndex: 32561 entries, 0 to 32560\n",
            "Data columns (total 15 columns):\n",
            " #   Column          Non-Null Count  Dtype \n",
            "---  ------          --------------  ----- \n",
            " 0   age             32561 non-null  int64 \n",
            " 1   workclass       32561 non-null  object\n",
            " 2   fnlwgt          32561 non-null  int64 \n",
            " 3   education       32561 non-null  object\n",
            " 4   education-num   32561 non-null  int64 \n",
            " 5   marital-status  32561 non-null  object\n",
            " 6   occupation      32561 non-null  object\n",
            " 7   relationship    32561 non-null  object\n",
            " 8   race            32561 non-null  object\n",
            " 9   sex             32561 non-null  object\n",
            " 10  capital-gain    32561 non-null  int64 \n",
            " 11  capital-loss    32561 non-null  int64 \n",
            " 12  hours-per-week  32561 non-null  int64 \n",
            " 13  native-country  32561 non-null  object\n",
            " 14  class           32561 non-null  object\n",
            "dtypes: int64(6), object(9)\n",
            "memory usage: 3.7+ MB\n"
          ]
        }
      ]
    },
    {
      "cell_type": "markdown",
      "source": [
        "Además de ver que estén bien cargadas, se pueden inspeccionar características de las variables. Una buena forma de inspeccionar variables cualitativas es con la función `value_counts`:"
      ],
      "metadata": {
        "id": "ryWtx2bXw_Yk"
      }
    },
    {
      "cell_type": "code",
      "source": [
        "# Análisis variables cualitativas\n",
        "df[\"class\"].value_counts()"
      ],
      "metadata": {
        "id": "YkdiwIOOx0-Y",
        "colab": {
          "base_uri": "https://localhost:8080/"
        },
        "outputId": "25988692-126f-48ed-824d-e0d3d2a0a6c1"
      },
      "execution_count": null,
      "outputs": [
        {
          "output_type": "execute_result",
          "data": {
            "text/plain": [
              " <=50K    24720\n",
              " >50K      7841\n",
              "Name: class, dtype: int64"
            ]
          },
          "metadata": {},
          "execution_count": 31
        }
      ]
    },
    {
      "cell_type": "markdown",
      "source": [
        "Para variables cuantitativas, algunos valores importantes para resumir los datos se puede hacer con el método `describe`"
      ],
      "metadata": {
        "id": "1wiOCOyyx2yX"
      }
    },
    {
      "cell_type": "code",
      "source": [
        "# Análisis variables cuantitativas\n",
        "df[\"age\"].describe()"
      ],
      "metadata": {
        "id": "QAQZ4F8Qx4vA",
        "colab": {
          "base_uri": "https://localhost:8080/"
        },
        "outputId": "44ee9c8a-c764-4832-de37-47245aab1a21"
      },
      "execution_count": null,
      "outputs": [
        {
          "output_type": "execute_result",
          "data": {
            "text/plain": [
              "count    32561.000000\n",
              "mean        38.581647\n",
              "std         13.640433\n",
              "min         17.000000\n",
              "25%         28.000000\n",
              "50%         37.000000\n",
              "75%         48.000000\n",
              "max         90.000000\n",
              "Name: age, dtype: float64"
            ]
          },
          "metadata": {},
          "execution_count": 22
        }
      ]
    },
    {
      "cell_type": "markdown",
      "source": [
        "### Kaggle\n",
        "\n",
        "Otro lugar de donde se pueden sacar datos, se llama [Kaggle](https://www.kaggle.com/). Para extraer los datos primero se requiere un token correspondiente a una API (Application Protocol Interface), que permite al collaborate acceder a Kaggle.\n",
        "\n",
        "Para lograr este vínculo, es necesario estar registrado en kaggle. Accediendo al perfil:\n",
        "![Kaggle1.png](data:image/png;base64,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)\n",
        "\n",
        "se puede ir a los ajustes:\n",
        "\n",
        "![Kaggle2.png](data:image/png;base64,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)\n",
        "\n",
        "y generar el token para el usuario:\n",
        "\n",
        "![Kaggle3.png](data:image/png;base64,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)"
      ],
      "metadata": {
        "id": "YOtnF91RyP61"
      }
    },
    {
      "cell_type": "markdown",
      "source": [
        "Este token que se baja a nuestro disco, se puede cargar \"suelto\" en nuestro google drive. Como el archivo tiene extensión `.json`, y está cargado al drive, se necesitan los siguientes paquetes:"
      ],
      "metadata": {
        "id": "rlpEmHKky-yB"
      }
    },
    {
      "cell_type": "code",
      "source": [
        "import json\n",
        "from google.colab import drive"
      ],
      "metadata": {
        "id": "5Z6Rnb30zLhC"
      },
      "execution_count": null,
      "outputs": []
    },
    {
      "cell_type": "markdown",
      "source": [
        "Para acceder al token, se utilizan los siguientes códigos:"
      ],
      "metadata": {
        "id": "jze7SIg_zNzk"
      }
    },
    {
      "cell_type": "code",
      "source": [
        "!mkdir ~/.kaggle\n",
        "!touch ~/.kaggle/kaggle.json\n",
        "\n",
        "drive.mount('/content/drive', force_remount=True)\n",
        "with open(\"/content/drive/My Drive/kaggle.json\", 'r') as f:\n",
        "    api_token= json.load(f)\n",
        "\n",
        "with open('/root/.kaggle/kaggle.json', 'w') as file:\n",
        "    json.dump(api_token, file)\n",
        "\n",
        "!chmod 600 ~/.kaggle/kaggle.json"
      ],
      "metadata": {
        "id": "AOhFgEAWzPzh",
        "colab": {
          "base_uri": "https://localhost:8080/"
        },
        "outputId": "250689b0-0a51-4abd-cc19-d859249beb11"
      },
      "execution_count": null,
      "outputs": [
        {
          "output_type": "stream",
          "name": "stdout",
          "text": [
            "Mounted at /content/drive\n"
          ]
        }
      ]
    },
    {
      "cell_type": "markdown",
      "source": [
        "Una vez que accedemos al token, podemos bajar directamente la base de por ejemplo, el [reporte mundial de la felicidad](https://www.kaggle.com/datasets/unsdsn/world-happiness):"
      ],
      "metadata": {
        "id": "T5ur2l4FzSWI"
      }
    },
    {
      "cell_type": "code",
      "source": [
        "!kaggle datasets download -d unsdsn/world-happiness"
      ],
      "metadata": {
        "id": "hB_r6Vz8zU6E",
        "colab": {
          "base_uri": "https://localhost:8080/"
        },
        "outputId": "71309fa2-3900-4fcf-a2f5-556d9feed7ed"
      },
      "execution_count": null,
      "outputs": [
        {
          "output_type": "stream",
          "name": "stdout",
          "text": [
            "Downloading world-happiness.zip to /content\n",
            "\r  0% 0.00/36.8k [00:00<?, ?B/s]\n",
            "\r100% 36.8k/36.8k [00:00<00:00, 2.91MB/s]\n"
          ]
        }
      ]
    },
    {
      "cell_type": "markdown",
      "source": [
        "Ahora que se baja el zip, extraemos de la base del mismo modo:"
      ],
      "metadata": {
        "id": "ayVmTpqEzYtg"
      }
    },
    {
      "cell_type": "code",
      "source": [
        "os.listdir()\n",
        "\n",
        "for file in os.listdir():\n",
        "    if file.endswith('.zip'):\n",
        "      zip_ref = zipfile.ZipFile(file, 'r')\n",
        "      zip_ref.extractall()\n",
        "      zip_ref.close()"
      ],
      "metadata": {
        "id": "psuy1WOozaKE"
      },
      "execution_count": null,
      "outputs": []
    },
    {
      "cell_type": "markdown",
      "source": [
        "Una vez extraída la base, leemos la base de datos al igual que antes:"
      ],
      "metadata": {
        "id": "C8Q9Ux-zzci-"
      }
    },
    {
      "cell_type": "code",
      "source": [
        "# Cargamos la base\n",
        "df = pd.read_csv('/content/2019.csv')\n",
        "df.head()"
      ],
      "metadata": {
        "id": "xA4YwVawzfyj",
        "colab": {
          "base_uri": "https://localhost:8080/",
          "height": 241
        },
        "outputId": "3bf787d5-5032-413b-e5eb-e939ee10c2ca"
      },
      "execution_count": null,
      "outputs": [
        {
          "output_type": "execute_result",
          "data": {
            "text/plain": [
              "   Overall rank Country or region  Score  GDP per capita  Social support  \\\n",
              "0             1           Finland  7.769           1.340           1.587   \n",
              "1             2           Denmark  7.600           1.383           1.573   \n",
              "2             3            Norway  7.554           1.488           1.582   \n",
              "3             4           Iceland  7.494           1.380           1.624   \n",
              "4             5       Netherlands  7.488           1.396           1.522   \n",
              "\n",
              "   Healthy life expectancy  Freedom to make life choices  Generosity  \\\n",
              "0                    0.986                         0.596       0.153   \n",
              "1                    0.996                         0.592       0.252   \n",
              "2                    1.028                         0.603       0.271   \n",
              "3                    1.026                         0.591       0.354   \n",
              "4                    0.999                         0.557       0.322   \n",
              "\n",
              "   Perceptions of corruption  \n",
              "0                      0.393  \n",
              "1                      0.410  \n",
              "2                      0.341  \n",
              "3                      0.118  \n",
              "4                      0.298  "
            ],
            "text/html": [
              "\n",
              "  <div id=\"df-b3447f82-c1e6-43d2-b392-1939fd363a6e\" class=\"colab-df-container\">\n",
              "    <div>\n",
              "<style scoped>\n",
              "    .dataframe tbody tr th:only-of-type {\n",
              "        vertical-align: middle;\n",
              "    }\n",
              "\n",
              "    .dataframe tbody tr th {\n",
              "        vertical-align: top;\n",
              "    }\n",
              "\n",
              "    .dataframe thead th {\n",
              "        text-align: right;\n",
              "    }\n",
              "</style>\n",
              "<table border=\"1\" class=\"dataframe\">\n",
              "  <thead>\n",
              "    <tr style=\"text-align: right;\">\n",
              "      <th></th>\n",
              "      <th>Overall rank</th>\n",
              "      <th>Country or region</th>\n",
              "      <th>Score</th>\n",
              "      <th>GDP per capita</th>\n",
              "      <th>Social support</th>\n",
              "      <th>Healthy life expectancy</th>\n",
              "      <th>Freedom to make life choices</th>\n",
              "      <th>Generosity</th>\n",
              "      <th>Perceptions of corruption</th>\n",
              "    </tr>\n",
              "  </thead>\n",
              "  <tbody>\n",
              "    <tr>\n",
              "      <th>0</th>\n",
              "      <td>1</td>\n",
              "      <td>Finland</td>\n",
              "      <td>7.769</td>\n",
              "      <td>1.340</td>\n",
              "      <td>1.587</td>\n",
              "      <td>0.986</td>\n",
              "      <td>0.596</td>\n",
              "      <td>0.153</td>\n",
              "      <td>0.393</td>\n",
              "    </tr>\n",
              "    <tr>\n",
              "      <th>1</th>\n",
              "      <td>2</td>\n",
              "      <td>Denmark</td>\n",
              "      <td>7.600</td>\n",
              "      <td>1.383</td>\n",
              "      <td>1.573</td>\n",
              "      <td>0.996</td>\n",
              "      <td>0.592</td>\n",
              "      <td>0.252</td>\n",
              "      <td>0.410</td>\n",
              "    </tr>\n",
              "    <tr>\n",
              "      <th>2</th>\n",
              "      <td>3</td>\n",
              "      <td>Norway</td>\n",
              "      <td>7.554</td>\n",
              "      <td>1.488</td>\n",
              "      <td>1.582</td>\n",
              "      <td>1.028</td>\n",
              "      <td>0.603</td>\n",
              "      <td>0.271</td>\n",
              "      <td>0.341</td>\n",
              "    </tr>\n",
              "    <tr>\n",
              "      <th>3</th>\n",
              "      <td>4</td>\n",
              "      <td>Iceland</td>\n",
              "      <td>7.494</td>\n",
              "      <td>1.380</td>\n",
              "      <td>1.624</td>\n",
              "      <td>1.026</td>\n",
              "      <td>0.591</td>\n",
              "      <td>0.354</td>\n",
              "      <td>0.118</td>\n",
              "    </tr>\n",
              "    <tr>\n",
              "      <th>4</th>\n",
              "      <td>5</td>\n",
              "      <td>Netherlands</td>\n",
              "      <td>7.488</td>\n",
              "      <td>1.396</td>\n",
              "      <td>1.522</td>\n",
              "      <td>0.999</td>\n",
              "      <td>0.557</td>\n",
              "      <td>0.322</td>\n",
              "      <td>0.298</td>\n",
              "    </tr>\n",
              "  </tbody>\n",
              "</table>\n",
              "</div>\n",
              "    <div class=\"colab-df-buttons\">\n",
              "\n",
              "  <div class=\"colab-df-container\">\n",
              "    <button class=\"colab-df-convert\" onclick=\"convertToInteractive('df-b3447f82-c1e6-43d2-b392-1939fd363a6e')\"\n",
              "            title=\"Convert this dataframe to an interactive table.\"\n",
              "            style=\"display:none;\">\n",
              "\n",
              "  <svg xmlns=\"http://www.w3.org/2000/svg\" height=\"24px\" viewBox=\"0 -960 960 960\">\n",
              "    <path d=\"M120-120v-720h720v720H120Zm60-500h600v-160H180v160Zm220 220h160v-160H400v160Zm0 220h160v-160H400v160ZM180-400h160v-160H180v160Zm440 0h160v-160H620v160ZM180-180h160v-160H180v160Zm440 0h160v-160H620v160Z\"/>\n",
              "  </svg>\n",
              "    </button>\n",
              "\n",
              "  <style>\n",
              "    .colab-df-container {\n",
              "      display:flex;\n",
              "      gap: 12px;\n",
              "    }\n",
              "\n",
              "    .colab-df-convert {\n",
              "      background-color: #E8F0FE;\n",
              "      border: none;\n",
              "      border-radius: 50%;\n",
              "      cursor: pointer;\n",
              "      display: none;\n",
              "      fill: #1967D2;\n",
              "      height: 32px;\n",
              "      padding: 0 0 0 0;\n",
              "      width: 32px;\n",
              "    }\n",
              "\n",
              "    .colab-df-convert:hover {\n",
              "      background-color: #E2EBFA;\n",
              "      box-shadow: 0px 1px 2px rgba(60, 64, 67, 0.3), 0px 1px 3px 1px rgba(60, 64, 67, 0.15);\n",
              "      fill: #174EA6;\n",
              "    }\n",
              "\n",
              "    .colab-df-buttons div {\n",
              "      margin-bottom: 4px;\n",
              "    }\n",
              "\n",
              "    [theme=dark] .colab-df-convert {\n",
              "      background-color: #3B4455;\n",
              "      fill: #D2E3FC;\n",
              "    }\n",
              "\n",
              "    [theme=dark] .colab-df-convert:hover {\n",
              "      background-color: #434B5C;\n",
              "      box-shadow: 0px 1px 3px 1px rgba(0, 0, 0, 0.15);\n",
              "      filter: drop-shadow(0px 1px 2px rgba(0, 0, 0, 0.3));\n",
              "      fill: #FFFFFF;\n",
              "    }\n",
              "  </style>\n",
              "\n",
              "    <script>\n",
              "      const buttonEl =\n",
              "        document.querySelector('#df-b3447f82-c1e6-43d2-b392-1939fd363a6e button.colab-df-convert');\n",
              "      buttonEl.style.display =\n",
              "        google.colab.kernel.accessAllowed ? 'block' : 'none';\n",
              "\n",
              "      async function convertToInteractive(key) {\n",
              "        const element = document.querySelector('#df-b3447f82-c1e6-43d2-b392-1939fd363a6e');\n",
              "        const dataTable =\n",
              "          await google.colab.kernel.invokeFunction('convertToInteractive',\n",
              "                                                    [key], {});\n",
              "        if (!dataTable) return;\n",
              "\n",
              "        const docLinkHtml = 'Like what you see? Visit the ' +\n",
              "          '<a target=\"_blank\" href=https://colab.research.google.com/notebooks/data_table.ipynb>data table notebook</a>'\n",
              "          + ' to learn more about interactive tables.';\n",
              "        element.innerHTML = '';\n",
              "        dataTable['output_type'] = 'display_data';\n",
              "        await google.colab.output.renderOutput(dataTable, element);\n",
              "        const docLink = document.createElement('div');\n",
              "        docLink.innerHTML = docLinkHtml;\n",
              "        element.appendChild(docLink);\n",
              "      }\n",
              "    </script>\n",
              "  </div>\n",
              "\n",
              "\n",
              "<div id=\"df-9573eb5d-c064-412c-9242-9919a9549100\">\n",
              "  <button class=\"colab-df-quickchart\" onclick=\"quickchart('df-9573eb5d-c064-412c-9242-9919a9549100')\"\n",
              "            title=\"Suggest charts.\"\n",
              "            style=\"display:none;\">\n",
              "\n",
              "<svg xmlns=\"http://www.w3.org/2000/svg\" height=\"24px\"viewBox=\"0 0 24 24\"\n",
              "     width=\"24px\">\n",
              "    <g>\n",
              "        <path d=\"M19 3H5c-1.1 0-2 .9-2 2v14c0 1.1.9 2 2 2h14c1.1 0 2-.9 2-2V5c0-1.1-.9-2-2-2zM9 17H7v-7h2v7zm4 0h-2V7h2v10zm4 0h-2v-4h2v4z\"/>\n",
              "    </g>\n",
              "</svg>\n",
              "  </button>\n",
              "\n",
              "<style>\n",
              "  .colab-df-quickchart {\n",
              "    background-color: #E8F0FE;\n",
              "    border: none;\n",
              "    border-radius: 50%;\n",
              "    cursor: pointer;\n",
              "    display: none;\n",
              "    fill: #1967D2;\n",
              "    height: 32px;\n",
              "    padding: 0 0 0 0;\n",
              "    width: 32px;\n",
              "  }\n",
              "\n",
              "  .colab-df-quickchart:hover {\n",
              "    background-color: #E2EBFA;\n",
              "    box-shadow: 0px 1px 2px rgba(60, 64, 67, 0.3), 0px 1px 3px 1px rgba(60, 64, 67, 0.15);\n",
              "    fill: #174EA6;\n",
              "  }\n",
              "\n",
              "  [theme=dark] .colab-df-quickchart {\n",
              "    background-color: #3B4455;\n",
              "    fill: #D2E3FC;\n",
              "  }\n",
              "\n",
              "  [theme=dark] .colab-df-quickchart:hover {\n",
              "    background-color: #434B5C;\n",
              "    box-shadow: 0px 1px 3px 1px rgba(0, 0, 0, 0.15);\n",
              "    filter: drop-shadow(0px 1px 2px rgba(0, 0, 0, 0.3));\n",
              "    fill: #FFFFFF;\n",
              "  }\n",
              "</style>\n",
              "\n",
              "  <script>\n",
              "    async function quickchart(key) {\n",
              "      const charts = await google.colab.kernel.invokeFunction(\n",
              "          'suggestCharts', [key], {});\n",
              "    }\n",
              "    (() => {\n",
              "      let quickchartButtonEl =\n",
              "        document.querySelector('#df-9573eb5d-c064-412c-9242-9919a9549100 button');\n",
              "      quickchartButtonEl.style.display =\n",
              "        google.colab.kernel.accessAllowed ? 'block' : 'none';\n",
              "    })();\n",
              "  </script>\n",
              "</div>\n",
              "    </div>\n",
              "  </div>\n"
            ]
          },
          "metadata": {},
          "execution_count": 27
        }
      ]
    },
    {
      "cell_type": "markdown",
      "source": [
        "# Algoritmos de clasificación\n",
        "\n",
        "Los algoritmos de clasificación buscan identificar patrones que se asocien con clases de una variable categórica.\n",
        "\n",
        "Esta variable debe tener un interés específico para la aplicación, ya que será lo que más se quiere identificar a partir de otras variables. Esta variable se suele llamar variable de respuesta, variable de salida, etiqueta, dependiendo de la disciplina. Suele notarse con la letra `y`.\n",
        "\n",
        "Además, hay variables que sospechamos que pueden tener influencia sobre dicha variable de respuesta, que son sobre las cuales el algoritmo identifica patrones. Estas variables se denominan variables explicativas, variables predictoras, covariables, variables de entrada, instancias, dependiendo del área de aplicación. Suelen notarse con la letra `X`.\n",
        "\n",
        "\n",
        "Por ejemplo, en la base de salarios descripta anteriormente, puede ser de interés predecir cómo se clasifica el salario de una persona considerando las otras variables de la base."
      ],
      "metadata": {
        "id": "Xv8qeUUGpJ4E"
      }
    },
    {
      "cell_type": "code",
      "source": [
        "# Elijo las covariables (para LDA y QDA deben ser numéricas)\n",
        "covs=[\"age\",\"fnlwgt\",\"education-num\",\"capital-gain\",\"capital-loss\",\"hours-per-week\"]\n",
        "# Selecciono de la base, las covariables\n",
        "X=df[covs].copy();print(X.head())\n",
        "# La variable de respuesta es \"class\"\n",
        "y=df[\"class\"].copy();print(y.head())"
      ],
      "metadata": {
        "id": "V3qbTSjEpJnT",
        "colab": {
          "base_uri": "https://localhost:8080/"
        },
        "outputId": "16e02ee6-08e6-40ad-bcd8-ce74ffdf445f"
      },
      "execution_count": null,
      "outputs": [
        {
          "output_type": "stream",
          "name": "stdout",
          "text": [
            "   age  fnlwgt  education-num  capital-gain  capital-loss  hours-per-week\n",
            "0   39   77516             13          2174             0              40\n",
            "1   50   83311             13             0             0              13\n",
            "2   38  215646              9             0             0              40\n",
            "3   53  234721              7             0             0              40\n",
            "4   28  338409             13             0             0              40\n",
            "0     <=50K\n",
            "1     <=50K\n",
            "2     <=50K\n",
            "3     <=50K\n",
            "4     <=50K\n",
            "Name: class, dtype: object\n"
          ]
        }
      ]
    },
    {
      "cell_type": "markdown",
      "source": [
        "## Bases de entrenamiento y testeo\n",
        "\n",
        "Decimos que los algoritmos de machine learning \"aprenden\" estos patrones de los datos. Para buscar estos patrones sin sesgar demasiado los resultados, la base suele dividirse en dos partes:\n",
        "\n",
        "* una para identificar los patrones (base de entrenamiento)\n",
        "\n",
        "* otra para testear si los patrones obtenidos se replican en otras observaciones (base de testeo)\n",
        "\n",
        "En general para la división suele elegirse entre un 70 y 80% de los datos para la base de entrenamiento, y el porcentaje restante es para la variable de testeo.\n",
        "\n",
        "Además, esta selección es completamente al azar, en el sentido de que primero los datos se \"mezclan\" y luego se elige el porcentaje. Esto busca eliminar sesgos que pueden darse por la disposición inicial en el que están ordenados los datos.\n",
        "\n",
        "Para hacer esta división en Python, se utiliza el comando `train_test_split` del paquete Sci-kit learn (abreviado `sklearn`), paquete standard para algoritmos de machine learning:"
      ],
      "metadata": {
        "id": "zUN3ytpVv9tJ"
      }
    },
    {
      "cell_type": "code",
      "source": [
        "from sklearn.model_selection import train_test_split\n",
        "X_train, X_test, y_train, y_test = train_test_split(X, y,test_size=0.2, random_state=42)"
      ],
      "metadata": {
        "id": "Ldu3WKCewJCL"
      },
      "execution_count": null,
      "outputs": []
    },
    {
      "cell_type": "markdown",
      "source": [
        "En este caso, se elige 20% para la base de testeo con el argumento `test_size`. Por otro lado, el argumento `random_state` fija un punto de inicio para la aleatorización de forma que otra persona pueda reproducir el código obteniendo los **mismos** resultados. Ayuda a que otras personas puedan verificar los algoritmos.\n",
        "\n",
        "El resultado da 4 datos, donde:\n",
        "\n",
        "* X_train son las covariables de la base de entrenamiento.\n",
        "\n",
        "* X_test son las covariables de la base de testeo.\n",
        "\n",
        "* y_train son las respuestas de la base de entrenamiento.\n",
        "\n",
        "* y_test son las respuestas de la base de testeo.\n",
        "\n",
        "Veamos que efectivamente son el 80% y 20% de los datos, respectivamente:"
      ],
      "metadata": {
        "id": "2HgCv3Qy0l_4"
      }
    },
    {
      "cell_type": "code",
      "source": [
        "print(\"Cantidad de filas totales: \"+str(X.shape[0]))\n",
        "print(\"Cantidad de filas entrenamiento: \"+str(X_train.shape[0]))\n",
        "print(\"Cantidad de filas testeo: \"+str(X_test.shape[0]))\n",
        "print(\"0.8*32561= \"+str(0.8*32561))\n",
        "print(\"0.2*32561= \"+str(0.2*32561))\n",
        "print(\"26048+6513= \"+str(26048+6513))"
      ],
      "metadata": {
        "id": "Jin3dBmz2PNJ",
        "colab": {
          "base_uri": "https://localhost:8080/"
        },
        "outputId": "dbe427d2-2539-4f5d-c0dc-ec42bc0b6d39"
      },
      "execution_count": null,
      "outputs": [
        {
          "output_type": "stream",
          "name": "stdout",
          "text": [
            "Cantidad de filas totales: 32561\n",
            "Cantidad de filas entrenamiento: 26048\n",
            "Cantidad de filas testeo: 6513\n",
            "0.8*32561= 26048.800000000003\n",
            "0.2*32561= 6512.200000000001\n",
            "26048+6513= 32561\n"
          ]
        }
      ]
    },
    {
      "cell_type": "markdown",
      "source": [
        "## Algoritmo: Linear Discriminant Analysis (LDA)\n"
      ],
      "metadata": {
        "id": "AIBrqlpm3PCN"
      }
    },
    {
      "cell_type": "markdown",
      "source": [
        "Para aplicar el algoritmo LDA, también utilizamos el paquete `sklearn`:"
      ],
      "metadata": {
        "id": "aIVAO6B60PfR"
      }
    },
    {
      "cell_type": "code",
      "source": [
        "from sklearn.discriminant_analysis import LinearDiscriminantAnalysis\n",
        "# Inicializo el algoritmo\n",
        "LDA = LinearDiscriminantAnalysis()\n",
        "# Se pasa como argumento los datos de entrenamiento y las respuestas correspondientes\n",
        "LDA.fit(X_train,y_train)"
      ],
      "metadata": {
        "id": "3tyNX0U90P4E",
        "colab": {
          "base_uri": "https://localhost:8080/",
          "height": 75
        },
        "outputId": "c2db6bd6-f6df-4a2b-815c-ec384bf95202"
      },
      "execution_count": null,
      "outputs": [
        {
          "output_type": "execute_result",
          "data": {
            "text/plain": [
              "LinearDiscriminantAnalysis()"
            ],
            "text/html": [
              "<style>#sk-container-id-1 {color: black;background-color: white;}#sk-container-id-1 pre{padding: 0;}#sk-container-id-1 div.sk-toggleable {background-color: white;}#sk-container-id-1 label.sk-toggleable__label {cursor: pointer;display: block;width: 100%;margin-bottom: 0;padding: 0.3em;box-sizing: border-box;text-align: center;}#sk-container-id-1 label.sk-toggleable__label-arrow:before {content: \"▸\";float: left;margin-right: 0.25em;color: #696969;}#sk-container-id-1 label.sk-toggleable__label-arrow:hover:before {color: black;}#sk-container-id-1 div.sk-estimator:hover label.sk-toggleable__label-arrow:before {color: black;}#sk-container-id-1 div.sk-toggleable__content {max-height: 0;max-width: 0;overflow: hidden;text-align: left;background-color: #f0f8ff;}#sk-container-id-1 div.sk-toggleable__content pre {margin: 0.2em;color: black;border-radius: 0.25em;background-color: #f0f8ff;}#sk-container-id-1 input.sk-toggleable__control:checked~div.sk-toggleable__content {max-height: 200px;max-width: 100%;overflow: auto;}#sk-container-id-1 input.sk-toggleable__control:checked~label.sk-toggleable__label-arrow:before {content: \"▾\";}#sk-container-id-1 div.sk-estimator input.sk-toggleable__control:checked~label.sk-toggleable__label {background-color: #d4ebff;}#sk-container-id-1 div.sk-label input.sk-toggleable__control:checked~label.sk-toggleable__label {background-color: #d4ebff;}#sk-container-id-1 input.sk-hidden--visually {border: 0;clip: rect(1px 1px 1px 1px);clip: rect(1px, 1px, 1px, 1px);height: 1px;margin: -1px;overflow: hidden;padding: 0;position: absolute;width: 1px;}#sk-container-id-1 div.sk-estimator {font-family: monospace;background-color: #f0f8ff;border: 1px dotted black;border-radius: 0.25em;box-sizing: border-box;margin-bottom: 0.5em;}#sk-container-id-1 div.sk-estimator:hover {background-color: #d4ebff;}#sk-container-id-1 div.sk-parallel-item::after {content: \"\";width: 100%;border-bottom: 1px solid gray;flex-grow: 1;}#sk-container-id-1 div.sk-label:hover label.sk-toggleable__label {background-color: #d4ebff;}#sk-container-id-1 div.sk-serial::before {content: \"\";position: absolute;border-left: 1px solid gray;box-sizing: border-box;top: 0;bottom: 0;left: 50%;z-index: 0;}#sk-container-id-1 div.sk-serial {display: flex;flex-direction: column;align-items: center;background-color: white;padding-right: 0.2em;padding-left: 0.2em;position: relative;}#sk-container-id-1 div.sk-item {position: relative;z-index: 1;}#sk-container-id-1 div.sk-parallel {display: flex;align-items: stretch;justify-content: center;background-color: white;position: relative;}#sk-container-id-1 div.sk-item::before, #sk-container-id-1 div.sk-parallel-item::before {content: \"\";position: absolute;border-left: 1px solid gray;box-sizing: border-box;top: 0;bottom: 0;left: 50%;z-index: -1;}#sk-container-id-1 div.sk-parallel-item {display: flex;flex-direction: column;z-index: 1;position: relative;background-color: white;}#sk-container-id-1 div.sk-parallel-item:first-child::after {align-self: flex-end;width: 50%;}#sk-container-id-1 div.sk-parallel-item:last-child::after {align-self: flex-start;width: 50%;}#sk-container-id-1 div.sk-parallel-item:only-child::after {width: 0;}#sk-container-id-1 div.sk-dashed-wrapped {border: 1px dashed gray;margin: 0 0.4em 0.5em 0.4em;box-sizing: border-box;padding-bottom: 0.4em;background-color: white;}#sk-container-id-1 div.sk-label label {font-family: monospace;font-weight: bold;display: inline-block;line-height: 1.2em;}#sk-container-id-1 div.sk-label-container {text-align: center;}#sk-container-id-1 div.sk-container {/* jupyter's `normalize.less` sets `[hidden] { display: none; }` but bootstrap.min.css set `[hidden] { display: none !important; }` so we also need the `!important` here to be able to override the default hidden behavior on the sphinx rendered scikit-learn.org. See: https://github.com/scikit-learn/scikit-learn/issues/21755 */display: inline-block !important;position: relative;}#sk-container-id-1 div.sk-text-repr-fallback {display: none;}</style><div id=\"sk-container-id-1\" class=\"sk-top-container\"><div class=\"sk-text-repr-fallback\"><pre>LinearDiscriminantAnalysis()</pre><b>In a Jupyter environment, please rerun this cell to show the HTML representation or trust the notebook. <br />On GitHub, the HTML representation is unable to render, please try loading this page with nbviewer.org.</b></div><div class=\"sk-container\" hidden><div class=\"sk-item\"><div class=\"sk-estimator sk-toggleable\"><input class=\"sk-toggleable__control sk-hidden--visually\" id=\"sk-estimator-id-1\" type=\"checkbox\" checked><label for=\"sk-estimator-id-1\" class=\"sk-toggleable__label sk-toggleable__label-arrow\">LinearDiscriminantAnalysis</label><div class=\"sk-toggleable__content\"><pre>LinearDiscriminantAnalysis()</pre></div></div></div></div></div>"
            ]
          },
          "metadata": {},
          "execution_count": 36
        }
      ]
    },
    {
      "cell_type": "markdown",
      "source": [
        "### Evaluación de los resultados\n",
        "\n",
        "Habiendo corrido la función `fit`, se buscaron los patrones entre las variables de `X_train` y las respuestas `y_train`.\n",
        "\n",
        "Con estos patrones identificados, el algoritmo está listo para predecir la clase de nuevas observaciones de las covariables. Para lograr estas predicciones se usa la función `predict`. Vamos a ver cómo funciona para algunas nuevas instancias."
      ],
      "metadata": {
        "id": "Leu_N8e-DvUW"
      }
    },
    {
      "cell_type": "code",
      "source": [
        "print(\"Covariables:\")\n",
        "print(X_test.head())\n",
        "print(\"Clases Predichas:\")\n",
        "print(LDA.predict(X_test.head()))\n",
        "print(\"Clases Reales:\")\n",
        "print(y_test.head())"
      ],
      "metadata": {
        "id": "PVYtmaYxUsQ0",
        "colab": {
          "base_uri": "https://localhost:8080/"
        },
        "outputId": "f00ff444-59c1-48da-cf95-2196d711a330"
      },
      "execution_count": null,
      "outputs": [
        {
          "output_type": "stream",
          "name": "stdout",
          "text": [
            "Covariables:\n",
            "       age  fnlwgt  education-num  capital-gain  capital-loss  hours-per-week\n",
            "14160   27  160178             10             0             0              38\n",
            "27048   45   50567              9             0             0              40\n",
            "28868   29  185908             13             0             0              55\n",
            "5667    30  190040             13             0             0              40\n",
            "7827    29  189346             10          2202             0              50\n",
            "Clases Predichas:\n",
            "[' <=50K' ' <=50K' ' <=50K' ' <=50K' ' <=50K']\n",
            "Clases Reales:\n",
            "14160     <=50K\n",
            "27048     <=50K\n",
            "28868      >50K\n",
            "5667      <=50K\n",
            "7827      <=50K\n",
            "Name: class, dtype: object\n"
          ]
        }
      ]
    },
    {
      "cell_type": "markdown",
      "source": [
        "Utilizamos esta función para ver qué respuestas elige el algoritmo para tanto los datos de entrenamiento como los datos de testeo, para ver cómo coinciden las predicciones con las respuestas reales. Es decir, las respuestas reales (`y_train`, `y_test`), deberían ser similares a las respuestas predichas (`LDA_train_pred`, `LDA_test_pred`)."
      ],
      "metadata": {
        "id": "dABnyEQBUrqc"
      }
    },
    {
      "cell_type": "code",
      "source": [
        "# Predicciones para la base de entrenamiento\n",
        "LDA_train_pred=LDA.predict(X_train)\n",
        "# Predicciones para la base de testeo\n",
        "LDA_test_pred=LDA.predict(X_test)"
      ],
      "metadata": {
        "id": "cLDtGY8HDv5s"
      },
      "execution_count": null,
      "outputs": []
    },
    {
      "cell_type": "markdown",
      "source": [
        "Para comparar las respuestas y las predicciones, el primer análisis que se realiza es lo que se llama una matriz de confusión. En esta matriz, se distribuyen las respuestas reales y las predichas para chequear cuántas predicciones correctas e incorrectas hay por clase.\n",
        "\n",
        "En Python esto se realiza con el comando `confusion_matrix` del paquete `sklearn`. Vamos a usar este comando para evaluar las predicciones en los datos de entrenamiento y testeo:"
      ],
      "metadata": {
        "id": "8fide_HKZctM"
      }
    },
    {
      "cell_type": "code",
      "source": [
        "from sklearn.metrics import confusion_matrix\n",
        "print(\"Descripción de los datos reales de entrenamiento:\")\n",
        "print(y_train.value_counts())\n",
        "print(\"Descripción de los datos predichos de entrenamiento:\")\n",
        "print(pd.DataFrame(LDA_train_pred).value_counts())\n",
        "print(\"Matriz de confusión Train\")\n",
        "print(confusion_matrix(y_train,LDA_train_pred))"
      ],
      "metadata": {
        "id": "AmUeiDx_bVI8",
        "colab": {
          "base_uri": "https://localhost:8080/"
        },
        "outputId": "778df9e9-eadc-4310-8eba-aee0df8b268b"
      },
      "execution_count": null,
      "outputs": [
        {
          "output_type": "stream",
          "name": "stdout",
          "text": [
            "Descripción de los datos reales de entrenamiento:\n",
            " <=50K    19778\n",
            " >50K      6270\n",
            "Name: class, dtype: int64\n",
            "Descripción de los datos predichos de entrenamiento:\n",
            " <=50K    23083\n",
            " >50K      2965\n",
            "dtype: int64\n",
            "Matriz de confusión Train\n",
            "[[18856   922]\n",
            " [ 4227  2043]]\n"
          ]
        }
      ]
    },
    {
      "cell_type": "code",
      "source": [
        "print(\"Descripción de los datos reales de testeo:\")\n",
        "print(y_test.value_counts())\n",
        "print(\"Descripción de los datos predichos de testeo:\")\n",
        "print(pd.DataFrame(LDA_test_pred).value_counts())\n",
        "print(\"Matriz de confusión Test\")\n",
        "print(confusion_matrix(y_test,LDA_test_pred))"
      ],
      "metadata": {
        "id": "zcc2f0O-eSkV",
        "colab": {
          "base_uri": "https://localhost:8080/"
        },
        "outputId": "727c6da6-19b0-4637-ed34-07b7de8715d7"
      },
      "execution_count": null,
      "outputs": [
        {
          "output_type": "stream",
          "name": "stdout",
          "text": [
            "Descripción de los datos reales de testeo:\n",
            " <=50K    4942\n",
            " >50K     1571\n",
            "Name: class, dtype: int64\n",
            "Descripción de los datos predichos de testeo:\n",
            " <=50K    5749\n",
            " >50K      764\n",
            "dtype: int64\n",
            "Matriz de confusión Test\n",
            "[[4705  237]\n",
            " [1044  527]]\n"
          ]
        }
      ]
    },
    {
      "cell_type": "markdown",
      "source": [
        "Los elementos de la diagonal representan las clasificaciones correctas. Por lo tanto, para evaluar la clasificación, la primer medida numérica que se puede establecer es la comparación de estas clasificaciones correctas respecto de la cantidad total de clasificaciones. Esta métrica se denomina accuracy y se calcula con la función `accuracy_score`:"
      ],
      "metadata": {
        "id": "DgtDxHa5feL7"
      }
    },
    {
      "cell_type": "code",
      "source": [
        "from sklearn.metrics import accuracy_score\n",
        "print(\"Accuracy Entrenamiento\")\n",
        "print(accuracy_score(y_train, LDA_train_pred))\n",
        "print(\"Clasificaciones correctas sobre cantidad total (Entrenamiento)\")\n",
        "print((18856+2043)/y_train.shape[0])\n",
        "print(\"Accuracy Testeo\")\n",
        "print(accuracy_score(y_test, LDA_test_pred))\n",
        "print(\"Clasificaciones correctas sobre cantidad total (Testeo)\")\n",
        "print((4705+527)/y_test.shape[0])"
      ],
      "metadata": {
        "id": "bVjO9fuAhbht",
        "colab": {
          "base_uri": "https://localhost:8080/"
        },
        "outputId": "0f9a19d5-2cd3-4002-e37d-06bb6ac708ba"
      },
      "execution_count": null,
      "outputs": [
        {
          "output_type": "stream",
          "name": "stdout",
          "text": [
            "Accuracy Entrenamiento\n",
            "0.8023264742014742\n",
            "Clasificaciones correctas sobre cantidad total (Entrenamiento)\n",
            "0.8023264742014742\n",
            "Accuracy Testeo\n",
            "0.8033164440350069\n",
            "Clasificaciones correctas sobre cantidad total (Testeo)\n",
            "0.8033164440350069\n"
          ]
        }
      ]
    },
    {
      "cell_type": "markdown",
      "source": [
        "### Overfitting y underfitting\n",
        "\n",
        "Podríamos preguntarnos por qué se evalúan ambas matrices de confusión. Tiene que ver con el fenómeno que se llama \"overfitting\", en el que el algoritmo se adapta a características muy específicas de la base de entrenamiento y estas particularidades no se extrapolan a la base de testeo. Gráficamente:\n",
        "\n",
        "![MemeOver.jpeg](data:image/jpeg;base64,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)\n",
        "\n"
      ],
      "metadata": {
        "id": "NNcg7I8xikTC"
      }
    },
    {
      "cell_type": "markdown",
      "source": [
        "Cuando sucede esto, una de las cosas que se observa es que hay mucha diferencia entre rendimiento en la base de entrenamiento y la base de testeo. En este caso, no hay mucha diferencia entre entrenamiento y testeo, por lo que no pareciera haber overfitting.\n",
        "\n",
        "Sin embargo, basarse sólo en la similitud entre entrenamiento y testeo omite el valor del accuracy. Es decir, si son similares las accuracy de entrenamiento y testeo, no significa que el algoritmo esté funcionando bien. Si el valor en el que coinciden es bajo, significa que el algoritmo clasifica \"igual de mal\" en ambos casos. Dado el caso, tendríamos el fenómeno que se llama \"underfitting\".\n",
        "\n",
        "Por lo tanto, siempre hay que estar atentos a ambas cuestiones y hacer un análisis completo."
      ],
      "metadata": {
        "id": "mS2VN8hSjhBx"
      }
    },
    {
      "cell_type": "markdown",
      "source": [
        "### Otras métricas\n",
        "\n",
        "Notar que el accuracy evalúa las clasificaciones de todas las clases en conjunto. El problema con eso es que se pierde la noción de cuán bueno es el algoritmo para clasificar cada clase en particular. Si hay una clase de mayor cantidad de observaciones, puede opacar los problemas de clasificación de otra clase.\n",
        "\n",
        "Por ejemplo, en el caso anterior teníamos **19778 observaciones** reales de personas con salarios menores o iguales a 50K, y **23083 predicciones** de personas con salarios menores o iguales a 50K. De estas clasificaciones, sólo 18856 son correctas.\n",
        "\n",
        "Por lo tanto, podemos pensar en las siguientes magnitudes:\n",
        "\n",
        "* Podemos evaluar cuán bueno es el algoritmo para detectar personas con salarios menores o iguales a 50K. Es decir, si una personas tiene un salario menor o igual a 50K, ¿cuán probable es que el algoritmo lo identifique correctamente?\n",
        "\n",
        "  En este caso, sería comparar las predicciones correctas (18856) respecto de la cantidad real de personas que lo cumplen (19778): 18856/19778~0.9533. Esta métrica se denomina \"sensibilidad\" o \"precisión\".\n",
        "\n",
        "* Podemos evaluar cuán confiables son las clasificaciones de personas con salarios menores o iguales a 50K. Es decir, si el algoritmo dice que una persona tiene un salario menor o igual a 50K, ¿cuán probable es que la clasificación sea correcta?\n",
        "\n",
        "  En este caso, sería comparar las predicciones correctas (18856) respecto de la cantidad real de predicciones de esta clase (23083): 18856/23083~0.8168. Esta métrica se denomina \"valor predictivo\" o \"recall\".\n",
        "\n",
        "Un comando que permite ver estas medidas para **todas** las clases se denomina \"classification_report\"."
      ],
      "metadata": {
        "id": "TkS_Dm6yldNo"
      }
    },
    {
      "cell_type": "code",
      "source": [
        "from sklearn.metrics import classification_report\n",
        "print(\"Classification Report Train\")\n",
        "print(classification_report(y_train,LDA_train_pred))\n",
        "print(\"Classification Report Test\")\n",
        "print(classification_report(y_test,LDA_test_pred))"
      ],
      "metadata": {
        "id": "3m5MEMWFpDBk",
        "colab": {
          "base_uri": "https://localhost:8080/"
        },
        "outputId": "9b38cde5-9494-4c4e-f494-bb52adde8c24"
      },
      "execution_count": null,
      "outputs": [
        {
          "output_type": "stream",
          "name": "stdout",
          "text": [
            "Classification Report Train\n",
            "              precision    recall  f1-score   support\n",
            "\n",
            "       <=50K       0.82      0.95      0.88     19778\n",
            "        >50K       0.69      0.33      0.44      6270\n",
            "\n",
            "    accuracy                           0.80     26048\n",
            "   macro avg       0.75      0.64      0.66     26048\n",
            "weighted avg       0.79      0.80      0.77     26048\n",
            "\n",
            "Classification Report Test\n",
            "              precision    recall  f1-score   support\n",
            "\n",
            "       <=50K       0.82      0.95      0.88      4942\n",
            "        >50K       0.69      0.34      0.45      1571\n",
            "\n",
            "    accuracy                           0.80      6513\n",
            "   macro avg       0.75      0.64      0.67      6513\n",
            "weighted avg       0.79      0.80      0.78      6513\n",
            "\n"
          ]
        }
      ]
    },
    {
      "cell_type": "markdown",
      "source": [
        "Este análisis es importante porque evaluando todo el conjunto, se puede perder percepción de sesgos que pueda tener el algoritmo con alguna clase en particular. Por ejemplo, en este caso, la clasificación para personas con salario mayor a 50K funciona peor y el accuracy es mucho más alto que los valores de la precisión y el recall correspondiente."
      ],
      "metadata": {
        "id": "WrE6TW0OpNlb"
      }
    },
    {
      "cell_type": "markdown",
      "source": [
        "## Quadratic Discriminant Analysis (QDA)\n",
        "\n",
        "A continuación, aplicaremos el algoritmo QDA, pero sólo reemplazando algunas pocas variables e instrucciones, con el objetivo de establecer una estructura que \"estandarice\" la aplicación de algoritmos de machine learning con `sklearn`"
      ],
      "metadata": {
        "id": "7wqwdgS4t3Fy"
      }
    },
    {
      "cell_type": "markdown",
      "source": [
        "## Cargar la base"
      ],
      "metadata": {
        "id": "84C_XaVrujYZ"
      }
    },
    {
      "cell_type": "code",
      "source": [
        "# Fuente de los datos\n",
        "url=\"https://archive.ics.uci.edu/static/public/2/adult.zip\""
      ],
      "metadata": {
        "id": "WoOxcjE9uw4u"
      },
      "execution_count": null,
      "outputs": []
    },
    {
      "cell_type": "code",
      "source": [
        "# Debe estar instalado e importado el paquete \"wget\"\n",
        "# Adquirir los datos\n",
        "wget.download(url, \"archivo.zip\")"
      ],
      "metadata": {
        "id": "i7yn7HYQu9Fm"
      },
      "execution_count": null,
      "outputs": []
    },
    {
      "cell_type": "code",
      "source": [
        "# Deben estar importados los paquetes \"os\" y \"zipfile\"\n",
        "# En el caso de que sea un zip, extraer la base\n",
        "os.listdir()\n",
        "\n",
        "for file in os.listdir():\n",
        "    if file.endswith('.zip'):\n",
        "      zip_ref = zipfile.ZipFile(file, 'r')\n",
        "      zip_ref.extractall()\n",
        "      zip_ref.close()"
      ],
      "metadata": {
        "id": "A39lhxGWvAwX"
      },
      "execution_count": null,
      "outputs": []
    },
    {
      "cell_type": "code",
      "source": [
        "# Debe estar importado el paquete pandas como \"pd\"\n",
        "# Leer la base y guardarla en una variable\n",
        "df=pd.read_csv(\"/content/adult.data\",header=None)"
      ],
      "metadata": {
        "id": "3xyj-St1vEa7"
      },
      "execution_count": null,
      "outputs": []
    },
    {
      "cell_type": "markdown",
      "source": [
        "### Inspeccionar y procesar la base"
      ],
      "metadata": {
        "id": "-Vzg3V5XvRsy"
      }
    },
    {
      "cell_type": "code",
      "source": [
        "# Renombrar columnas en caso de ser necesario\n",
        "vars=[\"age\",\"workclass\",\"fnlwgt\",\"education\",\"education-num\",\"marital-status\",\"occupation\",\n",
        "\"relationship\",\"race\",\"sex\",\"capital-gain\",\"capital-loss\",\"hours-per-week\",\"native-country\",\"class\"]\n",
        "df.columns=vars"
      ],
      "metadata": {
        "id": "-ZJC6QB3vUGV"
      },
      "execution_count": null,
      "outputs": []
    },
    {
      "cell_type": "code",
      "source": [
        "# Inspección de los datos\n",
        "df.head()"
      ],
      "metadata": {
        "id": "36TeIPztvyur"
      },
      "execution_count": null,
      "outputs": []
    },
    {
      "cell_type": "code",
      "source": [
        "# Inspección de las variables\n",
        "df.info()"
      ],
      "metadata": {
        "id": "QJWEjmPDv6EO"
      },
      "execution_count": null,
      "outputs": []
    },
    {
      "cell_type": "code",
      "source": [
        "# Análisis variables cualitativas\n",
        "df[\"education\"].value_counts()"
      ],
      "metadata": {
        "id": "Zuhe3XHBv_6z"
      },
      "execution_count": null,
      "outputs": []
    },
    {
      "cell_type": "code",
      "source": [
        "# Análisis variables cuantitativas\n",
        "df[\"age\"].describe()"
      ],
      "metadata": {
        "id": "Pg6r6ccnwRRV"
      },
      "execution_count": null,
      "outputs": []
    },
    {
      "cell_type": "markdown",
      "source": [
        "### Covariables y Respuestas"
      ],
      "metadata": {
        "id": "aVb2Lze4wWDl"
      }
    },
    {
      "cell_type": "code",
      "source": [
        "# Elijo las covariables (para LDA y QDA deben ser numéricas)\n",
        "covs=[\"age\",\"fnlwgt\",\"education-num\",\"capital-gain\",\"capital-loss\",\"hours-per-week\"]\n",
        "X=df[covs].copy()\n",
        "# Respuestas\n",
        "y=df[\"class\"].copy()"
      ],
      "metadata": {
        "id": "s4D_i3WFwiPw"
      },
      "execution_count": null,
      "outputs": []
    },
    {
      "cell_type": "markdown",
      "source": [
        "### Entrenamiento y testeo"
      ],
      "metadata": {
        "id": "D8yL6aqpws6x"
      }
    },
    {
      "cell_type": "code",
      "source": [
        "# Debe estar importada la función \"train_test_split\" del paquete \"sklearn.metrics\"\n",
        "X_train, X_test, y_train, y_test = train_test_split(X, y,test_size=0.2, random_state=42)"
      ],
      "metadata": {
        "id": "ax7QQTdnwsow"
      },
      "execution_count": null,
      "outputs": []
    },
    {
      "cell_type": "markdown",
      "source": [
        "### Inicialización del algoritmo y entrenamiento"
      ],
      "metadata": {
        "id": "RKA7Jz0ew7Rx"
      }
    },
    {
      "cell_type": "code",
      "source": [
        "from sklearn.discriminant_analysis import QuadraticDiscriminantAnalysis\n",
        "QDA = QuadraticDiscriminantAnalysis()\n",
        "QDA.fit(X_train,y_train)"
      ],
      "metadata": {
        "id": "FsZ2hxqJw66G",
        "colab": {
          "base_uri": "https://localhost:8080/",
          "height": 75
        },
        "outputId": "20bbf6e0-14c0-41fa-f656-b756d2300157"
      },
      "execution_count": null,
      "outputs": [
        {
          "output_type": "execute_result",
          "data": {
            "text/plain": [
              "QuadraticDiscriminantAnalysis()"
            ],
            "text/html": [
              "<style>#sk-container-id-2 {color: black;background-color: white;}#sk-container-id-2 pre{padding: 0;}#sk-container-id-2 div.sk-toggleable {background-color: white;}#sk-container-id-2 label.sk-toggleable__label {cursor: pointer;display: block;width: 100%;margin-bottom: 0;padding: 0.3em;box-sizing: border-box;text-align: center;}#sk-container-id-2 label.sk-toggleable__label-arrow:before {content: \"▸\";float: left;margin-right: 0.25em;color: #696969;}#sk-container-id-2 label.sk-toggleable__label-arrow:hover:before {color: black;}#sk-container-id-2 div.sk-estimator:hover label.sk-toggleable__label-arrow:before {color: black;}#sk-container-id-2 div.sk-toggleable__content {max-height: 0;max-width: 0;overflow: hidden;text-align: left;background-color: #f0f8ff;}#sk-container-id-2 div.sk-toggleable__content pre {margin: 0.2em;color: black;border-radius: 0.25em;background-color: #f0f8ff;}#sk-container-id-2 input.sk-toggleable__control:checked~div.sk-toggleable__content {max-height: 200px;max-width: 100%;overflow: auto;}#sk-container-id-2 input.sk-toggleable__control:checked~label.sk-toggleable__label-arrow:before {content: \"▾\";}#sk-container-id-2 div.sk-estimator input.sk-toggleable__control:checked~label.sk-toggleable__label {background-color: #d4ebff;}#sk-container-id-2 div.sk-label input.sk-toggleable__control:checked~label.sk-toggleable__label {background-color: #d4ebff;}#sk-container-id-2 input.sk-hidden--visually {border: 0;clip: rect(1px 1px 1px 1px);clip: rect(1px, 1px, 1px, 1px);height: 1px;margin: -1px;overflow: hidden;padding: 0;position: absolute;width: 1px;}#sk-container-id-2 div.sk-estimator {font-family: monospace;background-color: #f0f8ff;border: 1px dotted black;border-radius: 0.25em;box-sizing: border-box;margin-bottom: 0.5em;}#sk-container-id-2 div.sk-estimator:hover {background-color: #d4ebff;}#sk-container-id-2 div.sk-parallel-item::after {content: \"\";width: 100%;border-bottom: 1px solid gray;flex-grow: 1;}#sk-container-id-2 div.sk-label:hover label.sk-toggleable__label {background-color: #d4ebff;}#sk-container-id-2 div.sk-serial::before {content: \"\";position: absolute;border-left: 1px solid gray;box-sizing: border-box;top: 0;bottom: 0;left: 50%;z-index: 0;}#sk-container-id-2 div.sk-serial {display: flex;flex-direction: column;align-items: center;background-color: white;padding-right: 0.2em;padding-left: 0.2em;position: relative;}#sk-container-id-2 div.sk-item {position: relative;z-index: 1;}#sk-container-id-2 div.sk-parallel {display: flex;align-items: stretch;justify-content: center;background-color: white;position: relative;}#sk-container-id-2 div.sk-item::before, #sk-container-id-2 div.sk-parallel-item::before {content: \"\";position: absolute;border-left: 1px solid gray;box-sizing: border-box;top: 0;bottom: 0;left: 50%;z-index: -1;}#sk-container-id-2 div.sk-parallel-item {display: flex;flex-direction: column;z-index: 1;position: relative;background-color: white;}#sk-container-id-2 div.sk-parallel-item:first-child::after {align-self: flex-end;width: 50%;}#sk-container-id-2 div.sk-parallel-item:last-child::after {align-self: flex-start;width: 50%;}#sk-container-id-2 div.sk-parallel-item:only-child::after {width: 0;}#sk-container-id-2 div.sk-dashed-wrapped {border: 1px dashed gray;margin: 0 0.4em 0.5em 0.4em;box-sizing: border-box;padding-bottom: 0.4em;background-color: white;}#sk-container-id-2 div.sk-label label {font-family: monospace;font-weight: bold;display: inline-block;line-height: 1.2em;}#sk-container-id-2 div.sk-label-container {text-align: center;}#sk-container-id-2 div.sk-container {/* jupyter's `normalize.less` sets `[hidden] { display: none; }` but bootstrap.min.css set `[hidden] { display: none !important; }` so we also need the `!important` here to be able to override the default hidden behavior on the sphinx rendered scikit-learn.org. See: https://github.com/scikit-learn/scikit-learn/issues/21755 */display: inline-block !important;position: relative;}#sk-container-id-2 div.sk-text-repr-fallback {display: none;}</style><div id=\"sk-container-id-2\" class=\"sk-top-container\"><div class=\"sk-text-repr-fallback\"><pre>QuadraticDiscriminantAnalysis()</pre><b>In a Jupyter environment, please rerun this cell to show the HTML representation or trust the notebook. <br />On GitHub, the HTML representation is unable to render, please try loading this page with nbviewer.org.</b></div><div class=\"sk-container\" hidden><div class=\"sk-item\"><div class=\"sk-estimator sk-toggleable\"><input class=\"sk-toggleable__control sk-hidden--visually\" id=\"sk-estimator-id-2\" type=\"checkbox\" checked><label for=\"sk-estimator-id-2\" class=\"sk-toggleable__label sk-toggleable__label-arrow\">QuadraticDiscriminantAnalysis</label><div class=\"sk-toggleable__content\"><pre>QuadraticDiscriminantAnalysis()</pre></div></div></div></div></div>"
            ]
          },
          "metadata": {},
          "execution_count": 44
        }
      ]
    },
    {
      "cell_type": "markdown",
      "source": [
        "### Predicciones"
      ],
      "metadata": {
        "id": "crUwLC82xDFd"
      }
    },
    {
      "cell_type": "code",
      "source": [
        "QDA_train_pred=QDA.predict(X_train)\n",
        "QDA_test_pred=QDA.predict(X_test)"
      ],
      "metadata": {
        "id": "c9U3pquGxIWr"
      },
      "execution_count": null,
      "outputs": []
    },
    {
      "cell_type": "markdown",
      "source": [
        "### Evaluación con métricas"
      ],
      "metadata": {
        "id": "7ko1D4b6xSQO"
      }
    },
    {
      "cell_type": "code",
      "source": [
        "# Debe estar importada la función \"confusion_matrix\" del paquete \"sklearn.metrics\"\n",
        "print(\"Matriz de confusión Train\")\n",
        "print(confusion_matrix(y_train,QDA_train_pred))\n",
        "print(\"Matriz de confusión Test\")\n",
        "print(confusion_matrix(y_train,QDA_train_pred))"
      ],
      "metadata": {
        "id": "C5t86zQqxWhl",
        "colab": {
          "base_uri": "https://localhost:8080/"
        },
        "outputId": "33410c05-4b2a-48ba-a0cb-12c6d30e6bec"
      },
      "execution_count": null,
      "outputs": [
        {
          "output_type": "stream",
          "name": "stdout",
          "text": [
            "Matriz de confusión Train\n",
            "[[18806   972]\n",
            " [ 4344  1926]]\n",
            "Matriz de confusión Test\n",
            "[[18806   972]\n",
            " [ 4344  1926]]\n"
          ]
        }
      ]
    },
    {
      "cell_type": "code",
      "source": [
        "# Debe estar importada la función \"accuracy_score\" del paquete \"sklearn.metrics\"\n",
        "print(\"Accuracy Entrenamiento\")\n",
        "print(accuracy_score(y_train, QDA_train_pred))\n",
        "print(\"Accuracy Testeo\")\n",
        "print(accuracy_score(y_test, QDA_test_pred))"
      ],
      "metadata": {
        "id": "Te8-Uzjqxndp",
        "colab": {
          "base_uri": "https://localhost:8080/"
        },
        "outputId": "737c8699-79e3-45de-8d09-9585d995e8e6"
      },
      "execution_count": null,
      "outputs": [
        {
          "output_type": "stream",
          "name": "stdout",
          "text": [
            "Accuracy Entrenamiento\n",
            "0.7959152334152334\n",
            "Accuracy Testeo\n",
            "0.7999385843697221\n"
          ]
        }
      ]
    },
    {
      "cell_type": "code",
      "source": [
        "# Debe estar importada la función \"classification_report\" del paquete \"sklearn.metrics\"\n",
        "print(\"Classification Report Entrenamiento\")\n",
        "print(classification_report(y_train,QDA_train_pred))\n",
        "print(\"Classification Report Testeo\")\n",
        "print(classification_report(y_test,QDA_test_pred))"
      ],
      "metadata": {
        "id": "RQNRpUL6xy09",
        "colab": {
          "base_uri": "https://localhost:8080/"
        },
        "outputId": "8ffe44ca-0b95-419a-fe57-a07df9213a40"
      },
      "execution_count": null,
      "outputs": [
        {
          "output_type": "stream",
          "name": "stdout",
          "text": [
            "Classification Report Entrenamiento\n",
            "              precision    recall  f1-score   support\n",
            "\n",
            "       <=50K       0.81      0.95      0.88     19778\n",
            "        >50K       0.66      0.31      0.42      6270\n",
            "\n",
            "    accuracy                           0.80     26048\n",
            "   macro avg       0.74      0.63      0.65     26048\n",
            "weighted avg       0.78      0.80      0.77     26048\n",
            "\n",
            "Classification Report Testeo\n",
            "              precision    recall  f1-score   support\n",
            "\n",
            "       <=50K       0.81      0.95      0.88      4942\n",
            "        >50K       0.68      0.32      0.43      1571\n",
            "\n",
            "    accuracy                           0.80      6513\n",
            "   macro avg       0.75      0.64      0.66      6513\n",
            "weighted avg       0.78      0.80      0.77      6513\n",
            "\n"
          ]
        }
      ]
    },
    {
      "cell_type": "markdown",
      "source": [
        "## Estandarización de datos\n",
        "\n",
        "Todos los criterios que usan los algoritmos para clasificar son numéricos, por lo que si una variable tiende a tener mayores valores, puede tener mayor influencia sobre los resultados. Por ejemplo, veamos las medias de las variables utilizadas:"
      ],
      "metadata": {
        "id": "KjZWosYLLXVj"
      }
    },
    {
      "cell_type": "code",
      "source": [
        "print(\"Medias:\")\n",
        "print(X.mean(axis=0))\n",
        "print(\"Desvíos:\")\n",
        "print(X.std(axis=0))"
      ],
      "metadata": {
        "id": "KQ58iePfMCXv",
        "colab": {
          "base_uri": "https://localhost:8080/"
        },
        "outputId": "2222554e-b61c-49ed-e6e8-c5d380bb8621"
      },
      "execution_count": null,
      "outputs": [
        {
          "output_type": "stream",
          "name": "stdout",
          "text": [
            "Medias:\n",
            "age                   38.581647\n",
            "fnlwgt            189778.366512\n",
            "education-num         10.080679\n",
            "capital-gain        1077.648844\n",
            "capital-loss          87.303830\n",
            "hours-per-week        40.437456\n",
            "dtype: float64\n",
            "Desvíos:\n",
            "age                   13.640433\n",
            "fnlwgt            105549.977697\n",
            "education-num          2.572720\n",
            "capital-gain        7385.292085\n",
            "capital-loss         402.960219\n",
            "hours-per-week        12.347429\n",
            "dtype: float64\n"
          ]
        }
      ]
    },
    {
      "cell_type": "markdown",
      "source": [
        "Vemos que efectivamente son muy diferentes los valores de cada variable. Por lo tanto, se puede aplicar un proceso llamado \"estandarización\", que a veces se denomina \"scaling\" en inglés. El proceso consiste de restar la media y dividir por el desvío correspondientes a cada variable.\n",
        "\n",
        "En Python se utiliza el comando `StandardScaler`:"
      ],
      "metadata": {
        "id": "qTX3iC2aMB1l"
      }
    },
    {
      "cell_type": "code",
      "source": [
        "from sklearn.preprocessing import StandardScaler\n",
        "scaler = StandardScaler()\n",
        "scaler.fit(X)"
      ],
      "metadata": {
        "id": "TX8hLQaUNlpS",
        "colab": {
          "base_uri": "https://localhost:8080/",
          "height": 75
        },
        "outputId": "fc626556-716f-4b43-dbf8-c29fa0e6173c"
      },
      "execution_count": null,
      "outputs": [
        {
          "output_type": "execute_result",
          "data": {
            "text/plain": [
              "StandardScaler()"
            ],
            "text/html": [
              "<style>#sk-container-id-3 {color: black;background-color: white;}#sk-container-id-3 pre{padding: 0;}#sk-container-id-3 div.sk-toggleable {background-color: white;}#sk-container-id-3 label.sk-toggleable__label {cursor: pointer;display: block;width: 100%;margin-bottom: 0;padding: 0.3em;box-sizing: border-box;text-align: center;}#sk-container-id-3 label.sk-toggleable__label-arrow:before {content: \"▸\";float: left;margin-right: 0.25em;color: #696969;}#sk-container-id-3 label.sk-toggleable__label-arrow:hover:before {color: black;}#sk-container-id-3 div.sk-estimator:hover label.sk-toggleable__label-arrow:before {color: black;}#sk-container-id-3 div.sk-toggleable__content {max-height: 0;max-width: 0;overflow: hidden;text-align: left;background-color: #f0f8ff;}#sk-container-id-3 div.sk-toggleable__content pre {margin: 0.2em;color: black;border-radius: 0.25em;background-color: #f0f8ff;}#sk-container-id-3 input.sk-toggleable__control:checked~div.sk-toggleable__content {max-height: 200px;max-width: 100%;overflow: auto;}#sk-container-id-3 input.sk-toggleable__control:checked~label.sk-toggleable__label-arrow:before {content: \"▾\";}#sk-container-id-3 div.sk-estimator input.sk-toggleable__control:checked~label.sk-toggleable__label {background-color: #d4ebff;}#sk-container-id-3 div.sk-label input.sk-toggleable__control:checked~label.sk-toggleable__label {background-color: #d4ebff;}#sk-container-id-3 input.sk-hidden--visually {border: 0;clip: rect(1px 1px 1px 1px);clip: rect(1px, 1px, 1px, 1px);height: 1px;margin: -1px;overflow: hidden;padding: 0;position: absolute;width: 1px;}#sk-container-id-3 div.sk-estimator {font-family: monospace;background-color: #f0f8ff;border: 1px dotted black;border-radius: 0.25em;box-sizing: border-box;margin-bottom: 0.5em;}#sk-container-id-3 div.sk-estimator:hover {background-color: #d4ebff;}#sk-container-id-3 div.sk-parallel-item::after {content: \"\";width: 100%;border-bottom: 1px solid gray;flex-grow: 1;}#sk-container-id-3 div.sk-label:hover label.sk-toggleable__label {background-color: #d4ebff;}#sk-container-id-3 div.sk-serial::before {content: \"\";position: absolute;border-left: 1px solid gray;box-sizing: border-box;top: 0;bottom: 0;left: 50%;z-index: 0;}#sk-container-id-3 div.sk-serial {display: flex;flex-direction: column;align-items: center;background-color: white;padding-right: 0.2em;padding-left: 0.2em;position: relative;}#sk-container-id-3 div.sk-item {position: relative;z-index: 1;}#sk-container-id-3 div.sk-parallel {display: flex;align-items: stretch;justify-content: center;background-color: white;position: relative;}#sk-container-id-3 div.sk-item::before, #sk-container-id-3 div.sk-parallel-item::before {content: \"\";position: absolute;border-left: 1px solid gray;box-sizing: border-box;top: 0;bottom: 0;left: 50%;z-index: -1;}#sk-container-id-3 div.sk-parallel-item {display: flex;flex-direction: column;z-index: 1;position: relative;background-color: white;}#sk-container-id-3 div.sk-parallel-item:first-child::after {align-self: flex-end;width: 50%;}#sk-container-id-3 div.sk-parallel-item:last-child::after {align-self: flex-start;width: 50%;}#sk-container-id-3 div.sk-parallel-item:only-child::after {width: 0;}#sk-container-id-3 div.sk-dashed-wrapped {border: 1px dashed gray;margin: 0 0.4em 0.5em 0.4em;box-sizing: border-box;padding-bottom: 0.4em;background-color: white;}#sk-container-id-3 div.sk-label label {font-family: monospace;font-weight: bold;display: inline-block;line-height: 1.2em;}#sk-container-id-3 div.sk-label-container {text-align: center;}#sk-container-id-3 div.sk-container {/* jupyter's `normalize.less` sets `[hidden] { display: none; }` but bootstrap.min.css set `[hidden] { display: none !important; }` so we also need the `!important` here to be able to override the default hidden behavior on the sphinx rendered scikit-learn.org. See: https://github.com/scikit-learn/scikit-learn/issues/21755 */display: inline-block !important;position: relative;}#sk-container-id-3 div.sk-text-repr-fallback {display: none;}</style><div id=\"sk-container-id-3\" class=\"sk-top-container\"><div class=\"sk-text-repr-fallback\"><pre>StandardScaler()</pre><b>In a Jupyter environment, please rerun this cell to show the HTML representation or trust the notebook. <br />On GitHub, the HTML representation is unable to render, please try loading this page with nbviewer.org.</b></div><div class=\"sk-container\" hidden><div class=\"sk-item\"><div class=\"sk-estimator sk-toggleable\"><input class=\"sk-toggleable__control sk-hidden--visually\" id=\"sk-estimator-id-3\" type=\"checkbox\" checked><label for=\"sk-estimator-id-3\" class=\"sk-toggleable__label sk-toggleable__label-arrow\">StandardScaler</label><div class=\"sk-toggleable__content\"><pre>StandardScaler()</pre></div></div></div></div></div>"
            ]
          },
          "metadata": {},
          "execution_count": 50
        }
      ]
    },
    {
      "cell_type": "markdown",
      "source": [
        "Habiendo aplicado la función, podemos ver la media y el desvio por variable:"
      ],
      "metadata": {
        "id": "OaBd89D-OGpq"
      }
    },
    {
      "cell_type": "code",
      "source": [
        "print(scaler.mean_)\n",
        "print(scaler.scale_)"
      ],
      "metadata": {
        "id": "cONzFyUMOMKl",
        "colab": {
          "base_uri": "https://localhost:8080/"
        },
        "outputId": "990b3cd3-aefb-4feb-82a8-4eb5d726d81d"
      },
      "execution_count": null,
      "outputs": [
        {
          "output_type": "stream",
          "name": "stdout",
          "text": [
            "[3.85816468e+01 1.89778367e+05 1.00806793e+01 1.07764884e+03\n",
            " 8.73038297e+01 4.04374559e+01]\n",
            "[1.36402231e+01 1.05548357e+05 2.57268083e+00 7.38517868e+03\n",
            " 4.02954031e+02 1.23472391e+01]\n"
          ]
        }
      ]
    },
    {
      "cell_type": "markdown",
      "source": [
        "Para aplicar la transformación, se utiliza la función `transform`:"
      ],
      "metadata": {
        "id": "eBXHmn3vO00I"
      }
    },
    {
      "cell_type": "code",
      "source": [
        "X_sc=scaler.transform(X)\n",
        "print(\"Medias Transformadas:\")\n",
        "print(X_sc.mean(axis=0))\n",
        "print(\"Desvíos Transformados:\")\n",
        "print(X_sc.std(axis=0))"
      ],
      "metadata": {
        "id": "BVejD60uO78n",
        "colab": {
          "base_uri": "https://localhost:8080/"
        },
        "outputId": "f9a66f6e-89e5-4db4-d070-d510170e93f0"
      },
      "execution_count": null,
      "outputs": [
        {
          "output_type": "stream",
          "name": "stdout",
          "text": [
            "Medias Transformadas:\n",
            "[-2.70591503e-17 -1.00162500e-16  1.47188684e-16  1.30931372e-17\n",
            "  1.01690033e-16 -1.54935457e-17]\n",
            "Desvíos Transformados:\n",
            "[1. 1. 1. 1. 1. 1.]\n"
          ]
        }
      ]
    },
    {
      "cell_type": "markdown",
      "source": [
        "Notar que todas las variables ahora tienen media cercana a cero (nunca es exacto) y el mismo desvío. Por lo tanto, podemos ver si aplicar esta transformación mejora el funcionamiento de los algoritmo."
      ],
      "metadata": {
        "id": "Peu8OilxP-U1"
      }
    },
    {
      "cell_type": "code",
      "source": [
        "# Debe estar importada la función \"train_test_split\" del paquete \"sklearn.metrics\"\n",
        "X_sc_train, X_sc_test, y_train, y_test = train_test_split(X_sc, y,test_size=0.2, random_state=42)"
      ],
      "metadata": {
        "id": "h6gjr471QRjd"
      },
      "execution_count": null,
      "outputs": []
    },
    {
      "cell_type": "code",
      "source": [
        "# Debe estar importada la función \"LinearDiscriminantAnalysis\" del paquete \"sklearn.discriminant_analysis\"\n",
        "from sklearn.discriminant_analysis import LinearDiscriminantAnalysis\n",
        "# Inicializo el algoritmo\n",
        "LDA_sc = LinearDiscriminantAnalysis()\n",
        "LDA_sc.fit(X_sc_train,y_train)"
      ],
      "metadata": {
        "id": "Mr5TcMk6QjXZ",
        "colab": {
          "base_uri": "https://localhost:8080/",
          "height": 75
        },
        "outputId": "2d70195f-76ab-4095-b5b4-2279fd08d55e"
      },
      "execution_count": null,
      "outputs": [
        {
          "output_type": "execute_result",
          "data": {
            "text/plain": [
              "LinearDiscriminantAnalysis()"
            ],
            "text/html": [
              "<style>#sk-container-id-4 {color: black;background-color: white;}#sk-container-id-4 pre{padding: 0;}#sk-container-id-4 div.sk-toggleable {background-color: white;}#sk-container-id-4 label.sk-toggleable__label {cursor: pointer;display: block;width: 100%;margin-bottom: 0;padding: 0.3em;box-sizing: border-box;text-align: center;}#sk-container-id-4 label.sk-toggleable__label-arrow:before {content: \"▸\";float: left;margin-right: 0.25em;color: #696969;}#sk-container-id-4 label.sk-toggleable__label-arrow:hover:before {color: black;}#sk-container-id-4 div.sk-estimator:hover label.sk-toggleable__label-arrow:before {color: black;}#sk-container-id-4 div.sk-toggleable__content {max-height: 0;max-width: 0;overflow: hidden;text-align: left;background-color: #f0f8ff;}#sk-container-id-4 div.sk-toggleable__content pre {margin: 0.2em;color: black;border-radius: 0.25em;background-color: #f0f8ff;}#sk-container-id-4 input.sk-toggleable__control:checked~div.sk-toggleable__content {max-height: 200px;max-width: 100%;overflow: auto;}#sk-container-id-4 input.sk-toggleable__control:checked~label.sk-toggleable__label-arrow:before {content: \"▾\";}#sk-container-id-4 div.sk-estimator input.sk-toggleable__control:checked~label.sk-toggleable__label {background-color: #d4ebff;}#sk-container-id-4 div.sk-label input.sk-toggleable__control:checked~label.sk-toggleable__label {background-color: #d4ebff;}#sk-container-id-4 input.sk-hidden--visually {border: 0;clip: rect(1px 1px 1px 1px);clip: rect(1px, 1px, 1px, 1px);height: 1px;margin: -1px;overflow: hidden;padding: 0;position: absolute;width: 1px;}#sk-container-id-4 div.sk-estimator {font-family: monospace;background-color: #f0f8ff;border: 1px dotted black;border-radius: 0.25em;box-sizing: border-box;margin-bottom: 0.5em;}#sk-container-id-4 div.sk-estimator:hover {background-color: #d4ebff;}#sk-container-id-4 div.sk-parallel-item::after {content: \"\";width: 100%;border-bottom: 1px solid gray;flex-grow: 1;}#sk-container-id-4 div.sk-label:hover label.sk-toggleable__label {background-color: #d4ebff;}#sk-container-id-4 div.sk-serial::before {content: \"\";position: absolute;border-left: 1px solid gray;box-sizing: border-box;top: 0;bottom: 0;left: 50%;z-index: 0;}#sk-container-id-4 div.sk-serial {display: flex;flex-direction: column;align-items: center;background-color: white;padding-right: 0.2em;padding-left: 0.2em;position: relative;}#sk-container-id-4 div.sk-item {position: relative;z-index: 1;}#sk-container-id-4 div.sk-parallel {display: flex;align-items: stretch;justify-content: center;background-color: white;position: relative;}#sk-container-id-4 div.sk-item::before, #sk-container-id-4 div.sk-parallel-item::before {content: \"\";position: absolute;border-left: 1px solid gray;box-sizing: border-box;top: 0;bottom: 0;left: 50%;z-index: -1;}#sk-container-id-4 div.sk-parallel-item {display: flex;flex-direction: column;z-index: 1;position: relative;background-color: white;}#sk-container-id-4 div.sk-parallel-item:first-child::after {align-self: flex-end;width: 50%;}#sk-container-id-4 div.sk-parallel-item:last-child::after {align-self: flex-start;width: 50%;}#sk-container-id-4 div.sk-parallel-item:only-child::after {width: 0;}#sk-container-id-4 div.sk-dashed-wrapped {border: 1px dashed gray;margin: 0 0.4em 0.5em 0.4em;box-sizing: border-box;padding-bottom: 0.4em;background-color: white;}#sk-container-id-4 div.sk-label label {font-family: monospace;font-weight: bold;display: inline-block;line-height: 1.2em;}#sk-container-id-4 div.sk-label-container {text-align: center;}#sk-container-id-4 div.sk-container {/* jupyter's `normalize.less` sets `[hidden] { display: none; }` but bootstrap.min.css set `[hidden] { display: none !important; }` so we also need the `!important` here to be able to override the default hidden behavior on the sphinx rendered scikit-learn.org. See: https://github.com/scikit-learn/scikit-learn/issues/21755 */display: inline-block !important;position: relative;}#sk-container-id-4 div.sk-text-repr-fallback {display: none;}</style><div id=\"sk-container-id-4\" class=\"sk-top-container\"><div class=\"sk-text-repr-fallback\"><pre>LinearDiscriminantAnalysis()</pre><b>In a Jupyter environment, please rerun this cell to show the HTML representation or trust the notebook. <br />On GitHub, the HTML representation is unable to render, please try loading this page with nbviewer.org.</b></div><div class=\"sk-container\" hidden><div class=\"sk-item\"><div class=\"sk-estimator sk-toggleable\"><input class=\"sk-toggleable__control sk-hidden--visually\" id=\"sk-estimator-id-4\" type=\"checkbox\" checked><label for=\"sk-estimator-id-4\" class=\"sk-toggleable__label sk-toggleable__label-arrow\">LinearDiscriminantAnalysis</label><div class=\"sk-toggleable__content\"><pre>LinearDiscriminantAnalysis()</pre></div></div></div></div></div>"
            ]
          },
          "metadata": {},
          "execution_count": 54
        }
      ]
    },
    {
      "cell_type": "code",
      "source": [
        "# Predicciones para la base de entrenamiento\n",
        "LDA_sc_train_pred=LDA_sc.predict(X_sc_train)\n",
        "# Predicciones para la base de testeo\n",
        "LDA_sc_test_pred=LDA_sc.predict(X_sc_test)"
      ],
      "metadata": {
        "id": "gGtO1YBGQw2Z"
      },
      "execution_count": null,
      "outputs": []
    },
    {
      "cell_type": "code",
      "source": [
        "# Debe estar importada la función \"confusion_matrix\" del paquete \"sklearn.metrics\"\n",
        "print(\"Matriz de confusión Entrenamiento\")\n",
        "print(confusion_matrix(y_train,LDA_train_pred))\n",
        "print(\"Matriz de confusión Entrenamiento (Escalado)\")\n",
        "print(confusion_matrix(y_train,LDA_sc_train_pred))\n",
        "print(\"Matriz de confusión Testeo\")\n",
        "print(confusion_matrix(y_test,LDA_test_pred))\n",
        "print(\"Matriz de confusión Testeo (Escalado)\")\n",
        "print(confusion_matrix(y_test,LDA_sc_test_pred))"
      ],
      "metadata": {
        "id": "nghtw-A2RE6J",
        "colab": {
          "base_uri": "https://localhost:8080/"
        },
        "outputId": "44475571-0ba6-4628-d684-885fc3ed9b02"
      },
      "execution_count": null,
      "outputs": [
        {
          "output_type": "stream",
          "name": "stdout",
          "text": [
            "Matriz de confusión Entrenamiento\n",
            "[[18856   922]\n",
            " [ 4227  2043]]\n",
            "Matriz de confusión Entrenamiento (Escalado)\n",
            "[[18856   922]\n",
            " [ 4227  2043]]\n",
            "Matriz de confusión Testeo\n",
            "[[4705  237]\n",
            " [1044  527]]\n",
            "Matriz de confusión Testeo (Escalado)\n",
            "[[4705  237]\n",
            " [1044  527]]\n"
          ]
        }
      ]
    },
    {
      "cell_type": "code",
      "source": [
        "# Debe estar importada la función \"accuracy_score\" del paquete \"sklearn.metrics\"\n",
        "print(\"Accuracy Entrenamiento\")\n",
        "print(accuracy_score(y_train, LDA_train_pred))\n",
        "print(\"Accuracy Entrenamiento (Escalado)\")\n",
        "print(accuracy_score(y_train, LDA_sc_train_pred))\n",
        "print(\"Accuracy Testeo\")\n",
        "print(accuracy_score(y_test, LDA_test_pred))\n",
        "print(\"Accuracy Testeo (Escalado)\")\n",
        "print(accuracy_score(y_test, LDA_sc_test_pred))"
      ],
      "metadata": {
        "id": "YTjnmm_oRJqp",
        "colab": {
          "base_uri": "https://localhost:8080/"
        },
        "outputId": "436bd2fd-c296-4fde-e7f2-2136ec2b9295"
      },
      "execution_count": null,
      "outputs": [
        {
          "output_type": "stream",
          "name": "stdout",
          "text": [
            "Accuracy Entrenamiento\n",
            "0.8023264742014742\n",
            "Accuracy Entrenamiento (Escalado)\n",
            "0.8023264742014742\n",
            "Accuracy Testeo\n",
            "0.8033164440350069\n",
            "Accuracy Testeo (Escalado)\n",
            "0.8033164440350069\n"
          ]
        }
      ]
    },
    {
      "cell_type": "code",
      "source": [
        "# Debe estar importada la función \"classification_report\" del paquete \"sklearn.metrics\"\n",
        "print(\"Classification Report Train\")\n",
        "print(classification_report(y_train,LDA_train_pred))\n",
        "print(\"Classification Report Train (Escalado)\")\n",
        "print(classification_report(y_train,LDA_sc_train_pred))\n",
        "print(\"Classification Report Test\")\n",
        "print(classification_report(y_test,LDA_test_pred))\n",
        "print(\"Classification Report Test (Escalado)\")\n",
        "print(classification_report(y_test,LDA_sc_test_pred))"
      ],
      "metadata": {
        "id": "F31yDAQ8RkwN",
        "colab": {
          "base_uri": "https://localhost:8080/"
        },
        "outputId": "6af170d8-f076-4ac5-fb55-f5975c8f0e9d"
      },
      "execution_count": null,
      "outputs": [
        {
          "output_type": "stream",
          "name": "stdout",
          "text": [
            "Classification Report Train\n",
            "              precision    recall  f1-score   support\n",
            "\n",
            "       <=50K       0.82      0.95      0.88     19778\n",
            "        >50K       0.69      0.33      0.44      6270\n",
            "\n",
            "    accuracy                           0.80     26048\n",
            "   macro avg       0.75      0.64      0.66     26048\n",
            "weighted avg       0.79      0.80      0.77     26048\n",
            "\n",
            "Classification Report Train (Escalado)\n",
            "              precision    recall  f1-score   support\n",
            "\n",
            "       <=50K       0.82      0.95      0.88     19778\n",
            "        >50K       0.69      0.33      0.44      6270\n",
            "\n",
            "    accuracy                           0.80     26048\n",
            "   macro avg       0.75      0.64      0.66     26048\n",
            "weighted avg       0.79      0.80      0.77     26048\n",
            "\n",
            "Classification Report Test\n",
            "              precision    recall  f1-score   support\n",
            "\n",
            "       <=50K       0.82      0.95      0.88      4942\n",
            "        >50K       0.69      0.34      0.45      1571\n",
            "\n",
            "    accuracy                           0.80      6513\n",
            "   macro avg       0.75      0.64      0.67      6513\n",
            "weighted avg       0.79      0.80      0.78      6513\n",
            "\n",
            "Classification Report Test (Escalado)\n",
            "              precision    recall  f1-score   support\n",
            "\n",
            "       <=50K       0.82      0.95      0.88      4942\n",
            "        >50K       0.69      0.34      0.45      1571\n",
            "\n",
            "    accuracy                           0.80      6513\n",
            "   macro avg       0.75      0.64      0.67      6513\n",
            "weighted avg       0.79      0.80      0.78      6513\n",
            "\n"
          ]
        }
      ]
    },
    {
      "cell_type": "code",
      "source": [
        "# Debe estar importada la función \"QuadraticDiscriminantAnalysis\" del paquete \"sklearn.discriminant_analysis\"\n",
        "QDA_sc = QuadraticDiscriminantAnalysis()\n",
        "QDA_sc.fit(X_sc_train,y_train)"
      ],
      "metadata": {
        "id": "997bsfT9SZkD",
        "colab": {
          "base_uri": "https://localhost:8080/",
          "height": 75
        },
        "outputId": "6fc5dcb2-82dc-49e6-dcd7-b8d9c70ddb79"
      },
      "execution_count": null,
      "outputs": [
        {
          "output_type": "execute_result",
          "data": {
            "text/plain": [
              "QuadraticDiscriminantAnalysis()"
            ],
            "text/html": [
              "<style>#sk-container-id-5 {color: black;background-color: white;}#sk-container-id-5 pre{padding: 0;}#sk-container-id-5 div.sk-toggleable {background-color: white;}#sk-container-id-5 label.sk-toggleable__label {cursor: pointer;display: block;width: 100%;margin-bottom: 0;padding: 0.3em;box-sizing: border-box;text-align: center;}#sk-container-id-5 label.sk-toggleable__label-arrow:before {content: \"▸\";float: left;margin-right: 0.25em;color: #696969;}#sk-container-id-5 label.sk-toggleable__label-arrow:hover:before {color: black;}#sk-container-id-5 div.sk-estimator:hover label.sk-toggleable__label-arrow:before {color: black;}#sk-container-id-5 div.sk-toggleable__content {max-height: 0;max-width: 0;overflow: hidden;text-align: left;background-color: #f0f8ff;}#sk-container-id-5 div.sk-toggleable__content pre {margin: 0.2em;color: black;border-radius: 0.25em;background-color: #f0f8ff;}#sk-container-id-5 input.sk-toggleable__control:checked~div.sk-toggleable__content {max-height: 200px;max-width: 100%;overflow: auto;}#sk-container-id-5 input.sk-toggleable__control:checked~label.sk-toggleable__label-arrow:before {content: \"▾\";}#sk-container-id-5 div.sk-estimator input.sk-toggleable__control:checked~label.sk-toggleable__label {background-color: #d4ebff;}#sk-container-id-5 div.sk-label input.sk-toggleable__control:checked~label.sk-toggleable__label {background-color: #d4ebff;}#sk-container-id-5 input.sk-hidden--visually {border: 0;clip: rect(1px 1px 1px 1px);clip: rect(1px, 1px, 1px, 1px);height: 1px;margin: -1px;overflow: hidden;padding: 0;position: absolute;width: 1px;}#sk-container-id-5 div.sk-estimator {font-family: monospace;background-color: #f0f8ff;border: 1px dotted black;border-radius: 0.25em;box-sizing: border-box;margin-bottom: 0.5em;}#sk-container-id-5 div.sk-estimator:hover {background-color: #d4ebff;}#sk-container-id-5 div.sk-parallel-item::after {content: \"\";width: 100%;border-bottom: 1px solid gray;flex-grow: 1;}#sk-container-id-5 div.sk-label:hover label.sk-toggleable__label {background-color: #d4ebff;}#sk-container-id-5 div.sk-serial::before {content: \"\";position: absolute;border-left: 1px solid gray;box-sizing: border-box;top: 0;bottom: 0;left: 50%;z-index: 0;}#sk-container-id-5 div.sk-serial {display: flex;flex-direction: column;align-items: center;background-color: white;padding-right: 0.2em;padding-left: 0.2em;position: relative;}#sk-container-id-5 div.sk-item {position: relative;z-index: 1;}#sk-container-id-5 div.sk-parallel {display: flex;align-items: stretch;justify-content: center;background-color: white;position: relative;}#sk-container-id-5 div.sk-item::before, #sk-container-id-5 div.sk-parallel-item::before {content: \"\";position: absolute;border-left: 1px solid gray;box-sizing: border-box;top: 0;bottom: 0;left: 50%;z-index: -1;}#sk-container-id-5 div.sk-parallel-item {display: flex;flex-direction: column;z-index: 1;position: relative;background-color: white;}#sk-container-id-5 div.sk-parallel-item:first-child::after {align-self: flex-end;width: 50%;}#sk-container-id-5 div.sk-parallel-item:last-child::after {align-self: flex-start;width: 50%;}#sk-container-id-5 div.sk-parallel-item:only-child::after {width: 0;}#sk-container-id-5 div.sk-dashed-wrapped {border: 1px dashed gray;margin: 0 0.4em 0.5em 0.4em;box-sizing: border-box;padding-bottom: 0.4em;background-color: white;}#sk-container-id-5 div.sk-label label {font-family: monospace;font-weight: bold;display: inline-block;line-height: 1.2em;}#sk-container-id-5 div.sk-label-container {text-align: center;}#sk-container-id-5 div.sk-container {/* jupyter's `normalize.less` sets `[hidden] { display: none; }` but bootstrap.min.css set `[hidden] { display: none !important; }` so we also need the `!important` here to be able to override the default hidden behavior on the sphinx rendered scikit-learn.org. See: https://github.com/scikit-learn/scikit-learn/issues/21755 */display: inline-block !important;position: relative;}#sk-container-id-5 div.sk-text-repr-fallback {display: none;}</style><div id=\"sk-container-id-5\" class=\"sk-top-container\"><div class=\"sk-text-repr-fallback\"><pre>QuadraticDiscriminantAnalysis()</pre><b>In a Jupyter environment, please rerun this cell to show the HTML representation or trust the notebook. <br />On GitHub, the HTML representation is unable to render, please try loading this page with nbviewer.org.</b></div><div class=\"sk-container\" hidden><div class=\"sk-item\"><div class=\"sk-estimator sk-toggleable\"><input class=\"sk-toggleable__control sk-hidden--visually\" id=\"sk-estimator-id-5\" type=\"checkbox\" checked><label for=\"sk-estimator-id-5\" class=\"sk-toggleable__label sk-toggleable__label-arrow\">QuadraticDiscriminantAnalysis</label><div class=\"sk-toggleable__content\"><pre>QuadraticDiscriminantAnalysis()</pre></div></div></div></div></div>"
            ]
          },
          "metadata": {},
          "execution_count": 59
        }
      ]
    },
    {
      "cell_type": "code",
      "source": [
        "QDA_sc_train_pred=QDA_sc.predict(X_sc_train)\n",
        "QDA_sc_test_pred=QDA_sc.predict(X_sc_test)"
      ],
      "metadata": {
        "id": "lXZJ_s21Sdt5"
      },
      "execution_count": null,
      "outputs": []
    },
    {
      "cell_type": "code",
      "source": [
        "# Debe estar importada la función \"confusion_matrix\" del paquete \"sklearn.metrics\"\n",
        "print(\"Matriz de confusión Train\")\n",
        "print(confusion_matrix(y_train,QDA_train_pred))\n",
        "print(\"Matriz de confusión Train (Escalado)\")\n",
        "print(confusion_matrix(y_train,QDA_sc_train_pred))\n",
        "print(\"Matriz de confusión Test\")\n",
        "print(confusion_matrix(y_train,QDA_train_pred))\n",
        "print(\"Matriz de confusión Test (Escalado)\")\n",
        "print(confusion_matrix(y_train,QDA_sc_train_pred))"
      ],
      "metadata": {
        "id": "brQPH_YfSrjY",
        "colab": {
          "base_uri": "https://localhost:8080/"
        },
        "outputId": "3b61d6d1-6e13-4a3b-9e0d-c98febd9a136"
      },
      "execution_count": null,
      "outputs": [
        {
          "output_type": "stream",
          "name": "stdout",
          "text": [
            "Matriz de confusión Train\n",
            "[[18806   972]\n",
            " [ 4344  1926]]\n",
            "Matriz de confusión Train (Escalado)\n",
            "[[18806   972]\n",
            " [ 4344  1926]]\n",
            "Matriz de confusión Test\n",
            "[[18806   972]\n",
            " [ 4344  1926]]\n",
            "Matriz de confusión Test (Escalado)\n",
            "[[18806   972]\n",
            " [ 4344  1926]]\n"
          ]
        }
      ]
    },
    {
      "cell_type": "code",
      "source": [
        "# Debe estar importada la función \"accuracy_score\" del paquete \"sklearn.metrics\"\n",
        "print(\"Accuracy Entrenamiento\")\n",
        "print(accuracy_score(y_train, QDA_train_pred))\n",
        "print(\"Accuracy Entrenamiento (Escalado)\")\n",
        "print(accuracy_score(y_train, QDA_sc_train_pred))\n",
        "print(\"Accuracy Testeo\")\n",
        "print(accuracy_score(y_test, QDA_test_pred))\n",
        "print(\"Accuracy Testeo (Escalado)\")\n",
        "print(accuracy_score(y_test, QDA_sc_test_pred))"
      ],
      "metadata": {
        "id": "ljAQJwcLSvjX",
        "colab": {
          "base_uri": "https://localhost:8080/"
        },
        "outputId": "29a6b839-0a0c-4899-b0fd-caf2fbb16ac6"
      },
      "execution_count": null,
      "outputs": [
        {
          "output_type": "stream",
          "name": "stdout",
          "text": [
            "Accuracy Entrenamiento\n",
            "0.7959152334152334\n",
            "Accuracy Entrenamiento (Escalado)\n",
            "0.7959152334152334\n",
            "Accuracy Testeo\n",
            "0.7999385843697221\n",
            "Accuracy Testeo (Escalado)\n",
            "0.7999385843697221\n"
          ]
        }
      ]
    },
    {
      "cell_type": "code",
      "source": [
        "# Debe estar importada la función \"classification_report\" del paquete \"sklearn.metrics\"\n",
        "print(\"Classification Report Entrenamiento\")\n",
        "print(classification_report(y_train,QDA_train_pred))\n",
        "print(\"Classification Report Entrenamiento (Escalado)\")\n",
        "print(classification_report(y_train,QDA_sc_train_pred))\n",
        "print(\"Classification Report Testeo\")\n",
        "print(classification_report(y_test,QDA_test_pred))\n",
        "print(\"Classification Report Testeo (Escalado)\")\n",
        "print(classification_report(y_test,QDA_sc_test_pred))"
      ],
      "metadata": {
        "id": "gx620kngS8KF",
        "colab": {
          "base_uri": "https://localhost:8080/"
        },
        "outputId": "02ff7f03-b5c8-49ea-a673-9d2d882847bc"
      },
      "execution_count": null,
      "outputs": [
        {
          "output_type": "stream",
          "name": "stdout",
          "text": [
            "Classification Report Entrenamiento\n",
            "              precision    recall  f1-score   support\n",
            "\n",
            "       <=50K       0.81      0.95      0.88     19778\n",
            "        >50K       0.66      0.31      0.42      6270\n",
            "\n",
            "    accuracy                           0.80     26048\n",
            "   macro avg       0.74      0.63      0.65     26048\n",
            "weighted avg       0.78      0.80      0.77     26048\n",
            "\n",
            "Classification Report Entrenamiento (Escalado)\n",
            "              precision    recall  f1-score   support\n",
            "\n",
            "       <=50K       0.81      0.95      0.88     19778\n",
            "        >50K       0.66      0.31      0.42      6270\n",
            "\n",
            "    accuracy                           0.80     26048\n",
            "   macro avg       0.74      0.63      0.65     26048\n",
            "weighted avg       0.78      0.80      0.77     26048\n",
            "\n",
            "Classification Report Testeo\n",
            "              precision    recall  f1-score   support\n",
            "\n",
            "       <=50K       0.81      0.95      0.88      4942\n",
            "        >50K       0.68      0.32      0.43      1571\n",
            "\n",
            "    accuracy                           0.80      6513\n",
            "   macro avg       0.75      0.64      0.66      6513\n",
            "weighted avg       0.78      0.80      0.77      6513\n",
            "\n",
            "Classification Report Testeo (Escalado)\n",
            "              precision    recall  f1-score   support\n",
            "\n",
            "       <=50K       0.81      0.95      0.88      4942\n",
            "        >50K       0.68      0.32      0.43      1571\n",
            "\n",
            "    accuracy                           0.80      6513\n",
            "   macro avg       0.75      0.64      0.66      6513\n",
            "weighted avg       0.78      0.80      0.77      6513\n",
            "\n"
          ]
        }
      ]
    },
    {
      "cell_type": "markdown",
      "source": [
        "## Variables categóricas\n",
        "\n",
        "Supongamos que queremos incluir una variable categórica al análisis. El algoritmo requería variables cuantitativas y por lo tanto, tira error:"
      ],
      "metadata": {
        "id": "3dgXFQbPE2F1"
      }
    },
    {
      "cell_type": "code",
      "source": [
        "covs=[\"age\",\"fnlwgt\",\"education-num\",\"capital-gain\",\"capital-loss\",\"hours-per-week\",\"sex\"]\n",
        "X=df[covs].copy()\n",
        "y=df[\"class\"].copy()"
      ],
      "metadata": {
        "id": "SP3YDwUJFekg"
      },
      "execution_count": null,
      "outputs": []
    },
    {
      "cell_type": "code",
      "source": [
        "# Debe estar importada la función \"LinearDiscriminantAnalysis\" del paquete \"sklearn.discriminant_analysis\"\n",
        "LDA = LinearDiscriminantAnalysis()\n",
        "LDA.fit(X,y)"
      ],
      "metadata": {
        "id": "TBorxEtyHtIp",
        "colab": {
          "base_uri": "https://localhost:8080/",
          "height": 376
        },
        "outputId": "f31a7bf1-1c5e-47fc-be40-adc73df20718"
      },
      "execution_count": null,
      "outputs": [
        {
          "output_type": "error",
          "ename": "ValueError",
          "evalue": "ignored",
          "traceback": [
            "\u001b[0;31m---------------------------------------------------------------------------\u001b[0m",
            "\u001b[0;31mValueError\u001b[0m                                Traceback (most recent call last)",
            "\u001b[0;32m<ipython-input-65-4622fb2d08f3>\u001b[0m in \u001b[0;36m<cell line: 3>\u001b[0;34m()\u001b[0m\n\u001b[1;32m      1\u001b[0m \u001b[0;31m# Debe estar importada la función \"LinearDiscriminantAnalysis\" del paquete \"sklearn.discriminant_analysis\"\u001b[0m\u001b[0;34m\u001b[0m\u001b[0;34m\u001b[0m\u001b[0m\n\u001b[1;32m      2\u001b[0m \u001b[0mLDA\u001b[0m \u001b[0;34m=\u001b[0m \u001b[0mLinearDiscriminantAnalysis\u001b[0m\u001b[0;34m(\u001b[0m\u001b[0;34m)\u001b[0m\u001b[0;34m\u001b[0m\u001b[0;34m\u001b[0m\u001b[0m\n\u001b[0;32m----> 3\u001b[0;31m \u001b[0mLDA\u001b[0m\u001b[0;34m.\u001b[0m\u001b[0mfit\u001b[0m\u001b[0;34m(\u001b[0m\u001b[0mX\u001b[0m\u001b[0;34m,\u001b[0m\u001b[0my\u001b[0m\u001b[0;34m)\u001b[0m\u001b[0;34m\u001b[0m\u001b[0;34m\u001b[0m\u001b[0m\n\u001b[0m",
            "\u001b[0;32m/usr/local/lib/python3.10/dist-packages/sklearn/discriminant_analysis.py\u001b[0m in \u001b[0;36mfit\u001b[0;34m(self, X, y)\u001b[0m\n\u001b[1;32m    573\u001b[0m         \u001b[0mxp\u001b[0m\u001b[0;34m,\u001b[0m \u001b[0m_\u001b[0m \u001b[0;34m=\u001b[0m \u001b[0mget_namespace\u001b[0m\u001b[0;34m(\u001b[0m\u001b[0mX\u001b[0m\u001b[0;34m)\u001b[0m\u001b[0;34m\u001b[0m\u001b[0;34m\u001b[0m\u001b[0m\n\u001b[1;32m    574\u001b[0m \u001b[0;34m\u001b[0m\u001b[0m\n\u001b[0;32m--> 575\u001b[0;31m         X, y = self._validate_data(\n\u001b[0m\u001b[1;32m    576\u001b[0m             \u001b[0mX\u001b[0m\u001b[0;34m,\u001b[0m \u001b[0my\u001b[0m\u001b[0;34m,\u001b[0m \u001b[0mensure_min_samples\u001b[0m\u001b[0;34m=\u001b[0m\u001b[0;36m2\u001b[0m\u001b[0;34m,\u001b[0m \u001b[0mdtype\u001b[0m\u001b[0;34m=\u001b[0m\u001b[0;34m[\u001b[0m\u001b[0mxp\u001b[0m\u001b[0;34m.\u001b[0m\u001b[0mfloat64\u001b[0m\u001b[0;34m,\u001b[0m \u001b[0mxp\u001b[0m\u001b[0;34m.\u001b[0m\u001b[0mfloat32\u001b[0m\u001b[0;34m]\u001b[0m\u001b[0;34m\u001b[0m\u001b[0;34m\u001b[0m\u001b[0m\n\u001b[1;32m    577\u001b[0m         )\n",
            "\u001b[0;32m/usr/local/lib/python3.10/dist-packages/sklearn/base.py\u001b[0m in \u001b[0;36m_validate_data\u001b[0;34m(self, X, y, reset, validate_separately, **check_params)\u001b[0m\n\u001b[1;32m    582\u001b[0m                 \u001b[0my\u001b[0m \u001b[0;34m=\u001b[0m \u001b[0mcheck_array\u001b[0m\u001b[0;34m(\u001b[0m\u001b[0my\u001b[0m\u001b[0;34m,\u001b[0m \u001b[0minput_name\u001b[0m\u001b[0;34m=\u001b[0m\u001b[0;34m\"y\"\u001b[0m\u001b[0;34m,\u001b[0m \u001b[0;34m**\u001b[0m\u001b[0mcheck_y_params\u001b[0m\u001b[0;34m)\u001b[0m\u001b[0;34m\u001b[0m\u001b[0;34m\u001b[0m\u001b[0m\n\u001b[1;32m    583\u001b[0m             \u001b[0;32melse\u001b[0m\u001b[0;34m:\u001b[0m\u001b[0;34m\u001b[0m\u001b[0;34m\u001b[0m\u001b[0m\n\u001b[0;32m--> 584\u001b[0;31m                 \u001b[0mX\u001b[0m\u001b[0;34m,\u001b[0m \u001b[0my\u001b[0m \u001b[0;34m=\u001b[0m \u001b[0mcheck_X_y\u001b[0m\u001b[0;34m(\u001b[0m\u001b[0mX\u001b[0m\u001b[0;34m,\u001b[0m \u001b[0my\u001b[0m\u001b[0;34m,\u001b[0m \u001b[0;34m**\u001b[0m\u001b[0mcheck_params\u001b[0m\u001b[0;34m)\u001b[0m\u001b[0;34m\u001b[0m\u001b[0;34m\u001b[0m\u001b[0m\n\u001b[0m\u001b[1;32m    585\u001b[0m             \u001b[0mout\u001b[0m \u001b[0;34m=\u001b[0m \u001b[0mX\u001b[0m\u001b[0;34m,\u001b[0m \u001b[0my\u001b[0m\u001b[0;34m\u001b[0m\u001b[0;34m\u001b[0m\u001b[0m\n\u001b[1;32m    586\u001b[0m \u001b[0;34m\u001b[0m\u001b[0m\n",
            "\u001b[0;32m/usr/local/lib/python3.10/dist-packages/sklearn/utils/validation.py\u001b[0m in \u001b[0;36mcheck_X_y\u001b[0;34m(X, y, accept_sparse, accept_large_sparse, dtype, order, copy, force_all_finite, ensure_2d, allow_nd, multi_output, ensure_min_samples, ensure_min_features, y_numeric, estimator)\u001b[0m\n\u001b[1;32m   1104\u001b[0m         )\n\u001b[1;32m   1105\u001b[0m \u001b[0;34m\u001b[0m\u001b[0m\n\u001b[0;32m-> 1106\u001b[0;31m     X = check_array(\n\u001b[0m\u001b[1;32m   1107\u001b[0m         \u001b[0mX\u001b[0m\u001b[0;34m,\u001b[0m\u001b[0;34m\u001b[0m\u001b[0;34m\u001b[0m\u001b[0m\n\u001b[1;32m   1108\u001b[0m         \u001b[0maccept_sparse\u001b[0m\u001b[0;34m=\u001b[0m\u001b[0maccept_sparse\u001b[0m\u001b[0;34m,\u001b[0m\u001b[0;34m\u001b[0m\u001b[0;34m\u001b[0m\u001b[0m\n",
            "\u001b[0;32m/usr/local/lib/python3.10/dist-packages/sklearn/utils/validation.py\u001b[0m in \u001b[0;36mcheck_array\u001b[0;34m(array, accept_sparse, accept_large_sparse, dtype, order, copy, force_all_finite, ensure_2d, allow_nd, ensure_min_samples, ensure_min_features, estimator, input_name)\u001b[0m\n\u001b[1;32m    877\u001b[0m                     \u001b[0marray\u001b[0m \u001b[0;34m=\u001b[0m \u001b[0mxp\u001b[0m\u001b[0;34m.\u001b[0m\u001b[0mastype\u001b[0m\u001b[0;34m(\u001b[0m\u001b[0marray\u001b[0m\u001b[0;34m,\u001b[0m \u001b[0mdtype\u001b[0m\u001b[0;34m,\u001b[0m \u001b[0mcopy\u001b[0m\u001b[0;34m=\u001b[0m\u001b[0;32mFalse\u001b[0m\u001b[0;34m)\u001b[0m\u001b[0;34m\u001b[0m\u001b[0;34m\u001b[0m\u001b[0m\n\u001b[1;32m    878\u001b[0m                 \u001b[0;32melse\u001b[0m\u001b[0;34m:\u001b[0m\u001b[0;34m\u001b[0m\u001b[0;34m\u001b[0m\u001b[0m\n\u001b[0;32m--> 879\u001b[0;31m                     \u001b[0marray\u001b[0m \u001b[0;34m=\u001b[0m \u001b[0m_asarray_with_order\u001b[0m\u001b[0;34m(\u001b[0m\u001b[0marray\u001b[0m\u001b[0;34m,\u001b[0m \u001b[0morder\u001b[0m\u001b[0;34m=\u001b[0m\u001b[0morder\u001b[0m\u001b[0;34m,\u001b[0m \u001b[0mdtype\u001b[0m\u001b[0;34m=\u001b[0m\u001b[0mdtype\u001b[0m\u001b[0;34m,\u001b[0m \u001b[0mxp\u001b[0m\u001b[0;34m=\u001b[0m\u001b[0mxp\u001b[0m\u001b[0;34m)\u001b[0m\u001b[0;34m\u001b[0m\u001b[0;34m\u001b[0m\u001b[0m\n\u001b[0m\u001b[1;32m    880\u001b[0m             \u001b[0;32mexcept\u001b[0m \u001b[0mComplexWarning\u001b[0m \u001b[0;32mas\u001b[0m \u001b[0mcomplex_warning\u001b[0m\u001b[0;34m:\u001b[0m\u001b[0;34m\u001b[0m\u001b[0;34m\u001b[0m\u001b[0m\n\u001b[1;32m    881\u001b[0m                 raise ValueError(\n",
            "\u001b[0;32m/usr/local/lib/python3.10/dist-packages/sklearn/utils/_array_api.py\u001b[0m in \u001b[0;36m_asarray_with_order\u001b[0;34m(array, dtype, order, copy, xp)\u001b[0m\n\u001b[1;32m    183\u001b[0m     \u001b[0;32mif\u001b[0m \u001b[0mxp\u001b[0m\u001b[0;34m.\u001b[0m\u001b[0m__name__\u001b[0m \u001b[0;32min\u001b[0m \u001b[0;34m{\u001b[0m\u001b[0;34m\"numpy\"\u001b[0m\u001b[0;34m,\u001b[0m \u001b[0;34m\"numpy.array_api\"\u001b[0m\u001b[0;34m}\u001b[0m\u001b[0;34m:\u001b[0m\u001b[0;34m\u001b[0m\u001b[0;34m\u001b[0m\u001b[0m\n\u001b[1;32m    184\u001b[0m         \u001b[0;31m# Use NumPy API to support order\u001b[0m\u001b[0;34m\u001b[0m\u001b[0;34m\u001b[0m\u001b[0m\n\u001b[0;32m--> 185\u001b[0;31m         \u001b[0marray\u001b[0m \u001b[0;34m=\u001b[0m \u001b[0mnumpy\u001b[0m\u001b[0;34m.\u001b[0m\u001b[0masarray\u001b[0m\u001b[0;34m(\u001b[0m\u001b[0marray\u001b[0m\u001b[0;34m,\u001b[0m \u001b[0morder\u001b[0m\u001b[0;34m=\u001b[0m\u001b[0morder\u001b[0m\u001b[0;34m,\u001b[0m \u001b[0mdtype\u001b[0m\u001b[0;34m=\u001b[0m\u001b[0mdtype\u001b[0m\u001b[0;34m)\u001b[0m\u001b[0;34m\u001b[0m\u001b[0;34m\u001b[0m\u001b[0m\n\u001b[0m\u001b[1;32m    186\u001b[0m         \u001b[0;32mreturn\u001b[0m \u001b[0mxp\u001b[0m\u001b[0;34m.\u001b[0m\u001b[0masarray\u001b[0m\u001b[0;34m(\u001b[0m\u001b[0marray\u001b[0m\u001b[0;34m,\u001b[0m \u001b[0mcopy\u001b[0m\u001b[0;34m=\u001b[0m\u001b[0mcopy\u001b[0m\u001b[0;34m)\u001b[0m\u001b[0;34m\u001b[0m\u001b[0;34m\u001b[0m\u001b[0m\n\u001b[1;32m    187\u001b[0m     \u001b[0;32melse\u001b[0m\u001b[0;34m:\u001b[0m\u001b[0;34m\u001b[0m\u001b[0;34m\u001b[0m\u001b[0m\n",
            "\u001b[0;32m/usr/local/lib/python3.10/dist-packages/pandas/core/generic.py\u001b[0m in \u001b[0;36m__array__\u001b[0;34m(self, dtype)\u001b[0m\n\u001b[1;32m   2068\u001b[0m \u001b[0;34m\u001b[0m\u001b[0m\n\u001b[1;32m   2069\u001b[0m     \u001b[0;32mdef\u001b[0m \u001b[0m__array__\u001b[0m\u001b[0;34m(\u001b[0m\u001b[0mself\u001b[0m\u001b[0;34m,\u001b[0m \u001b[0mdtype\u001b[0m\u001b[0;34m:\u001b[0m \u001b[0mnpt\u001b[0m\u001b[0;34m.\u001b[0m\u001b[0mDTypeLike\u001b[0m \u001b[0;34m|\u001b[0m \u001b[0;32mNone\u001b[0m \u001b[0;34m=\u001b[0m \u001b[0;32mNone\u001b[0m\u001b[0;34m)\u001b[0m \u001b[0;34m->\u001b[0m \u001b[0mnp\u001b[0m\u001b[0;34m.\u001b[0m\u001b[0mndarray\u001b[0m\u001b[0;34m:\u001b[0m\u001b[0;34m\u001b[0m\u001b[0;34m\u001b[0m\u001b[0m\n\u001b[0;32m-> 2070\u001b[0;31m         \u001b[0;32mreturn\u001b[0m \u001b[0mnp\u001b[0m\u001b[0;34m.\u001b[0m\u001b[0masarray\u001b[0m\u001b[0;34m(\u001b[0m\u001b[0mself\u001b[0m\u001b[0;34m.\u001b[0m\u001b[0m_values\u001b[0m\u001b[0;34m,\u001b[0m \u001b[0mdtype\u001b[0m\u001b[0;34m=\u001b[0m\u001b[0mdtype\u001b[0m\u001b[0;34m)\u001b[0m\u001b[0;34m\u001b[0m\u001b[0;34m\u001b[0m\u001b[0m\n\u001b[0m\u001b[1;32m   2071\u001b[0m \u001b[0;34m\u001b[0m\u001b[0m\n\u001b[1;32m   2072\u001b[0m     def __array_wrap__(\n",
            "\u001b[0;31mValueError\u001b[0m: could not convert string to float: ' Male'"
          ]
        }
      ]
    },
    {
      "cell_type": "markdown",
      "source": [
        " Para transformar esta variable en numérica con algún criterio que no favorezca numéricamente a cualquier variable. Por lo tanto, se agregan lo que se llaman \"variables dummies\".\n",
        "\n",
        " Eso se hace en Python con el comando `get_dummies`:"
      ],
      "metadata": {
        "id": "NzmuLFL3JQ1v"
      }
    },
    {
      "cell_type": "code",
      "source": [
        "X_dum=pd.get_dummies(X,columns=[\"sex\"],drop_first=True)"
      ],
      "metadata": {
        "id": "F0rU_RAAUTbs"
      },
      "execution_count": null,
      "outputs": []
    },
    {
      "cell_type": "code",
      "source": [
        "print(X.head())\n",
        "print(X_dum.head())"
      ],
      "metadata": {
        "id": "KdcdfNGYUrZG",
        "colab": {
          "base_uri": "https://localhost:8080/"
        },
        "outputId": "d625c313-0c1c-47fb-ba35-4946585e6d9d"
      },
      "execution_count": null,
      "outputs": [
        {
          "output_type": "stream",
          "name": "stdout",
          "text": [
            "   age  fnlwgt  education-num  capital-gain  capital-loss  hours-per-week  \\\n",
            "0   39   77516             13          2174             0              40   \n",
            "1   50   83311             13             0             0              13   \n",
            "2   38  215646              9             0             0              40   \n",
            "3   53  234721              7             0             0              40   \n",
            "4   28  338409             13             0             0              40   \n",
            "\n",
            "       sex  \n",
            "0     Male  \n",
            "1     Male  \n",
            "2     Male  \n",
            "3     Male  \n",
            "4   Female  \n",
            "   age  fnlwgt  education-num  capital-gain  capital-loss  hours-per-week  \\\n",
            "0   39   77516             13          2174             0              40   \n",
            "1   50   83311             13             0             0              13   \n",
            "2   38  215646              9             0             0              40   \n",
            "3   53  234721              7             0             0              40   \n",
            "4   28  338409             13             0             0              40   \n",
            "\n",
            "   sex_ Male  \n",
            "0          1  \n",
            "1          1  \n",
            "2          1  \n",
            "3          1  \n",
            "4          0  \n"
          ]
        }
      ]
    },
    {
      "cell_type": "markdown",
      "source": [
        "Como esta variable es binaria, será más importante que nunca estandarizar los datos porque sólo toma dos valores:"
      ],
      "metadata": {
        "id": "cpBwV5glU1oH"
      }
    },
    {
      "cell_type": "code",
      "source": [
        "scaler = StandardScaler()\n",
        "scaler.fit(X_dum)\n",
        "X_dum_sc=scaler.transform(X_dum)"
      ],
      "metadata": {
        "id": "qR4-kBIRVFJt"
      },
      "execution_count": null,
      "outputs": []
    },
    {
      "cell_type": "code",
      "source": [
        "X_dum_sc_train, X_dum_sc_test, y_train, y_test = train_test_split(X_dum_sc, y,test_size=0.2, random_state=42)"
      ],
      "metadata": {
        "id": "RZtvQFjGVZwi"
      },
      "execution_count": null,
      "outputs": []
    },
    {
      "cell_type": "code",
      "source": [
        "# Inicializo el algoritmo\n",
        "LDA_dum_sc = LinearDiscriminantAnalysis()\n",
        "# Se pasa como argumento los datos de entrenamiento y las respuestas correspondientes\n",
        "LDA_dum_sc.fit(X_dum_sc_train,y_train)\n",
        "# Predicciones para la base de entrenamiento\n",
        "LDA_dum_sc_train_pred=LDA_dum_sc.predict(X_dum_sc_train)\n",
        "# Predicciones para la base de testeo\n",
        "LDA_dum_sc_test_pred=LDA_dum_sc.predict(X_dum_sc_test)"
      ],
      "metadata": {
        "id": "nB24aTKMVh4W"
      },
      "execution_count": null,
      "outputs": []
    },
    {
      "cell_type": "code",
      "source": [
        "# Debe estar importada la función \"confusion_matrix\" del paquete \"sklearn.metrics\"\n",
        "print(\"Matriz de confusión Entrenamiento\")\n",
        "print(confusion_matrix(y_train,LDA_train_pred))\n",
        "print(\"Matriz de confusión Entrenamiento (Dummies - Escalado)\")\n",
        "print(confusion_matrix(y_train,LDA_dum_sc_train_pred))\n",
        "print(\"Matriz de confusión Testeo\")\n",
        "print(confusion_matrix(y_test,LDA_test_pred))\n",
        "print(\"Matriz de confusión Testeo (Dummies - Escalado)\")\n",
        "print(confusion_matrix(y_test,LDA_dum_sc_test_pred))"
      ],
      "metadata": {
        "id": "eDi4htaxV4Ek",
        "colab": {
          "base_uri": "https://localhost:8080/"
        },
        "outputId": "91e9ea11-9afe-42eb-eed0-303c7265ea14"
      },
      "execution_count": null,
      "outputs": [
        {
          "output_type": "stream",
          "name": "stdout",
          "text": [
            "Matriz de confusión Entrenamiento\n",
            "[[18856   922]\n",
            " [ 4227  2043]]\n",
            "Matriz de confusión Entrenamiento (Dummies - Escalado)\n",
            "[[18788   990]\n",
            " [ 3936  2334]]\n",
            "Matriz de confusión Testeo\n",
            "[[4705  237]\n",
            " [1044  527]]\n",
            "Matriz de confusión Testeo (Dummies - Escalado)\n",
            "[[4702  240]\n",
            " [ 980  591]]\n"
          ]
        }
      ]
    },
    {
      "cell_type": "code",
      "source": [
        "# Debe estar importada la función \"accuracy_score\" del paquete \"sklearn.metrics\"\n",
        "print(\"Accuracy Entrenamiento\")\n",
        "print(accuracy_score(y_train, LDA_train_pred))\n",
        "print(\"Accuracy Entrenamiento (Dummies - Escalado)\")\n",
        "print(accuracy_score(y_train, LDA_dum_sc_train_pred))\n",
        "print(\"Accuracy Testeo\")\n",
        "print(accuracy_score(y_test, LDA_test_pred))\n",
        "print(\"Accuracy Testeo (Dummies - Escalado)\")\n",
        "print(accuracy_score(y_test, LDA_dum_sc_test_pred))"
      ],
      "metadata": {
        "id": "itREA_JjV-Dq",
        "colab": {
          "base_uri": "https://localhost:8080/"
        },
        "outputId": "ee96eb33-d0ab-4c3f-cbd8-9cf479094d2f"
      },
      "execution_count": null,
      "outputs": [
        {
          "output_type": "stream",
          "name": "stdout",
          "text": [
            "Accuracy Entrenamiento\n",
            "0.8023264742014742\n",
            "Accuracy Entrenamiento (Dummies - Escalado)\n",
            "0.8108875921375921\n",
            "Accuracy Testeo\n",
            "0.8033164440350069\n",
            "Accuracy Testeo (Dummies - Escalado)\n",
            "0.8126823276523876\n"
          ]
        }
      ]
    },
    {
      "cell_type": "code",
      "source": [
        "# Debe estar importada la función \"classification_report\" del paquete \"sklearn.metrics\"\n",
        "print(\"Classification Report Train\")\n",
        "print(classification_report(y_train,LDA_train_pred))\n",
        "print(\"Classification Report Train (Dummies - Escalado)\")\n",
        "print(classification_report(y_train,LDA_dum_sc_train_pred))\n",
        "print(\"Classification Report Test\")\n",
        "print(classification_report(y_test,LDA_test_pred))\n",
        "print(\"Classification Report Test (Dummies - Escalado)\")\n",
        "print(classification_report(y_test,LDA_dum_sc_test_pred))"
      ],
      "metadata": {
        "id": "b4PBbwdGWLNU",
        "colab": {
          "base_uri": "https://localhost:8080/"
        },
        "outputId": "16068a7c-b47f-4ded-c9f0-57c2cd211c21"
      },
      "execution_count": null,
      "outputs": [
        {
          "output_type": "stream",
          "name": "stdout",
          "text": [
            "Classification Report Train\n",
            "              precision    recall  f1-score   support\n",
            "\n",
            "       <=50K       0.82      0.95      0.88     19778\n",
            "        >50K       0.69      0.33      0.44      6270\n",
            "\n",
            "    accuracy                           0.80     26048\n",
            "   macro avg       0.75      0.64      0.66     26048\n",
            "weighted avg       0.79      0.80      0.77     26048\n",
            "\n",
            "Classification Report Train (Dummies - Escalado)\n",
            "              precision    recall  f1-score   support\n",
            "\n",
            "       <=50K       0.83      0.95      0.88     19778\n",
            "        >50K       0.70      0.37      0.49      6270\n",
            "\n",
            "    accuracy                           0.81     26048\n",
            "   macro avg       0.76      0.66      0.69     26048\n",
            "weighted avg       0.80      0.81      0.79     26048\n",
            "\n",
            "Classification Report Test\n",
            "              precision    recall  f1-score   support\n",
            "\n",
            "       <=50K       0.82      0.95      0.88      4942\n",
            "        >50K       0.69      0.34      0.45      1571\n",
            "\n",
            "    accuracy                           0.80      6513\n",
            "   macro avg       0.75      0.64      0.67      6513\n",
            "weighted avg       0.79      0.80      0.78      6513\n",
            "\n",
            "Classification Report Test (Dummies - Escalado)\n",
            "              precision    recall  f1-score   support\n",
            "\n",
            "       <=50K       0.83      0.95      0.89      4942\n",
            "        >50K       0.71      0.38      0.49      1571\n",
            "\n",
            "    accuracy                           0.81      6513\n",
            "   macro avg       0.77      0.66      0.69      6513\n",
            "weighted avg       0.80      0.81      0.79      6513\n",
            "\n"
          ]
        }
      ]
    },
    {
      "cell_type": "code",
      "source": [
        "# Debe estar importada la función \"QuadraticDiscriminantAnalysis\" del paquete \"sklearn.discriminant_analysis\"\n",
        "QDA_dum_sc = QuadraticDiscriminantAnalysis()\n",
        "QDA_dum_sc.fit(X_sc_train,y_train)\n",
        "QDA_dum_sc_train_pred=QDA_dum_sc.predict(X_sc_train)\n",
        "QDA_dum_sc_test_pred=QDA_dum_sc.predict(X_sc_test)"
      ],
      "metadata": {
        "id": "YpnqSP0-WQMI"
      },
      "execution_count": null,
      "outputs": []
    },
    {
      "cell_type": "code",
      "source": [
        "# Debe estar importada la función \"confusion_matrix\" del paquete \"sklearn.metrics\"\n",
        "print(\"Matriz de confusión Entrenamiento\")\n",
        "print(confusion_matrix(y_train,QDA_train_pred))\n",
        "print(\"Matriz de confusión Entrenamiento (Dummies - Escalado)\")\n",
        "print(confusion_matrix(y_train,QDA_dum_sc_train_pred))\n",
        "print(\"Matriz de confusión Testeo\")\n",
        "print(confusion_matrix(y_test,QDA_test_pred))\n",
        "print(\"Matriz de confusión Testeo (Dummies - Escalado)\")\n",
        "print(confusion_matrix(y_test,QDA_dum_sc_test_pred))"
      ],
      "metadata": {
        "id": "7nALgYAbWcU7",
        "colab": {
          "base_uri": "https://localhost:8080/"
        },
        "outputId": "6627c04d-5b43-4056-bb5b-82fb1b78d87c"
      },
      "execution_count": null,
      "outputs": [
        {
          "output_type": "stream",
          "name": "stdout",
          "text": [
            "Matriz de confusión Entrenamiento\n",
            "[[18806   972]\n",
            " [ 4344  1926]]\n",
            "Matriz de confusión Entrenamiento (Dummies - Escalado)\n",
            "[[18806   972]\n",
            " [ 4344  1926]]\n",
            "Matriz de confusión Testeo\n",
            "[[4709  233]\n",
            " [1070  501]]\n",
            "Matriz de confusión Testeo (Dummies - Escalado)\n",
            "[[4709  233]\n",
            " [1070  501]]\n"
          ]
        }
      ]
    },
    {
      "cell_type": "code",
      "source": [
        "# Debe estar importada la función \"accuracy_score\" del paquete \"sklearn.metrics\"\n",
        "print(\"Accuracy Entrenamiento\")\n",
        "print(accuracy_score(y_train, QDA_train_pred))\n",
        "print(\"Accuracy Entrenamiento (Dummies - Escalado)\")\n",
        "print(accuracy_score(y_train, QDA_dum_sc_train_pred))\n",
        "print(\"Accuracy Testeo\")\n",
        "print(accuracy_score(y_test, QDA_test_pred))\n",
        "print(\"Accuracy Testeo (Dummies - Escalado)\")\n",
        "print(accuracy_score(y_test, QDA_dum_sc_test_pred))"
      ],
      "metadata": {
        "id": "9ML3u4lPWfSU",
        "colab": {
          "base_uri": "https://localhost:8080/"
        },
        "outputId": "a3498fb3-875a-4dbe-b4fc-bf34ec3ec9c8"
      },
      "execution_count": null,
      "outputs": [
        {
          "output_type": "stream",
          "name": "stdout",
          "text": [
            "Accuracy Entrenamiento\n",
            "0.7959152334152334\n",
            "Accuracy Entrenamiento (Dummies - Escalado)\n",
            "0.7959152334152334\n",
            "Accuracy Testeo\n",
            "0.7999385843697221\n",
            "Accuracy Testeo (Dummies - Escalado)\n",
            "0.7999385843697221\n"
          ]
        }
      ]
    },
    {
      "cell_type": "code",
      "source": [
        "# Debe estar importada la función \"classification_report\" del paquete \"sklearn.metrics\"\n",
        "print(\"Classification Report Train\")\n",
        "print(classification_report(y_train,QDA_train_pred))\n",
        "print(\"Classification Report Train (Dummies - Escalado)\")\n",
        "print(classification_report(y_train,QDA_dum_sc_train_pred))\n",
        "print(\"Classification Report Test\")\n",
        "print(classification_report(y_test,QDA_test_pred))\n",
        "print(\"Classification Report Test (Dummies - Escalado)\")\n",
        "print(classification_report(y_test,QDA_dum_sc_test_pred))"
      ],
      "metadata": {
        "id": "Fim4yWS5Wiar"
      },
      "execution_count": null,
      "outputs": []
    },
    {
      "cell_type": "markdown",
      "source": [
        "# Ejercicios\n",
        "\n",
        "\n",
        "\n",
        "## Base de UCI\n",
        "\n",
        "Acceder a la página [Heart Disease Data](https://archive.ics.uci.edu/dataset/45/heart+disease).\n",
        "\n",
        "### Carga de base"
      ],
      "metadata": {
        "id": "_mqXlk_4zmV8"
      }
    },
    {
      "cell_type": "code",
      "source": [
        "!pip install wget\n",
        "import wget"
      ],
      "metadata": {
        "id": "DW8sm4Nyz2jL"
      },
      "execution_count": null,
      "outputs": []
    },
    {
      "cell_type": "markdown",
      "source": [
        "Buscar el link de descarga y rellenar el siguiente espacio con el link (debe estar entre comillas):"
      ],
      "metadata": {
        "id": "H2zRjeDqz2Bg"
      }
    },
    {
      "cell_type": "code",
      "source": [
        "# Buscar el enlace que permite descargar el archivo \".zip\"\n",
        "url=________________________________________________"
      ],
      "metadata": {
        "id": "HC6rqDO70X9B"
      },
      "execution_count": null,
      "outputs": []
    },
    {
      "cell_type": "code",
      "source": [
        "# Debe estar importado el paquete \"wget\"\n",
        "wget.download(url, \"archivo.zip\")"
      ],
      "metadata": {
        "id": "QoCgmrIX0f-a"
      },
      "execution_count": null,
      "outputs": []
    },
    {
      "cell_type": "code",
      "source": [
        "# Debe estar importados los paquete \"os\" y \"zipfile\"\n",
        "os.listdir()\n",
        "\n",
        "for file in os.listdir():\n",
        "    if file.endswith('.zip'):\n",
        "      zip_ref = zipfile.ZipFile(file, 'r')\n",
        "      zip_ref.extractall()\n",
        "      zip_ref.close()"
      ],
      "metadata": {
        "id": "ncp_Jojk0hzy"
      },
      "execution_count": null,
      "outputs": []
    },
    {
      "cell_type": "markdown",
      "source": [
        "Examinar los archivos cargados seleccionando el ícono representando una carpeta que aparece a la izquierda. Una vez identificada la base, acceder a las opciones con los tres puntos que aparecen a su derecha seleccionar \"copiar ruta de archivo\" o \"copy path\". Pegar con \"Ctrl+v\" esa ruta en la variable \"path\"\n"
      ],
      "metadata": {
        "id": "35d6NihW0crc"
      }
    },
    {
      "cell_type": "code",
      "source": [
        "# Debe estar importado el paquete \"pandas\"\n",
        "path=____________________\n",
        "df=pd.read_csv(path)"
      ],
      "metadata": {
        "id": "q9syNNRt01ji"
      },
      "execution_count": null,
      "outputs": []
    },
    {
      "cell_type": "markdown",
      "source": [
        "### Inspección y procesamiento de base\n",
        "\n",
        "Inspeccionar la base con los comandos `.head`,`.info`,`.value_counts` y `.describe`."
      ],
      "metadata": {
        "id": "kjN3kRvl0uwJ"
      }
    },
    {
      "cell_type": "code",
      "source": [
        "#Head\n",
        "___________________"
      ],
      "metadata": {
        "id": "6SRRXZV_1E_k"
      },
      "execution_count": null,
      "outputs": []
    },
    {
      "cell_type": "code",
      "source": [
        "# Info\n",
        "___________________"
      ],
      "metadata": {
        "id": "a1j9Kyob1MoS"
      },
      "execution_count": null,
      "outputs": []
    },
    {
      "cell_type": "code",
      "source": [
        "# Value_counts\n",
        "___________________"
      ],
      "metadata": {
        "id": "v2tf1rup1Mem"
      },
      "execution_count": null,
      "outputs": []
    },
    {
      "cell_type": "code",
      "source": [
        "# Describe\n",
        "___________________"
      ],
      "metadata": {
        "id": "K0dSMPjI1L2C"
      },
      "execution_count": null,
      "outputs": []
    },
    {
      "cell_type": "markdown",
      "source": [
        "### Selección de variables de respuesta y covariables\n",
        "\n",
        "Seleccionar las variables numéricas de la base como covariables y la última variable como respuesta:"
      ],
      "metadata": {
        "id": "1Z1v1gi2kxbJ"
      }
    },
    {
      "cell_type": "code",
      "source": [
        "# Elijo las covariables (para LDA y QDA deben ser numéricas)\n",
        "covs=[_______________________________]\n",
        "X=df[covs].copy()\n",
        "# Respuestas\n",
        "y=df[______].copy()"
      ],
      "metadata": {
        "id": "OR1xEOK1ls54"
      },
      "execution_count": null,
      "outputs": []
    },
    {
      "cell_type": "markdown",
      "source": [
        "### Partición en entrenamiento y testeo"
      ],
      "metadata": {
        "id": "fEjWxZsQnPQt"
      }
    },
    {
      "cell_type": "code",
      "source": [
        "# Debe estar importada la función \"train_test_split\" del paquete \"sklearn.metrics\"\n",
        "X_train, X_test, y_train, y_test = train_test_split(X, y,test_size=0.2, random_state=42)"
      ],
      "metadata": {
        "id": "Q9WNTgSFnPnT"
      },
      "execution_count": null,
      "outputs": []
    },
    {
      "cell_type": "markdown",
      "source": [
        "### LDA\n",
        "\n",
        "#### Inicialización"
      ],
      "metadata": {
        "id": "8e7YzW9nmYdt"
      }
    },
    {
      "cell_type": "code",
      "source": [
        "# Inicializo el algoritmo\n",
        "LDA = LinearDiscriminantAnalysis()\n",
        "# Se pasa como argumento los datos de entrenamiento y las respuestas correspondientes\n",
        "LDA.fit(X_train,y_train)"
      ],
      "metadata": {
        "id": "MOWsIjtgmHCu"
      },
      "execution_count": null,
      "outputs": []
    },
    {
      "cell_type": "markdown",
      "source": [
        "#### Predicciones"
      ],
      "metadata": {
        "id": "2q2UtOQ5mwuU"
      }
    },
    {
      "cell_type": "code",
      "source": [
        "# Predicciones para la base de entrenamiento\n",
        "LDA_train_pred=LDA.predict(X_train)\n",
        "# Predicciones para la base de testeo\n",
        "LDA_test_pred=LDA.predict(X_test)"
      ],
      "metadata": {
        "id": "6q_K_3u8mv2A"
      },
      "execution_count": null,
      "outputs": []
    },
    {
      "cell_type": "markdown",
      "source": [
        "#### Evaluación\n",
        "\n",
        "\n",
        "##### Matriz de confusión"
      ],
      "metadata": {
        "id": "efkJdsI7mk9Z"
      }
    },
    {
      "cell_type": "code",
      "source": [
        "print(\"Matriz de confusión Train\")\n",
        "print(confusion_matrix(y_train,LDA_train_pred))\n",
        "print(\"Matriz de confusión Test\")\n",
        "print(confusion_matrix(y_test,LDA_test_pred))"
      ],
      "metadata": {
        "id": "ueDIgZvhmT96"
      },
      "execution_count": null,
      "outputs": []
    },
    {
      "cell_type": "markdown",
      "source": [
        "##### Accuracy"
      ],
      "metadata": {
        "id": "C-2fW9PQn6XM"
      }
    },
    {
      "cell_type": "code",
      "source": [
        "print(\"Accuracy Entrenamiento\")\n",
        "print(accuracy_score(y_train, LDA_train_pred))\n",
        "print(\"Accuracy Testeo\")\n",
        "print(accuracy_score(y_test, LDA_test_pred))"
      ],
      "metadata": {
        "id": "i1QKXykTnrcl"
      },
      "execution_count": null,
      "outputs": []
    },
    {
      "cell_type": "markdown",
      "source": [
        "##### Classification Report"
      ],
      "metadata": {
        "id": "e3BfMctin7Gt"
      }
    },
    {
      "cell_type": "code",
      "source": [
        "print(\"Classification Report Train\")\n",
        "print(classification_report(y_train,LDA_train_pred))\n",
        "print(\"Classification Report Test\")\n",
        "print(classification_report(y_test,LDA_test_pred))"
      ],
      "metadata": {
        "id": "QHq31k0qn7d8"
      },
      "execution_count": null,
      "outputs": []
    },
    {
      "cell_type": "markdown",
      "source": [
        "### QDA\n",
        "\n",
        "#### Inicialización"
      ],
      "metadata": {
        "id": "bb8U7V0UoNWl"
      }
    },
    {
      "cell_type": "code",
      "source": [
        "QDA = QuadraticDiscriminantAnalysis()\n",
        "QDA.fit(X_train,y_train)"
      ],
      "metadata": {
        "id": "3I9scHOCojlr"
      },
      "execution_count": null,
      "outputs": []
    },
    {
      "cell_type": "markdown",
      "source": [
        "#### Predicciones"
      ],
      "metadata": {
        "id": "KMdCLzJUomaB"
      }
    },
    {
      "cell_type": "code",
      "source": [
        "QDA_train_pred=QDA.predict(X_train)\n",
        "QDA_test_pred=QDA.predict(X_test)"
      ],
      "metadata": {
        "id": "rv5oyTVfol-3"
      },
      "execution_count": null,
      "outputs": []
    },
    {
      "cell_type": "markdown",
      "source": [
        "#### Evaluación\n",
        "\n",
        "\n",
        "##### Matriz de confusión"
      ],
      "metadata": {
        "id": "L76JyVrpoyj3"
      }
    },
    {
      "cell_type": "code",
      "source": [
        "print(\"Matriz de confusión Train\")\n",
        "print(confusion_matrix(y_train,QDA_train_pred))\n",
        "print(\"Matriz de confusión Test\")\n",
        "print(confusion_matrix(y_train,QDA_train_pred))"
      ],
      "metadata": {
        "id": "EJuXRotFpCMH"
      },
      "execution_count": null,
      "outputs": []
    },
    {
      "cell_type": "markdown",
      "source": [
        "##### Accuracy"
      ],
      "metadata": {
        "id": "7XwZUaEvpIVW"
      }
    },
    {
      "cell_type": "code",
      "source": [
        "print(\"Accuracy Entrenamiento\")\n",
        "print(accuracy_score(y_train, QDA_train_pred))\n",
        "print(\"Accuracy Testeo\")\n",
        "print(accuracy_score(y_test, QDA_test_pred))"
      ],
      "metadata": {
        "id": "-x4TBWx5pIpD"
      },
      "execution_count": null,
      "outputs": []
    },
    {
      "cell_type": "markdown",
      "source": [
        "###### Classification Report"
      ],
      "metadata": {
        "id": "91j3f7RQpNum"
      }
    },
    {
      "cell_type": "code",
      "source": [
        "print(\"Classification Report Entrenamiento\")\n",
        "print(classification_report(y_train,QDA_train_pred))\n",
        "print(\"Classification Report Testeo\")\n",
        "print(classification_report(y_test,QDA_test_pred))"
      ],
      "metadata": {
        "id": "T0rgKAPSpQ28"
      },
      "execution_count": null,
      "outputs": []
    },
    {
      "cell_type": "markdown",
      "source": [
        "### Datos Estandarizados\n",
        "\n",
        "Repetir las consignas para los datos estandarizados"
      ],
      "metadata": {
        "id": "v8Br5_3RpnzF"
      }
    },
    {
      "cell_type": "code",
      "source": [
        "scaler = StandardScaler()\n",
        "scaler.fit(X)\n",
        "X_sc=scaler.transform(X)"
      ],
      "metadata": {
        "id": "MaIcF6Bvp4WL"
      },
      "execution_count": null,
      "outputs": []
    },
    {
      "cell_type": "markdown",
      "source": [
        "#### Partición en Entrenamiento y Testeo"
      ],
      "metadata": {
        "id": "hEWtEVtTqQ6D"
      }
    },
    {
      "cell_type": "code",
      "source": [
        "X_sc_train, X_sc_test, y_train, y_test = train_test_split(X_sc, y,test_size=0.2, random_state=42)"
      ],
      "metadata": {
        "id": "nfvqIo3HqE35"
      },
      "execution_count": null,
      "outputs": []
    },
    {
      "cell_type": "markdown",
      "source": [
        "### LDA\n",
        "\n",
        "#### Inicialización"
      ],
      "metadata": {
        "id": "Mbp76_S5qk69"
      }
    },
    {
      "cell_type": "code",
      "source": [
        "# Inicializo el algoritmo\n",
        "LDA_sc = LinearDiscriminantAnalysis()\n",
        "# Se pasa como argumento los datos de entrenamiento y las respuestas correspondientes\n",
        "LDA_sc.fit(X_sc_train,y_train)"
      ],
      "metadata": {
        "id": "Z5aZffT8qrdo"
      },
      "execution_count": null,
      "outputs": []
    },
    {
      "cell_type": "markdown",
      "source": [
        "#### Predicciones"
      ],
      "metadata": {
        "id": "s1_emOR_qynZ"
      }
    },
    {
      "cell_type": "code",
      "source": [
        "# Predicciones para la base de entrenamiento\n",
        "LDA_sc_train_pred=LDA_sc.predict(X_sc_train)\n",
        "# Predicciones para la base de testeo\n",
        "LDA_sc_test_pred=LDA_sc.predict(X_sc_test)"
      ],
      "metadata": {
        "id": "ddHmPhzBqz4G"
      },
      "execution_count": null,
      "outputs": []
    },
    {
      "cell_type": "markdown",
      "source": [
        "#### Evaluación\n",
        "\n",
        "\n",
        "##### Matriz de confusión"
      ],
      "metadata": {
        "id": "zx-CMks2qzJJ"
      }
    },
    {
      "cell_type": "code",
      "source": [
        "print(\"Matriz de confusión Entrenamiento (Escalado)\")\n",
        "print(confusion_matrix(y_train,LDA_sc_train_pred))\n",
        "print(\"Matriz de confusión Testeo (Escalado)\")\n",
        "print(confusion_matrix(y_test,LDA_sc_test_pred))"
      ],
      "metadata": {
        "id": "J9Ru3ejorI3y"
      },
      "execution_count": null,
      "outputs": []
    },
    {
      "cell_type": "markdown",
      "source": [
        "##### Accuracy"
      ],
      "metadata": {
        "id": "kzyjZVkOraxb"
      }
    },
    {
      "cell_type": "code",
      "source": [
        "print(\"Accuracy Entrenamiento (Escalado)\")\n",
        "print(accuracy_score(y_train, LDA_sc_train_pred))\n",
        "print(\"Accuracy Testeo (Escalado)\")\n",
        "print(accuracy_score(y_test, LDA_sc_test_pred))"
      ],
      "metadata": {
        "id": "cvAvwUZJrZ9b"
      },
      "execution_count": null,
      "outputs": []
    },
    {
      "cell_type": "markdown",
      "source": [
        "##### Classification Report"
      ],
      "metadata": {
        "id": "YYafo27GrjhL"
      }
    },
    {
      "cell_type": "code",
      "source": [
        "print(\"Classification Report Train (Escalado)\")\n",
        "print(classification_report(y_train,LDA_sc_train_pred))\n",
        "print(\"Classification Report Test (Escalado)\")\n",
        "print(classification_report(y_test,LDA_sc_test_pred))"
      ],
      "metadata": {
        "id": "JeqZf4U1rrkD"
      },
      "execution_count": null,
      "outputs": []
    },
    {
      "cell_type": "markdown",
      "source": [
        "### QDA\n",
        "\n",
        "#### Inicialización"
      ],
      "metadata": {
        "id": "dG2rWvjBrymU"
      }
    },
    {
      "cell_type": "code",
      "source": [
        "QDA_sc = QuadraticDiscriminantAnalysis()\n",
        "QDA_sc.fit(X_sc_train,y_train)"
      ],
      "metadata": {
        "id": "KF8hoF7gr17P"
      },
      "execution_count": null,
      "outputs": []
    },
    {
      "cell_type": "markdown",
      "source": [
        "#### Predicciones"
      ],
      "metadata": {
        "id": "KXeEW_5gr9n7"
      }
    },
    {
      "cell_type": "code",
      "source": [
        "QDA_sc_train_pred=QDA_sc.predict(X_sc_train)\n",
        "QDA_sc_test_pred=QDA_sc.predict(X_sc_test)"
      ],
      "metadata": {
        "id": "5SSlCydSr_61"
      },
      "execution_count": null,
      "outputs": []
    },
    {
      "cell_type": "markdown",
      "source": [
        "#### Evaluación\n",
        "\n",
        "\n",
        "##### Matriz de confusión"
      ],
      "metadata": {
        "id": "Vg34467VsLeN"
      }
    },
    {
      "cell_type": "code",
      "source": [
        "print(\"Matriz de confusión Entrenamiento (Escalado)\")\n",
        "print(confusion_matrix(y_train,QDA_sc_train_pred))\n",
        "print(\"Matriz de confusión Testeo (Escalado)\")\n",
        "print(confusion_matrix(y_test,QDA_sc_test_pred))"
      ],
      "metadata": {
        "id": "2bk26R5fsV7o"
      },
      "execution_count": null,
      "outputs": []
    },
    {
      "cell_type": "markdown",
      "source": [
        "##### Accuracy"
      ],
      "metadata": {
        "id": "nzv6XOzmscCP"
      }
    },
    {
      "cell_type": "code",
      "source": [
        "print(\"Accuracy Entrenamiento (Escalado)\")\n",
        "print(accuracy_score(y_train, QDA_sc_train_pred))\n",
        "print(\"Accuracy Testeo (Escalado)\")\n",
        "print(accuracy_score(y_test, QDA_sc_test_pred))"
      ],
      "metadata": {
        "id": "tmSXnnZ7seN0"
      },
      "execution_count": null,
      "outputs": []
    },
    {
      "cell_type": "markdown",
      "source": [
        "##### Classification Report"
      ],
      "metadata": {
        "id": "rP_w56DKsjPe"
      }
    },
    {
      "cell_type": "code",
      "source": [
        "print(\"Classification Report Train (Escalado)\")\n",
        "print(classification_report(y_train,QDA_sc_train_pred))\n",
        "print(\"Classification Report Test (Escalado)\")\n",
        "print(classification_report(y_test,QDA_sc_test_pred))"
      ],
      "metadata": {
        "id": "oH2zP0xvsk3q"
      },
      "execution_count": null,
      "outputs": []
    },
    {
      "cell_type": "markdown",
      "source": [
        "## Base de Kaggle\n",
        "\n",
        "Acceder al siguiente link [Salary Data](https://www.kaggle.com/datasets/mohithsairamreddy/salary-data) para acceder a la base de salarios."
      ],
      "metadata": {
        "id": "R2zf5ABY1f66"
      }
    },
    {
      "cell_type": "code",
      "source": [
        "!mkdir ~/.kaggle\n",
        "!touch ~/.kaggle/kaggle.json\n",
        "\n",
        "drive.mount('/content/drive', force_remount=True)\n",
        "with open(\"/content/drive/My Drive/kaggle.json\", 'r') as f:\n",
        "    api_token= json.load(f)\n",
        "\n",
        "with open('/root/.kaggle/kaggle.json', 'w') as file:\n",
        "    json.dump(api_token, file)\n",
        "\n",
        "!chmod 600 ~/.kaggle/kaggle.json"
      ],
      "metadata": {
        "id": "u5ufxeEd2LRs"
      },
      "execution_count": null,
      "outputs": []
    },
    {
      "cell_type": "code",
      "source": [
        "# En el link aportado, copiar y pegar todo lo que le sigue a \"/datasets/\"\n",
        "!kaggle datasets download -d ___________"
      ],
      "metadata": {
        "id": "o_7wCwlo2Q2z"
      },
      "execution_count": null,
      "outputs": []
    },
    {
      "cell_type": "code",
      "source": [
        "import zipfile\n",
        "import os\n",
        "\n",
        "os.listdir()\n",
        "\n",
        "for file in os.listdir():\n",
        "    if file.endswith('.zip'):\n",
        "      zip_ref = zipfile.ZipFile(file, 'r')\n",
        "      zip_ref.extractall()\n",
        "      zip_ref.close()"
      ],
      "metadata": {
        "id": "IXpnKEfu2S34"
      },
      "execution_count": null,
      "outputs": []
    },
    {
      "cell_type": "code",
      "source": [
        "# Examinar los archivos cargados seleccionando el ícono representando una carpeta que aparece a la izquierda\n",
        "# Una vez identificada la base, acceder a las opciones con los tres puntos que aparecen a su derecha\n",
        "# seleccionar \"copiar ruta de archivo\" o \"copy path\". Pegar con \"Ctrl+v\" esa ruta en la variable \"path\"\n",
        "path=____________\n",
        "df=pd.read_csv(path)"
      ],
      "metadata": {
        "id": "YCPQ8WVP2VU9"
      },
      "execution_count": null,
      "outputs": []
    },
    {
      "cell_type": "markdown",
      "source": [
        "Inspeccionar la base con los comandos `.head`,`.info`,`.value_counts` y `.describe`."
      ],
      "metadata": {
        "id": "1ekOynuO2NQl"
      }
    },
    {
      "cell_type": "code",
      "source": [
        "#Head\n",
        "___________________"
      ],
      "metadata": {
        "id": "jEHp_Qrh2gYq"
      },
      "execution_count": null,
      "outputs": []
    },
    {
      "cell_type": "code",
      "source": [
        "# Info\n",
        "___________________"
      ],
      "metadata": {
        "id": "P0DtnjEEazPX"
      },
      "execution_count": null,
      "outputs": []
    },
    {
      "cell_type": "code",
      "source": [
        "# Value_counts\n",
        "___________________"
      ],
      "metadata": {
        "id": "mbsgc6nna1d3"
      },
      "execution_count": null,
      "outputs": []
    },
    {
      "cell_type": "code",
      "source": [
        "# Describe\n",
        "___________________"
      ],
      "metadata": {
        "id": "5fA0ioura9Kc"
      },
      "execution_count": null,
      "outputs": []
    },
    {
      "cell_type": "markdown",
      "source": [
        "### Procesamiento\n",
        "\n",
        "Notar que la variable \"Education_Level\" separa valores que en realidad, corresponden a la misma categoría."
      ],
      "metadata": {
        "id": "opkE5z0Svnj4"
      }
    },
    {
      "cell_type": "code",
      "source": [
        "df[\"Education Level\"].value_counts()"
      ],
      "metadata": {
        "id": "XS7QcWoDvxhV"
      },
      "execution_count": null,
      "outputs": []
    },
    {
      "cell_type": "markdown",
      "source": [
        "Para unificar estos valores, la recatogrizamos creando una nueva variable denominada `Education New`:"
      ],
      "metadata": {
        "id": "MH-qkaqwv4AI"
      }
    },
    {
      "cell_type": "code",
      "source": [
        "df[\"Education New\"]=df[\"Education Level\"].copy()"
      ],
      "metadata": {
        "id": "tT1PZdtjv969"
      },
      "execution_count": null,
      "outputs": []
    },
    {
      "cell_type": "code",
      "source": [
        "df[\"Education New\"].loc[df[\"Education Level\"].str.contains(\"Bach\")==True]=\"Bachelor's\"\n",
        "df[\"Education New\"].loc[df[\"Education Level\"].str.contains(\"Mast\")==True]=\"Master's\"\n",
        "df[\"Education New\"].loc[df[\"Education Level\"].str.contains(\"hD\")==True]=\"PhD\""
      ],
      "metadata": {
        "id": "69EfWg21v_5u"
      },
      "execution_count": null,
      "outputs": []
    },
    {
      "cell_type": "markdown",
      "source": [
        "Verificamos que con estos cambios, las categorías quedaron unificadas"
      ],
      "metadata": {
        "id": "c61Th38zwDhj"
      }
    },
    {
      "cell_type": "code",
      "source": [
        "df[\"Education New\"].value_counts()"
      ],
      "metadata": {
        "id": "Bzh_eEC-wGP4"
      },
      "execution_count": null,
      "outputs": []
    },
    {
      "cell_type": "markdown",
      "source": [
        "### Selección de variables de respuesta y covariables\n",
        "\n",
        "Seleccionar las variables numéricas de la base como covariables y la variable `Gender` como respuesta:"
      ],
      "metadata": {
        "id": "ELWUqLDIs5Ex"
      }
    },
    {
      "cell_type": "code",
      "source": [
        "# Elijo las covariables (para LDA y QDA deben ser numéricas)\n",
        "covs=[_______________________________]\n",
        "X=df[covs].copy()\n",
        "# Respuestas\n",
        "y=df[______].copy()"
      ],
      "metadata": {
        "id": "L4IK1PaMs8zo"
      },
      "execution_count": null,
      "outputs": []
    },
    {
      "cell_type": "markdown",
      "source": [
        "### Partición en entrenamiento y testeo"
      ],
      "metadata": {
        "id": "3YBWz1F9tEE8"
      }
    },
    {
      "cell_type": "code",
      "source": [
        "X_train, X_test, y_train, y_test = train_test_split(X, y,test_size=0.2, random_state=42)"
      ],
      "metadata": {
        "id": "_lmIAS-PtJuF"
      },
      "execution_count": null,
      "outputs": []
    },
    {
      "cell_type": "markdown",
      "source": [
        "### LDA\n",
        "\n",
        "#### Inicialización"
      ],
      "metadata": {
        "id": "o0Z9jPOctPan"
      }
    },
    {
      "cell_type": "code",
      "source": [
        "# Inicializo el algoritmo\n",
        "LDA = LinearDiscriminantAnalysis()\n",
        "# Se pasa como argumento los datos de entrenamiento y las respuestas correspondientes\n",
        "LDA.fit(X_train,y_train)"
      ],
      "metadata": {
        "id": "HF2wR969tTKu"
      },
      "execution_count": null,
      "outputs": []
    },
    {
      "cell_type": "markdown",
      "source": [
        "#### Predicciones"
      ],
      "metadata": {
        "id": "FUeoFTRXtWcs"
      }
    },
    {
      "cell_type": "code",
      "source": [
        "# Predicciones para la base de entrenamiento\n",
        "LDA_train_pred=LDA.predict(X_train)\n",
        "# Predicciones para la base de testeo\n",
        "LDA_test_pred=LDA.predict(X_test)"
      ],
      "metadata": {
        "id": "spFNKDWItaVm"
      },
      "execution_count": null,
      "outputs": []
    },
    {
      "cell_type": "markdown",
      "source": [
        "#### Evaluación\n",
        "\n",
        "\n",
        "##### Matriz de confusión"
      ],
      "metadata": {
        "id": "5SH8pxb8tddQ"
      }
    },
    {
      "cell_type": "code",
      "source": [
        "print(\"Matriz de confusión Train\")\n",
        "print(confusion_matrix(y_train,LDA_train_pred))\n",
        "print(\"Matriz de confusión Test\")\n",
        "print(confusion_matrix(y_test,LDA_test_pred))"
      ],
      "metadata": {
        "id": "5tybdpghtjBw"
      },
      "execution_count": null,
      "outputs": []
    },
    {
      "cell_type": "markdown",
      "source": [
        "##### Accuracy"
      ],
      "metadata": {
        "id": "Fr67koVItnsW"
      }
    },
    {
      "cell_type": "code",
      "source": [
        "print(\"Accuracy Entrenamiento\")\n",
        "print(accuracy_score(y_train, LDA_train_pred))\n",
        "print(\"Accuracy Testeo\")\n",
        "print(accuracy_score(y_test, LDA_test_pred))"
      ],
      "metadata": {
        "id": "bg6IeHuHtufe"
      },
      "execution_count": null,
      "outputs": []
    },
    {
      "cell_type": "markdown",
      "source": [
        "##### Classification Report"
      ],
      "metadata": {
        "id": "oEsTlLU6tysu"
      }
    },
    {
      "cell_type": "code",
      "source": [
        "print(\"Classification Report Train\")\n",
        "print(classification_report(y_train,LDA_train_pred))\n",
        "print(\"Classification Report Test\")\n",
        "print(classification_report(y_test,LDA_test_pred))"
      ],
      "metadata": {
        "id": "EV8K6BYJt2Lq"
      },
      "execution_count": null,
      "outputs": []
    },
    {
      "cell_type": "markdown",
      "source": [
        "### QDA\n",
        "\n",
        "#### Inicialización"
      ],
      "metadata": {
        "id": "uwL3mc9ut6gf"
      }
    },
    {
      "cell_type": "code",
      "source": [
        "QDA = QuadraticDiscriminantAnalysis()\n",
        "QDA.fit(X_train,y_train)"
      ],
      "metadata": {
        "id": "MScovT1ct-SY"
      },
      "execution_count": null,
      "outputs": []
    },
    {
      "cell_type": "markdown",
      "source": [
        "#### Predicciones"
      ],
      "metadata": {
        "id": "kSxFFaxeuDId"
      }
    },
    {
      "cell_type": "code",
      "source": [
        "QDA_train_pred=QDA.predict(X_train)\n",
        "QDA_test_pred=QDA.predict(X_test)"
      ],
      "metadata": {
        "id": "TXJ7dI6BuGNt"
      },
      "execution_count": null,
      "outputs": []
    },
    {
      "cell_type": "markdown",
      "source": [
        "#### Evaluación\n",
        "\n",
        "\n",
        "##### Matriz de confusión"
      ],
      "metadata": {
        "id": "Pz0QGAn2uJCF"
      }
    },
    {
      "cell_type": "code",
      "source": [
        "print(\"Matriz de confusión Train\")\n",
        "print(confusion_matrix(y_train,QDA_train_pred))\n",
        "print(\"Matriz de confusión Test\")\n",
        "print(confusion_matrix(y_train,QDA_train_pred))"
      ],
      "metadata": {
        "id": "mReI1GYNuNut"
      },
      "execution_count": null,
      "outputs": []
    },
    {
      "cell_type": "markdown",
      "source": [
        "##### Accuracy"
      ],
      "metadata": {
        "id": "4CusHSUWuMyf"
      }
    },
    {
      "cell_type": "code",
      "source": [
        "print(\"Accuracy Entrenamiento\")\n",
        "print(accuracy_score(y_train, QDA_train_pred))\n",
        "print(\"Accuracy Testeo\")\n",
        "print(accuracy_score(y_test, QDA_test_pred))"
      ],
      "metadata": {
        "id": "8aLgDvySuWhf"
      },
      "execution_count": null,
      "outputs": []
    },
    {
      "cell_type": "markdown",
      "source": [
        "###### Classification Report"
      ],
      "metadata": {
        "id": "dAUQ1v9zubo1"
      }
    },
    {
      "cell_type": "code",
      "source": [
        "print(\"Classification Report Entrenamiento\")\n",
        "print(classification_report(y_train,QDA_train_pred))\n",
        "print(\"Classification Report Testeo\")\n",
        "print(classification_report(y_test,QDA_test_pred))"
      ],
      "metadata": {
        "id": "V6fBcy8uuasF"
      },
      "execution_count": null,
      "outputs": []
    },
    {
      "cell_type": "markdown",
      "source": [
        "### Variables categóricas\n",
        "\n",
        "Generar variables dummies para la variable \"Education New\"."
      ],
      "metadata": {
        "id": "GXR4V0zNuvI5"
      }
    },
    {
      "cell_type": "code",
      "source": [
        "df_dum=pd.get_dummies(df,columns=[_______],drop_first=True)"
      ],
      "metadata": {
        "id": "PTdhLnxZwW7_"
      },
      "execution_count": null,
      "outputs": []
    },
    {
      "cell_type": "markdown",
      "source": [
        "### Selección de variables de respuesta y covariables\n",
        "\n",
        "Seleccionar las variables numéricas de la base como covariables y la última variable como respuesta:"
      ],
      "metadata": {
        "id": "GE84NxgQwtdt"
      }
    },
    {
      "cell_type": "code",
      "source": [
        "# Elijo las covariables (para LDA y QDA deben ser numéricas)\n",
        "covs=[_______________________________]\n",
        "X=df[covs].copy()\n",
        "# Respuestas\n",
        "y=df[______].copy()\n",
        "# Estandarizar las covariables\n",
        "scaler = StandardScaler()\n",
        "scaler.fit(X)\n",
        "X_sc=scaler.transform(X)"
      ],
      "metadata": {
        "id": "IRkg0D9ixNSa"
      },
      "execution_count": null,
      "outputs": []
    },
    {
      "cell_type": "markdown",
      "source": [
        "#### Partición en Entrenamiento y Testeo"
      ],
      "metadata": {
        "id": "DKCvZLUTwl-t"
      }
    },
    {
      "cell_type": "code",
      "source": [
        "X_sc_train, X_sc_test, y_train, y_test = train_test_split(X_sc, y,test_size=0.2, random_state=42)"
      ],
      "metadata": {
        "id": "Uf1AdGShxbcf"
      },
      "execution_count": null,
      "outputs": []
    },
    {
      "cell_type": "markdown",
      "source": [
        "### LDA\n",
        "\n",
        "#### Inicialización"
      ],
      "metadata": {
        "id": "bdPWR4W7xilt"
      }
    },
    {
      "cell_type": "code",
      "source": [
        "# Inicializo el algoritmo\n",
        "LDA_sc = LinearDiscriminantAnalysis()\n",
        "# Se pasa como argumento los datos de entrenamiento y las respuestas correspondientes\n",
        "LDA_sc.fit(X_sc_train,y_train)"
      ],
      "metadata": {
        "id": "91t5yn98xmyZ"
      },
      "execution_count": null,
      "outputs": []
    },
    {
      "cell_type": "markdown",
      "source": [
        "#### Predicciones"
      ],
      "metadata": {
        "id": "cZM2U_CNxrRG"
      }
    },
    {
      "cell_type": "code",
      "source": [
        "# Predicciones para la base de entrenamiento\n",
        "LDA_sc_train_pred=LDA_sc.predict(X_sc_train)\n",
        "# Predicciones para la base de testeo\n",
        "LDA_sc_test_pred=LDA_sc.predict(X_sc_test)"
      ],
      "metadata": {
        "id": "gLch5kImxuIT"
      },
      "execution_count": null,
      "outputs": []
    },
    {
      "cell_type": "markdown",
      "source": [
        "#### Evaluación\n",
        "\n",
        "\n",
        "##### Matriz de confusión"
      ],
      "metadata": {
        "id": "r20pNSpnxyyw"
      }
    },
    {
      "cell_type": "code",
      "source": [
        "print(\"Matriz de confusión Entrenamiento (Escalado)\")\n",
        "print(confusion_matrix(y_train,LDA_sc_train_pred))\n",
        "print(\"Matriz de confusión Testeo (Escalado)\")\n",
        "print(confusion_matrix(y_test,LDA_sc_test_pred))"
      ],
      "metadata": {
        "id": "SdWRS9syx3N4"
      },
      "execution_count": null,
      "outputs": []
    },
    {
      "cell_type": "markdown",
      "source": [
        "##### Accuracy"
      ],
      "metadata": {
        "id": "2vf43R-fx3vY"
      }
    },
    {
      "cell_type": "code",
      "source": [
        "print(\"Accuracy Entrenamiento (Escalado)\")\n",
        "print(accuracy_score(y_train, LDA_sc_train_pred))\n",
        "print(\"Accuracy Testeo (Escalado)\")\n",
        "print(accuracy_score(y_test, LDA_sc_test_pred))"
      ],
      "metadata": {
        "id": "l-sF5v0gx-e7"
      },
      "execution_count": null,
      "outputs": []
    },
    {
      "cell_type": "markdown",
      "source": [
        "##### Classification Report"
      ],
      "metadata": {
        "id": "dFoiUDs3x-9P"
      }
    },
    {
      "cell_type": "code",
      "source": [
        "print(\"Classification Report Train (Escalado)\")\n",
        "print(classification_report(y_train,LDA_sc_train_pred))\n",
        "print(\"Classification Report Test (Escalado)\")\n",
        "print(classification_report(y_test,LDA_sc_test_pred))"
      ],
      "metadata": {
        "id": "WXkor3tUyC3s"
      },
      "execution_count": null,
      "outputs": []
    },
    {
      "cell_type": "markdown",
      "source": [
        "### QDA\n",
        "\n",
        "#### Inicialización"
      ],
      "metadata": {
        "id": "iIYDXaZ2yLVL"
      }
    },
    {
      "cell_type": "code",
      "source": [
        "QDA_sc = QuadraticDiscriminantAnalysis()\n",
        "QDA_sc.fit(X_sc_train,y_train)"
      ],
      "metadata": {
        "id": "ztOpRY1HyL8u"
      },
      "execution_count": null,
      "outputs": []
    },
    {
      "cell_type": "markdown",
      "source": [
        "#### Predicciones"
      ],
      "metadata": {
        "id": "UKvB4BX3yP4n"
      }
    },
    {
      "cell_type": "code",
      "source": [
        "QDA_sc_train_pred=QDA_sc.predict(X_sc_train)\n",
        "QDA_sc_test_pred=QDA_sc.predict(X_sc_test)"
      ],
      "metadata": {
        "id": "Hd2INaLSyUF8"
      },
      "execution_count": null,
      "outputs": []
    },
    {
      "cell_type": "markdown",
      "source": [
        "#### Evaluación\n",
        "\n",
        "\n",
        "##### Matriz de confusión"
      ],
      "metadata": {
        "id": "dC_XPWVryY15"
      }
    },
    {
      "cell_type": "code",
      "source": [
        "print(\"Matriz de confusión Entrenamiento (Escalado)\")\n",
        "print(confusion_matrix(y_train,QDA_sc_train_pred))\n",
        "print(\"Matriz de confusión Testeo (Escalado)\")\n",
        "print(confusion_matrix(y_test,QDA_sc_test_pred))"
      ],
      "metadata": {
        "id": "x2qMRwjmycd3"
      },
      "execution_count": null,
      "outputs": []
    },
    {
      "cell_type": "markdown",
      "source": [
        "##### Accuracy"
      ],
      "metadata": {
        "id": "32KwSht4ygA_"
      }
    },
    {
      "cell_type": "code",
      "source": [
        "print(\"Accuracy Entrenamiento (Escalado)\")\n",
        "print(accuracy_score(y_train, QDA_sc_train_pred))\n",
        "print(\"Accuracy Testeo (Escalado)\")\n",
        "print(accuracy_score(y_test, QDA_sc_test_pred))"
      ],
      "metadata": {
        "id": "vE-rNZ9Ryjea"
      },
      "execution_count": null,
      "outputs": []
    },
    {
      "cell_type": "markdown",
      "source": [
        "##### Classification Report"
      ],
      "metadata": {
        "id": "5woym55-ymjB"
      }
    },
    {
      "cell_type": "code",
      "source": [
        "print(\"Classification Report Train (Escalado)\")\n",
        "print(classification_report(y_train,QDA_sc_train_pred))\n",
        "print(\"Classification Report Test (Escalado)\")\n",
        "print(classification_report(y_test,QDA_sc_test_pred))"
      ],
      "metadata": {
        "id": "BWkUYfYfyqNY"
      },
      "execution_count": null,
      "outputs": []
    }
  ]
}